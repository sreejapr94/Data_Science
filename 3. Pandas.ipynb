{
 "cells": [
  {
   "cell_type": "markdown",
   "id": "0df7a87b",
   "metadata": {
    "scrolled": false
   },
   "source": [
    "### Install and Import the library "
   ]
  },
  {
   "cell_type": "code",
   "execution_count": null,
   "id": "75fd69ba",
   "metadata": {},
   "outputs": [],
   "source": [
    "pip install pandas"
   ]
  },
  {
   "cell_type": "code",
   "execution_count": null,
   "id": "98dd9c0d",
   "metadata": {
    "scrolled": false
   },
   "outputs": [],
   "source": [
    "import pandas as pd"
   ]
  },
  {
   "cell_type": "markdown",
   "id": "2c4a3b53",
   "metadata": {},
   "source": [
    "### Convert dictionary to dataframe"
   ]
  },
  {
   "cell_type": "code",
   "execution_count": null,
   "id": "3eb5ab1a",
   "metadata": {
    "scrolled": true
   },
   "outputs": [],
   "source": [
    "cars= {\"brand\": \"Ford\",\n",
    "  \"electric\": False,\n",
    "  \"year\": [2020,2021,2029,2018], \n",
    "  \"colors\": [\"red\", \"white\", \"blue\",\"\"],\n",
    "  \"seater\": [5,3,0,5]}\n"
   ]
  },
  {
   "cell_type": "code",
   "execution_count": null,
   "id": "ac72c9d6",
   "metadata": {},
   "outputs": [],
   "source": [
    "pd.DataFrame(cars)"
   ]
  },
  {
   "cell_type": "code",
   "execution_count": null,
   "id": "3bc4e255",
   "metadata": {},
   "outputs": [],
   "source": [
    "cars= {\"brand\": \"Ford\",\n",
    "  \"electric\": False,\n",
    "  \"year\": 2020, \n",
    "  \"colors\": \"red\",\n",
    "  \"seater\": 5}\n"
   ]
  },
  {
   "cell_type": "code",
   "execution_count": null,
   "id": "b0de29a4",
   "metadata": {
    "scrolled": true
   },
   "outputs": [],
   "source": [
    "pd.DataFrame(cars,index=[1])"
   ]
  },
  {
   "cell_type": "code",
   "execution_count": null,
   "id": "40a458ae",
   "metadata": {
    "scrolled": false
   },
   "outputs": [],
   "source": [
    "print(cars)"
   ]
  },
  {
   "cell_type": "code",
   "execution_count": null,
   "id": "ce6c4053",
   "metadata": {},
   "outputs": [],
   "source": [
    "car[\"colors\"]"
   ]
  },
  {
   "cell_type": "code",
   "execution_count": null,
   "id": "0c154955",
   "metadata": {
    "scrolled": true
   },
   "outputs": [],
   "source": [
    "car1= {\"brand\": \"Ford\",\n",
    "  \"electric\": False,\n",
    "  \"year\": 2020, \n",
    "  \"colors\": \"red\",\n",
    "  \"seater\": 5}\n",
    "\n",
    "car2= {\"brand\": \"BMW\",\n",
    "  \"electric\": False,\n",
    "  \"year\": 2021, \n",
    "  \"colors\": \"black\",\n",
    "  \"seater\": 5,\n",
    "  \"engine_no\":3467}\n"
   ]
  },
  {
   "cell_type": "code",
   "execution_count": null,
   "id": "fa7fcb5b",
   "metadata": {
    "scrolled": true
   },
   "outputs": [],
   "source": [
    "\n",
    "vehicle = pd.DataFrame([car1,car2])\n",
    "vehicle"
   ]
  },
  {
   "cell_type": "code",
   "execution_count": null,
   "id": "4ddc7000",
   "metadata": {},
   "outputs": [],
   "source": [
    "car1= {\"brand\": \"Ford\",\n",
    "  \"electric\": False,\n",
    "  \"year\": 2020, \n",
    "  \"seater\": 5}\n",
    "\n",
    "car2= {\"brand\": \"BMW\",\n",
    "  \"electric\": False,\n",
    "  \"year\": 2021, \n",
    "  \"seater\": 4,\n",
    "  \"engine_no\":3467}\n",
    "car3= {\"brand\": \"TATA\",\n",
    "  \"electric\": False,\n",
    "  \"year\": 2018, \n",
    "  \"colors\": \"red\",\n",
    "  \"seater\": 5,\n",
    "  \"engine_no\":45679}\n",
    "car4= {\"brand\": \"Ford\",\n",
    "  \"electric\": True,\n",
    "  \"year\":2023, \n",
    "  \"colors\": \"green\",\n",
    "  \"seater\": 5}"
   ]
  },
  {
   "cell_type": "code",
   "execution_count": null,
   "id": "65fd9bb5",
   "metadata": {
    "scrolled": true
   },
   "outputs": [],
   "source": [
    "vehicle = pd.DataFrame([car1,car2,car3,car4])\n",
    "vehicle"
   ]
  },
  {
   "cell_type": "code",
   "execution_count": null,
   "id": "106c4e16",
   "metadata": {
    "scrolled": false
   },
   "outputs": [],
   "source": [
    "vehicle.info()"
   ]
  },
  {
   "cell_type": "code",
   "execution_count": null,
   "id": "23260c0c",
   "metadata": {},
   "outputs": [],
   "source": [
    "vehicle.describe()"
   ]
  },
  {
   "cell_type": "code",
   "execution_count": null,
   "id": "10d3c373",
   "metadata": {
    "scrolled": false
   },
   "outputs": [],
   "source": [
    "vehicle[\"engine_no\"].max()"
   ]
  },
  {
   "cell_type": "code",
   "execution_count": null,
   "id": "290d4254",
   "metadata": {},
   "outputs": [],
   "source": [
    "vehicle[\"year\"].min()"
   ]
  },
  {
   "cell_type": "code",
   "execution_count": null,
   "id": "219fd9cb",
   "metadata": {},
   "outputs": [],
   "source": [
    "vehicle[\"seater\"].max()"
   ]
  },
  {
   "cell_type": "code",
   "execution_count": null,
   "id": "f30c8ac1",
   "metadata": {},
   "outputs": [],
   "source": [
    "vehicle[\"seater\"].mean()"
   ]
  },
  {
   "cell_type": "code",
   "execution_count": null,
   "id": "d5d4d9f7",
   "metadata": {
    "scrolled": true
   },
   "outputs": [],
   "source": [
    "vehicle[\"engine_no\"].count()"
   ]
  },
  {
   "cell_type": "code",
   "execution_count": null,
   "id": "ff9accef",
   "metadata": {
    "scrolled": true
   },
   "outputs": [],
   "source": [
    "vehicle[\"brand\"].value_counts()"
   ]
  },
  {
   "cell_type": "code",
   "execution_count": null,
   "id": "6cd5ecf2",
   "metadata": {},
   "outputs": [],
   "source": [
    "vehicle.index"
   ]
  },
  {
   "cell_type": "code",
   "execution_count": null,
   "id": "5f02366d",
   "metadata": {},
   "outputs": [],
   "source": [
    "vehicle.columns"
   ]
  },
  {
   "cell_type": "code",
   "execution_count": null,
   "id": "d72bc703",
   "metadata": {},
   "outputs": [],
   "source": [
    "vehicle"
   ]
  },
  {
   "cell_type": "code",
   "execution_count": null,
   "id": "eaa3ff32",
   "metadata": {},
   "outputs": [],
   "source": [
    "vehicle.to_numpy()"
   ]
  },
  {
   "cell_type": "code",
   "execution_count": null,
   "id": "16e2e7bd",
   "metadata": {
    "scrolled": true
   },
   "outputs": [],
   "source": [
    "vehicle.T   # Transform the dataframe"
   ]
  },
  {
   "cell_type": "code",
   "execution_count": null,
   "id": "f8ed01d7",
   "metadata": {},
   "outputs": [],
   "source": [
    "vehicle"
   ]
  },
  {
   "cell_type": "code",
   "execution_count": null,
   "id": "9fc9a93f",
   "metadata": {},
   "outputs": [],
   "source": [
    "vehicle.sort_index(axis=1, ascending=False)"
   ]
  },
  {
   "cell_type": "code",
   "execution_count": null,
   "id": "1d5231b5",
   "metadata": {},
   "outputs": [],
   "source": [
    "vehicle.sort_index(axis=0, ascending=False)"
   ]
  },
  {
   "cell_type": "code",
   "execution_count": null,
   "id": "4160b8c3",
   "metadata": {},
   "outputs": [],
   "source": [
    "vehicle.sort_values(by=\"brand\",ascending=False)"
   ]
  },
  {
   "cell_type": "code",
   "execution_count": null,
   "id": "37c59ef0",
   "metadata": {
    "scrolled": true
   },
   "outputs": [],
   "source": [
    "vehicle.sort_values(by=\"year\",ascending=False)"
   ]
  },
  {
   "cell_type": "code",
   "execution_count": null,
   "id": "cde66e0f",
   "metadata": {},
   "outputs": [],
   "source": [
    "vehicle"
   ]
  },
  {
   "cell_type": "code",
   "execution_count": null,
   "id": "4aa78f57",
   "metadata": {
    "scrolled": false
   },
   "outputs": [],
   "source": [
    "vehicle[:3]"
   ]
  },
  {
   "cell_type": "code",
   "execution_count": null,
   "id": "94499f68",
   "metadata": {},
   "outputs": [],
   "source": [
    "vehicle[[\"brand\",\"colors\"]]"
   ]
  },
  {
   "cell_type": "code",
   "execution_count": null,
   "id": "a9fb147a",
   "metadata": {},
   "outputs": [],
   "source": [
    "vehicle[\"brand\"]"
   ]
  },
  {
   "cell_type": "code",
   "execution_count": null,
   "id": "33060dc2",
   "metadata": {
    "scrolled": true
   },
   "outputs": [],
   "source": [
    "vehicle.loc[:,\"brand\"]"
   ]
  },
  {
   "cell_type": "code",
   "execution_count": null,
   "id": "74f2556a",
   "metadata": {
    "scrolled": true
   },
   "outputs": [],
   "source": [
    "vehicle.loc[:,\"seater\"]+5"
   ]
  },
  {
   "cell_type": "code",
   "execution_count": null,
   "id": "9294f762",
   "metadata": {
    "scrolled": false
   },
   "outputs": [],
   "source": [
    "vehicle[\"seater\"]+5"
   ]
  },
  {
   "cell_type": "code",
   "execution_count": null,
   "id": "ff7cbf91",
   "metadata": {},
   "outputs": [],
   "source": [
    "vehicle.loc[:,[\"brand\",'seater']]"
   ]
  },
  {
   "cell_type": "code",
   "execution_count": null,
   "id": "2f2c48f3",
   "metadata": {
    "scrolled": true
   },
   "outputs": [],
   "source": [
    "vehicle.loc[3,\"seater\"]"
   ]
  },
  {
   "cell_type": "code",
   "execution_count": null,
   "id": "313180de",
   "metadata": {
    "scrolled": true
   },
   "outputs": [],
   "source": [
    "vehicle.at[1,\"engine_no\"]"
   ]
  },
  {
   "cell_type": "markdown",
   "id": "137b0480",
   "metadata": {},
   "source": [
    "### Selection by position"
   ]
  },
  {
   "cell_type": "code",
   "execution_count": null,
   "id": "e086d1b8",
   "metadata": {},
   "outputs": [],
   "source": [
    "vehicle.iloc[3]"
   ]
  },
  {
   "cell_type": "code",
   "execution_count": null,
   "id": "689d952f",
   "metadata": {
    "scrolled": true
   },
   "outputs": [],
   "source": [
    "vehicle.iloc[3,5]"
   ]
  },
  {
   "cell_type": "code",
   "execution_count": null,
   "id": "11acf5b2",
   "metadata": {
    "scrolled": true
   },
   "outputs": [],
   "source": [
    "vehicle"
   ]
  },
  {
   "cell_type": "code",
   "execution_count": null,
   "id": "9283843c",
   "metadata": {},
   "outputs": [],
   "source": [
    "vehicle.iloc[[1,3]]"
   ]
  },
  {
   "cell_type": "code",
   "execution_count": null,
   "id": "6b61e9d5",
   "metadata": {},
   "outputs": [],
   "source": [
    "vehicle.iloc[[1,3],2:5]"
   ]
  },
  {
   "cell_type": "code",
   "execution_count": null,
   "id": "b7f76d96",
   "metadata": {},
   "outputs": [],
   "source": [
    "vehicle.iloc[[1,3],:]\n"
   ]
  },
  {
   "cell_type": "code",
   "execution_count": null,
   "id": "9844c824",
   "metadata": {},
   "outputs": [],
   "source": [
    "vehicle.iat[1,4]"
   ]
  },
  {
   "cell_type": "code",
   "execution_count": null,
   "id": "87f56622",
   "metadata": {},
   "outputs": [],
   "source": [
    "vehicle"
   ]
  },
  {
   "cell_type": "code",
   "execution_count": null,
   "id": "4f85a923",
   "metadata": {},
   "outputs": [],
   "source": [
    "vehicle[\"Transmission\"]=[\"Automatic\",\"Manual\",\"Manual\",\"Manual\"]"
   ]
  },
  {
   "cell_type": "code",
   "execution_count": null,
   "id": "b2010592",
   "metadata": {
    "scrolled": true
   },
   "outputs": [],
   "source": [
    "vehicle"
   ]
  },
  {
   "cell_type": "markdown",
   "id": "2cdf3445",
   "metadata": {},
   "source": [
    "## Filtering/Slicing the data "
   ]
  },
  {
   "cell_type": "code",
   "execution_count": null,
   "id": "0a4e8a0e",
   "metadata": {
    "scrolled": true
   },
   "outputs": [],
   "source": [
    "vehicle[vehicle[\"Transmission\"]==\"Manual\"]"
   ]
  },
  {
   "cell_type": "code",
   "execution_count": null,
   "id": "2a729f49",
   "metadata": {},
   "outputs": [],
   "source": [
    "vehicle[vehicle[\"year\"]>=2020]"
   ]
  },
  {
   "cell_type": "code",
   "execution_count": null,
   "id": "68d623aa",
   "metadata": {},
   "outputs": [],
   "source": [
    "vehicle[vehicle[\"Year\"]==\"2021\"]\n"
   ]
  },
  {
   "cell_type": "code",
   "execution_count": null,
   "id": "7729ee06",
   "metadata": {
    "scrolled": false
   },
   "outputs": [],
   "source": [
    "vehicle[vehicle[\"electric\"]==False]"
   ]
  },
  {
   "cell_type": "markdown",
   "id": "00ceff3b",
   "metadata": {},
   "source": [
    "### Indexing"
   ]
  },
  {
   "cell_type": "code",
   "execution_count": null,
   "id": "990155c9",
   "metadata": {},
   "outputs": [],
   "source": [
    "car1= {\"brand\": \"Ford\",\n",
    "  \"electric\": False,\n",
    "  \"year\": 2020, \n",
    "  \"seater\": 5}\n",
    "\n",
    "car2= {\"brand\": \"BMW\",\n",
    "  \"electric\": False,\n",
    "  \"year\": 2021, \n",
    "  \"seater\": 4,\n",
    "  \"engine_no\":3467}\n",
    "car3= {\"brand\": \"TATA\",\n",
    "  \"electric\": False,\n",
    "  \"year\": 2018, \n",
    "  \"colors\": \"red\",\n",
    "  \"seater\": 5,\n",
    "  \"engine_no\":45679}\n",
    "car4= {\"brand\": \"Ford\",\n",
    "  \"electric\": True,\n",
    "  \"year\": 2023, \n",
    "  \"colors\": \"green\",\n",
    "  \"seater\": 5}"
   ]
  },
  {
   "cell_type": "code",
   "execution_count": null,
   "id": "b18e1e18",
   "metadata": {},
   "outputs": [],
   "source": [
    "s_no = [\"V123\",\"V124\",\"V135\",\"V126\"]"
   ]
  },
  {
   "cell_type": "code",
   "execution_count": null,
   "id": "1f77383a",
   "metadata": {},
   "outputs": [],
   "source": [
    "vehicle = pd.DataFrame([car1,car2,car3,car4],index=s_no)"
   ]
  },
  {
   "cell_type": "code",
   "execution_count": null,
   "id": "2eb1ee68",
   "metadata": {
    "scrolled": false
   },
   "outputs": [],
   "source": [
    "vehicle"
   ]
  },
  {
   "cell_type": "code",
   "execution_count": null,
   "id": "b9e44b53",
   "metadata": {},
   "outputs": [],
   "source": [
    "vehicle.loc[\"V123\"]"
   ]
  },
  {
   "cell_type": "code",
   "execution_count": null,
   "id": "8ea447bb",
   "metadata": {},
   "outputs": [],
   "source": [
    "vehicle.loc[[\"V123\",\"V126\"]]"
   ]
  },
  {
   "cell_type": "code",
   "execution_count": null,
   "id": "6036940d",
   "metadata": {},
   "outputs": [],
   "source": []
  },
  {
   "cell_type": "markdown",
   "id": "c3840709",
   "metadata": {},
   "source": [
    "### Convert List to Data frame"
   ]
  },
  {
   "cell_type": "code",
   "execution_count": null,
   "id": "1f30a94e",
   "metadata": {
    "scrolled": false
   },
   "outputs": [],
   "source": [
    "import pandas as pd\n",
    "\n",
    "List = [2,3,4,5,6,7]\n",
    "\n",
    "var = pd.Series(List)\n",
    "\n",
    "print(var)"
   ]
  },
  {
   "cell_type": "code",
   "execution_count": null,
   "id": "112a15c2",
   "metadata": {},
   "outputs": [],
   "source": [
    "var[3]"
   ]
  },
  {
   "cell_type": "code",
   "execution_count": null,
   "id": "ae4a1ff4",
   "metadata": {
    "scrolled": true
   },
   "outputs": [],
   "source": []
  },
  {
   "cell_type": "code",
   "execution_count": null,
   "id": "8177d58b",
   "metadata": {
    "scrolled": false
   },
   "outputs": [],
   "source": [
    "\n",
    "import pandas as pd\n",
    "\n",
    "s = [2,3,4,5,6,7]\n",
    "\n",
    "var = pd.Series(s,index = [\"a\", \"b\", \"c\",\"d\",\"e\",\"f\"])\n",
    "\n",
    "print(var)"
   ]
  },
  {
   "cell_type": "code",
   "execution_count": null,
   "id": "3b5a1996",
   "metadata": {
    "scrolled": true
   },
   "outputs": [],
   "source": [
    "print(var[\"c\"])"
   ]
  },
  {
   "cell_type": "markdown",
   "id": "1443dad4",
   "metadata": {},
   "source": [
    "# CSV FILES IN PANDAS"
   ]
  },
  {
   "cell_type": "code",
   "execution_count": 2,
   "id": "f029638f",
   "metadata": {},
   "outputs": [],
   "source": [
    "import pandas as pd"
   ]
  },
  {
   "cell_type": "code",
   "execution_count": 3,
   "id": "1cf83743",
   "metadata": {
    "scrolled": false
   },
   "outputs": [],
   "source": [
    "data = pd.read_csv(\"taxdata.csv\")"
   ]
  },
  {
   "cell_type": "code",
   "execution_count": 4,
   "id": "a0d5279a",
   "metadata": {},
   "outputs": [
    {
     "name": "stdout",
     "output_type": "stream",
     "text": [
      "<class 'pandas.core.frame.DataFrame'>\n",
      "RangeIndex: 165 entries, 0 to 164\n",
      "Data columns (total 8 columns):\n",
      " #   Column          Non-Null Count  Dtype  \n",
      "---  ------          --------------  -----  \n",
      " 0   Account Type    165 non-null    object \n",
      " 1   Account Group   165 non-null    int64  \n",
      " 2   Account Number  165 non-null    int64  \n",
      " 3   Category        165 non-null    object \n",
      " 4   Location        165 non-null    object \n",
      " 5   Year            165 non-null    int64  \n",
      " 6   Collection      165 non-null    object \n",
      " 7   tax             165 non-null    float64\n",
      "dtypes: float64(1), int64(3), object(4)\n",
      "memory usage: 10.4+ KB\n"
     ]
    }
   ],
   "source": [
    "data.info()"
   ]
  },
  {
   "cell_type": "code",
   "execution_count": 5,
   "id": "2cc461b6",
   "metadata": {
    "scrolled": true
   },
   "outputs": [
    {
     "data": {
      "text/html": [
       "<div>\n",
       "<style scoped>\n",
       "    .dataframe tbody tr th:only-of-type {\n",
       "        vertical-align: middle;\n",
       "    }\n",
       "\n",
       "    .dataframe tbody tr th {\n",
       "        vertical-align: top;\n",
       "    }\n",
       "\n",
       "    .dataframe thead th {\n",
       "        text-align: right;\n",
       "    }\n",
       "</style>\n",
       "<table border=\"1\" class=\"dataframe\">\n",
       "  <thead>\n",
       "    <tr style=\"text-align: right;\">\n",
       "      <th></th>\n",
       "      <th>Account Type</th>\n",
       "      <th>Account Group</th>\n",
       "      <th>Account Number</th>\n",
       "      <th>Category</th>\n",
       "      <th>Location</th>\n",
       "      <th>Year</th>\n",
       "      <th>Collection</th>\n",
       "      <th>tax</th>\n",
       "    </tr>\n",
       "  </thead>\n",
       "  <tbody>\n",
       "    <tr>\n",
       "      <th>0</th>\n",
       "      <td>VAT</td>\n",
       "      <td>500</td>\n",
       "      <td>50021</td>\n",
       "      <td>Asia</td>\n",
       "      <td>India</td>\n",
       "      <td>2022</td>\n",
       "      <td>97,841</td>\n",
       "      <td>17611.38</td>\n",
       "    </tr>\n",
       "    <tr>\n",
       "      <th>1</th>\n",
       "      <td>VAT</td>\n",
       "      <td>500</td>\n",
       "      <td>50021</td>\n",
       "      <td>Asia</td>\n",
       "      <td>UAE</td>\n",
       "      <td>2018</td>\n",
       "      <td>27,652</td>\n",
       "      <td>4977.36</td>\n",
       "    </tr>\n",
       "    <tr>\n",
       "      <th>2</th>\n",
       "      <td>VAT</td>\n",
       "      <td>500</td>\n",
       "      <td>50021</td>\n",
       "      <td>Asia</td>\n",
       "      <td>India</td>\n",
       "      <td>2019</td>\n",
       "      <td>83,770</td>\n",
       "      <td>15078.60</td>\n",
       "    </tr>\n",
       "    <tr>\n",
       "      <th>3</th>\n",
       "      <td>VAT</td>\n",
       "      <td>500</td>\n",
       "      <td>50021</td>\n",
       "      <td>Asia</td>\n",
       "      <td>UAE</td>\n",
       "      <td>2022</td>\n",
       "      <td>49,229</td>\n",
       "      <td>8861.22</td>\n",
       "    </tr>\n",
       "    <tr>\n",
       "      <th>4</th>\n",
       "      <td>VAT</td>\n",
       "      <td>500</td>\n",
       "      <td>50021</td>\n",
       "      <td>Asia</td>\n",
       "      <td>India</td>\n",
       "      <td>2018</td>\n",
       "      <td>17,539</td>\n",
       "      <td>3157.02</td>\n",
       "    </tr>\n",
       "  </tbody>\n",
       "</table>\n",
       "</div>"
      ],
      "text/plain": [
       "  Account Type  Account Group  Account Number Category Location   Year  \\\n",
       "0          VAT            500           50021     Asia     India  2022   \n",
       "1          VAT            500           50021     Asia       UAE  2018   \n",
       "2          VAT            500           50021     Asia     India  2019   \n",
       "3          VAT            500           50021     Asia       UAE  2022   \n",
       "4          VAT            500           50021     Asia     India  2018   \n",
       "\n",
       "  Collection       tax  \n",
       "0     97,841  17611.38  \n",
       "1     27,652   4977.36  \n",
       "2     83,770  15078.60  \n",
       "3     49,229   8861.22  \n",
       "4     17,539   3157.02  "
      ]
     },
     "execution_count": 5,
     "metadata": {},
     "output_type": "execute_result"
    }
   ],
   "source": [
    "data.head()"
   ]
  },
  {
   "cell_type": "code",
   "execution_count": 6,
   "id": "4a840d92",
   "metadata": {},
   "outputs": [
    {
     "data": {
      "text/html": [
       "<div>\n",
       "<style scoped>\n",
       "    .dataframe tbody tr th:only-of-type {\n",
       "        vertical-align: middle;\n",
       "    }\n",
       "\n",
       "    .dataframe tbody tr th {\n",
       "        vertical-align: top;\n",
       "    }\n",
       "\n",
       "    .dataframe thead th {\n",
       "        text-align: right;\n",
       "    }\n",
       "</style>\n",
       "<table border=\"1\" class=\"dataframe\">\n",
       "  <thead>\n",
       "    <tr style=\"text-align: right;\">\n",
       "      <th></th>\n",
       "      <th>Account Type</th>\n",
       "      <th>Account Group</th>\n",
       "      <th>Account Number</th>\n",
       "      <th>Category</th>\n",
       "      <th>Location</th>\n",
       "      <th>Year</th>\n",
       "      <th>Collection</th>\n",
       "      <th>tax</th>\n",
       "    </tr>\n",
       "  </thead>\n",
       "  <tbody>\n",
       "    <tr>\n",
       "      <th>0</th>\n",
       "      <td>VAT</td>\n",
       "      <td>500</td>\n",
       "      <td>50021</td>\n",
       "      <td>Asia</td>\n",
       "      <td>India</td>\n",
       "      <td>2022</td>\n",
       "      <td>97,841</td>\n",
       "      <td>17611.38</td>\n",
       "    </tr>\n",
       "    <tr>\n",
       "      <th>1</th>\n",
       "      <td>VAT</td>\n",
       "      <td>500</td>\n",
       "      <td>50021</td>\n",
       "      <td>Asia</td>\n",
       "      <td>UAE</td>\n",
       "      <td>2018</td>\n",
       "      <td>27,652</td>\n",
       "      <td>4977.36</td>\n",
       "    </tr>\n",
       "    <tr>\n",
       "      <th>2</th>\n",
       "      <td>VAT</td>\n",
       "      <td>500</td>\n",
       "      <td>50021</td>\n",
       "      <td>Asia</td>\n",
       "      <td>India</td>\n",
       "      <td>2019</td>\n",
       "      <td>83,770</td>\n",
       "      <td>15078.60</td>\n",
       "    </tr>\n",
       "    <tr>\n",
       "      <th>3</th>\n",
       "      <td>VAT</td>\n",
       "      <td>500</td>\n",
       "      <td>50021</td>\n",
       "      <td>Asia</td>\n",
       "      <td>UAE</td>\n",
       "      <td>2022</td>\n",
       "      <td>49,229</td>\n",
       "      <td>8861.22</td>\n",
       "    </tr>\n",
       "    <tr>\n",
       "      <th>4</th>\n",
       "      <td>VAT</td>\n",
       "      <td>500</td>\n",
       "      <td>50021</td>\n",
       "      <td>Asia</td>\n",
       "      <td>India</td>\n",
       "      <td>2018</td>\n",
       "      <td>17,539</td>\n",
       "      <td>3157.02</td>\n",
       "    </tr>\n",
       "    <tr>\n",
       "      <th>...</th>\n",
       "      <td>...</td>\n",
       "      <td>...</td>\n",
       "      <td>...</td>\n",
       "      <td>...</td>\n",
       "      <td>...</td>\n",
       "      <td>...</td>\n",
       "      <td>...</td>\n",
       "      <td>...</td>\n",
       "    </tr>\n",
       "    <tr>\n",
       "      <th>160</th>\n",
       "      <td>Corporate Tax</td>\n",
       "      <td>600</td>\n",
       "      <td>60042</td>\n",
       "      <td>North America</td>\n",
       "      <td>USA</td>\n",
       "      <td>2022</td>\n",
       "      <td>48,461</td>\n",
       "      <td>12115.25</td>\n",
       "    </tr>\n",
       "    <tr>\n",
       "      <th>161</th>\n",
       "      <td>Corporate Tax</td>\n",
       "      <td>600</td>\n",
       "      <td>60042</td>\n",
       "      <td>North America</td>\n",
       "      <td>USA</td>\n",
       "      <td>2020</td>\n",
       "      <td>24,574</td>\n",
       "      <td>6143.50</td>\n",
       "    </tr>\n",
       "    <tr>\n",
       "      <th>162</th>\n",
       "      <td>Corporate Tax</td>\n",
       "      <td>600</td>\n",
       "      <td>60042</td>\n",
       "      <td>North America</td>\n",
       "      <td>Canada</td>\n",
       "      <td>2022</td>\n",
       "      <td>45,276</td>\n",
       "      <td>11319.00</td>\n",
       "    </tr>\n",
       "    <tr>\n",
       "      <th>163</th>\n",
       "      <td>Corporate Tax</td>\n",
       "      <td>600</td>\n",
       "      <td>60042</td>\n",
       "      <td>North America</td>\n",
       "      <td>USA</td>\n",
       "      <td>2021</td>\n",
       "      <td>23,736</td>\n",
       "      <td>5934.00</td>\n",
       "    </tr>\n",
       "    <tr>\n",
       "      <th>164</th>\n",
       "      <td>Corporate Tax</td>\n",
       "      <td>600</td>\n",
       "      <td>60042</td>\n",
       "      <td>North America</td>\n",
       "      <td>USA</td>\n",
       "      <td>2022</td>\n",
       "      <td>36,999</td>\n",
       "      <td>9249.75</td>\n",
       "    </tr>\n",
       "  </tbody>\n",
       "</table>\n",
       "<p>165 rows × 8 columns</p>\n",
       "</div>"
      ],
      "text/plain": [
       "      Account Type  Account Group  Account Number       Category Location   \\\n",
       "0              VAT            500           50021           Asia     India   \n",
       "1              VAT            500           50021           Asia       UAE   \n",
       "2              VAT            500           50021           Asia     India   \n",
       "3              VAT            500           50021           Asia       UAE   \n",
       "4              VAT            500           50021           Asia     India   \n",
       "..             ...            ...             ...            ...       ...   \n",
       "160  Corporate Tax            600           60042  North America       USA   \n",
       "161  Corporate Tax            600           60042  North America       USA   \n",
       "162  Corporate Tax            600           60042  North America    Canada   \n",
       "163  Corporate Tax            600           60042  North America       USA   \n",
       "164  Corporate Tax            600           60042  North America       USA   \n",
       "\n",
       "     Year Collection       tax  \n",
       "0    2022     97,841  17611.38  \n",
       "1    2018     27,652   4977.36  \n",
       "2    2019     83,770  15078.60  \n",
       "3    2022     49,229   8861.22  \n",
       "4    2018     17,539   3157.02  \n",
       "..    ...        ...       ...  \n",
       "160  2022     48,461  12115.25  \n",
       "161  2020     24,574   6143.50  \n",
       "162  2022     45,276  11319.00  \n",
       "163  2021     23,736   5934.00  \n",
       "164  2022     36,999   9249.75  \n",
       "\n",
       "[165 rows x 8 columns]"
      ]
     },
     "execution_count": 6,
     "metadata": {},
     "output_type": "execute_result"
    }
   ],
   "source": [
    "data"
   ]
  },
  {
   "cell_type": "code",
   "execution_count": 7,
   "id": "df0411f1",
   "metadata": {
    "scrolled": true
   },
   "outputs": [
    {
     "data": {
      "text/html": [
       "<div>\n",
       "<style scoped>\n",
       "    .dataframe tbody tr th:only-of-type {\n",
       "        vertical-align: middle;\n",
       "    }\n",
       "\n",
       "    .dataframe tbody tr th {\n",
       "        vertical-align: top;\n",
       "    }\n",
       "\n",
       "    .dataframe thead th {\n",
       "        text-align: right;\n",
       "    }\n",
       "</style>\n",
       "<table border=\"1\" class=\"dataframe\">\n",
       "  <thead>\n",
       "    <tr style=\"text-align: right;\">\n",
       "      <th></th>\n",
       "      <th>Account Type</th>\n",
       "      <th>Account Group</th>\n",
       "      <th>Account Number</th>\n",
       "      <th>Category</th>\n",
       "      <th>Location</th>\n",
       "      <th>Year</th>\n",
       "      <th>Collection</th>\n",
       "      <th>tax</th>\n",
       "    </tr>\n",
       "  </thead>\n",
       "  <tbody>\n",
       "    <tr>\n",
       "      <th>160</th>\n",
       "      <td>Corporate Tax</td>\n",
       "      <td>600</td>\n",
       "      <td>60042</td>\n",
       "      <td>North America</td>\n",
       "      <td>USA</td>\n",
       "      <td>2022</td>\n",
       "      <td>48,461</td>\n",
       "      <td>12115.25</td>\n",
       "    </tr>\n",
       "    <tr>\n",
       "      <th>161</th>\n",
       "      <td>Corporate Tax</td>\n",
       "      <td>600</td>\n",
       "      <td>60042</td>\n",
       "      <td>North America</td>\n",
       "      <td>USA</td>\n",
       "      <td>2020</td>\n",
       "      <td>24,574</td>\n",
       "      <td>6143.50</td>\n",
       "    </tr>\n",
       "    <tr>\n",
       "      <th>162</th>\n",
       "      <td>Corporate Tax</td>\n",
       "      <td>600</td>\n",
       "      <td>60042</td>\n",
       "      <td>North America</td>\n",
       "      <td>Canada</td>\n",
       "      <td>2022</td>\n",
       "      <td>45,276</td>\n",
       "      <td>11319.00</td>\n",
       "    </tr>\n",
       "    <tr>\n",
       "      <th>163</th>\n",
       "      <td>Corporate Tax</td>\n",
       "      <td>600</td>\n",
       "      <td>60042</td>\n",
       "      <td>North America</td>\n",
       "      <td>USA</td>\n",
       "      <td>2021</td>\n",
       "      <td>23,736</td>\n",
       "      <td>5934.00</td>\n",
       "    </tr>\n",
       "    <tr>\n",
       "      <th>164</th>\n",
       "      <td>Corporate Tax</td>\n",
       "      <td>600</td>\n",
       "      <td>60042</td>\n",
       "      <td>North America</td>\n",
       "      <td>USA</td>\n",
       "      <td>2022</td>\n",
       "      <td>36,999</td>\n",
       "      <td>9249.75</td>\n",
       "    </tr>\n",
       "  </tbody>\n",
       "</table>\n",
       "</div>"
      ],
      "text/plain": [
       "      Account Type  Account Group  Account Number       Category Location   \\\n",
       "160  Corporate Tax            600           60042  North America       USA   \n",
       "161  Corporate Tax            600           60042  North America       USA   \n",
       "162  Corporate Tax            600           60042  North America    Canada   \n",
       "163  Corporate Tax            600           60042  North America       USA   \n",
       "164  Corporate Tax            600           60042  North America       USA   \n",
       "\n",
       "     Year Collection       tax  \n",
       "160  2022     48,461  12115.25  \n",
       "161  2020     24,574   6143.50  \n",
       "162  2022     45,276  11319.00  \n",
       "163  2021     23,736   5934.00  \n",
       "164  2022     36,999   9249.75  "
      ]
     },
     "execution_count": 7,
     "metadata": {},
     "output_type": "execute_result"
    }
   ],
   "source": [
    "data.tail()"
   ]
  },
  {
   "cell_type": "code",
   "execution_count": 8,
   "id": "d4dedb9f",
   "metadata": {
    "scrolled": false
   },
   "outputs": [
    {
     "name": "stdout",
     "output_type": "stream",
     "text": [
      "<class 'pandas.core.frame.DataFrame'>\n",
      "RangeIndex: 165 entries, 0 to 164\n",
      "Data columns (total 8 columns):\n",
      " #   Column          Non-Null Count  Dtype  \n",
      "---  ------          --------------  -----  \n",
      " 0   Account Type    165 non-null    object \n",
      " 1   Account Group   165 non-null    int64  \n",
      " 2   Account Number  165 non-null    int64  \n",
      " 3   Category        165 non-null    object \n",
      " 4   Location        165 non-null    object \n",
      " 5   Year            165 non-null    int64  \n",
      " 6   Collection      165 non-null    object \n",
      " 7   tax             165 non-null    float64\n",
      "dtypes: float64(1), int64(3), object(4)\n",
      "memory usage: 10.4+ KB\n"
     ]
    }
   ],
   "source": [
    "data.info()"
   ]
  },
  {
   "cell_type": "code",
   "execution_count": 9,
   "id": "947c9c81",
   "metadata": {
    "scrolled": true
   },
   "outputs": [
    {
     "data": {
      "text/html": [
       "<div>\n",
       "<style scoped>\n",
       "    .dataframe tbody tr th:only-of-type {\n",
       "        vertical-align: middle;\n",
       "    }\n",
       "\n",
       "    .dataframe tbody tr th {\n",
       "        vertical-align: top;\n",
       "    }\n",
       "\n",
       "    .dataframe thead th {\n",
       "        text-align: right;\n",
       "    }\n",
       "</style>\n",
       "<table border=\"1\" class=\"dataframe\">\n",
       "  <thead>\n",
       "    <tr style=\"text-align: right;\">\n",
       "      <th></th>\n",
       "      <th>Account Group</th>\n",
       "      <th>Account Number</th>\n",
       "      <th>Year</th>\n",
       "      <th>tax</th>\n",
       "    </tr>\n",
       "  </thead>\n",
       "  <tbody>\n",
       "    <tr>\n",
       "      <th>count</th>\n",
       "      <td>165.000000</td>\n",
       "      <td>165.000000</td>\n",
       "      <td>165.000000</td>\n",
       "      <td>165.000000</td>\n",
       "    </tr>\n",
       "    <tr>\n",
       "      <th>mean</th>\n",
       "      <td>512.727273</td>\n",
       "      <td>51296.769697</td>\n",
       "      <td>2021.030303</td>\n",
       "      <td>13073.692424</td>\n",
       "    </tr>\n",
       "    <tr>\n",
       "      <th>std</th>\n",
       "      <td>33.429278</td>\n",
       "      <td>3349.605737</td>\n",
       "      <td>1.407403</td>\n",
       "      <td>16330.950800</td>\n",
       "    </tr>\n",
       "    <tr>\n",
       "      <th>min</th>\n",
       "      <td>500.000000</td>\n",
       "      <td>50021.000000</td>\n",
       "      <td>2018.000000</td>\n",
       "      <td>2167.200000</td>\n",
       "    </tr>\n",
       "    <tr>\n",
       "      <th>25%</th>\n",
       "      <td>500.000000</td>\n",
       "      <td>50021.000000</td>\n",
       "      <td>2020.000000</td>\n",
       "      <td>6607.440000</td>\n",
       "    </tr>\n",
       "    <tr>\n",
       "      <th>50%</th>\n",
       "      <td>500.000000</td>\n",
       "      <td>50022.000000</td>\n",
       "      <td>2022.000000</td>\n",
       "      <td>10743.800000</td>\n",
       "    </tr>\n",
       "    <tr>\n",
       "      <th>75%</th>\n",
       "      <td>500.000000</td>\n",
       "      <td>50022.000000</td>\n",
       "      <td>2022.000000</td>\n",
       "      <td>15847.560000</td>\n",
       "    </tr>\n",
       "    <tr>\n",
       "      <th>max</th>\n",
       "      <td>600.000000</td>\n",
       "      <td>60042.000000</td>\n",
       "      <td>2022.000000</td>\n",
       "      <td>151200.000000</td>\n",
       "    </tr>\n",
       "  </tbody>\n",
       "</table>\n",
       "</div>"
      ],
      "text/plain": [
       "       Account Group  Account Number         Year            tax\n",
       "count     165.000000      165.000000   165.000000     165.000000\n",
       "mean      512.727273    51296.769697  2021.030303   13073.692424\n",
       "std        33.429278     3349.605737     1.407403   16330.950800\n",
       "min       500.000000    50021.000000  2018.000000    2167.200000\n",
       "25%       500.000000    50021.000000  2020.000000    6607.440000\n",
       "50%       500.000000    50022.000000  2022.000000   10743.800000\n",
       "75%       500.000000    50022.000000  2022.000000   15847.560000\n",
       "max       600.000000    60042.000000  2022.000000  151200.000000"
      ]
     },
     "execution_count": 9,
     "metadata": {},
     "output_type": "execute_result"
    }
   ],
   "source": [
    "data.describe()"
   ]
  },
  {
   "cell_type": "code",
   "execution_count": 10,
   "id": "59ac0002",
   "metadata": {
    "scrolled": false
   },
   "outputs": [
    {
     "data": {
      "text/html": [
       "<div>\n",
       "<style scoped>\n",
       "    .dataframe tbody tr th:only-of-type {\n",
       "        vertical-align: middle;\n",
       "    }\n",
       "\n",
       "    .dataframe tbody tr th {\n",
       "        vertical-align: top;\n",
       "    }\n",
       "\n",
       "    .dataframe thead th {\n",
       "        text-align: right;\n",
       "    }\n",
       "</style>\n",
       "<table border=\"1\" class=\"dataframe\">\n",
       "  <thead>\n",
       "    <tr style=\"text-align: right;\">\n",
       "      <th></th>\n",
       "      <th>Account Type</th>\n",
       "      <th>Account Group</th>\n",
       "      <th>Account Number</th>\n",
       "      <th>Category</th>\n",
       "      <th>Location</th>\n",
       "      <th>Year</th>\n",
       "      <th>Collection</th>\n",
       "      <th>tax</th>\n",
       "    </tr>\n",
       "  </thead>\n",
       "  <tbody>\n",
       "    <tr>\n",
       "      <th>0</th>\n",
       "      <td>VAT</td>\n",
       "      <td>500</td>\n",
       "      <td>50021</td>\n",
       "      <td>Asia</td>\n",
       "      <td>India</td>\n",
       "      <td>2022</td>\n",
       "      <td>97841</td>\n",
       "      <td>17611.38</td>\n",
       "    </tr>\n",
       "    <tr>\n",
       "      <th>1</th>\n",
       "      <td>VAT</td>\n",
       "      <td>500</td>\n",
       "      <td>50021</td>\n",
       "      <td>Asia</td>\n",
       "      <td>UAE</td>\n",
       "      <td>2018</td>\n",
       "      <td>27652</td>\n",
       "      <td>4977.36</td>\n",
       "    </tr>\n",
       "    <tr>\n",
       "      <th>2</th>\n",
       "      <td>VAT</td>\n",
       "      <td>500</td>\n",
       "      <td>50021</td>\n",
       "      <td>Asia</td>\n",
       "      <td>India</td>\n",
       "      <td>2019</td>\n",
       "      <td>83770</td>\n",
       "      <td>15078.60</td>\n",
       "    </tr>\n",
       "    <tr>\n",
       "      <th>3</th>\n",
       "      <td>VAT</td>\n",
       "      <td>500</td>\n",
       "      <td>50021</td>\n",
       "      <td>Asia</td>\n",
       "      <td>UAE</td>\n",
       "      <td>2022</td>\n",
       "      <td>49229</td>\n",
       "      <td>8861.22</td>\n",
       "    </tr>\n",
       "    <tr>\n",
       "      <th>4</th>\n",
       "      <td>VAT</td>\n",
       "      <td>500</td>\n",
       "      <td>50021</td>\n",
       "      <td>Asia</td>\n",
       "      <td>India</td>\n",
       "      <td>2018</td>\n",
       "      <td>17539</td>\n",
       "      <td>3157.02</td>\n",
       "    </tr>\n",
       "    <tr>\n",
       "      <th>...</th>\n",
       "      <td>...</td>\n",
       "      <td>...</td>\n",
       "      <td>...</td>\n",
       "      <td>...</td>\n",
       "      <td>...</td>\n",
       "      <td>...</td>\n",
       "      <td>...</td>\n",
       "      <td>...</td>\n",
       "    </tr>\n",
       "    <tr>\n",
       "      <th>160</th>\n",
       "      <td>Corporate Tax</td>\n",
       "      <td>600</td>\n",
       "      <td>60042</td>\n",
       "      <td>North America</td>\n",
       "      <td>USA</td>\n",
       "      <td>2022</td>\n",
       "      <td>48461</td>\n",
       "      <td>12115.25</td>\n",
       "    </tr>\n",
       "    <tr>\n",
       "      <th>161</th>\n",
       "      <td>Corporate Tax</td>\n",
       "      <td>600</td>\n",
       "      <td>60042</td>\n",
       "      <td>North America</td>\n",
       "      <td>USA</td>\n",
       "      <td>2020</td>\n",
       "      <td>24574</td>\n",
       "      <td>6143.50</td>\n",
       "    </tr>\n",
       "    <tr>\n",
       "      <th>162</th>\n",
       "      <td>Corporate Tax</td>\n",
       "      <td>600</td>\n",
       "      <td>60042</td>\n",
       "      <td>North America</td>\n",
       "      <td>Canada</td>\n",
       "      <td>2022</td>\n",
       "      <td>45276</td>\n",
       "      <td>11319.00</td>\n",
       "    </tr>\n",
       "    <tr>\n",
       "      <th>163</th>\n",
       "      <td>Corporate Tax</td>\n",
       "      <td>600</td>\n",
       "      <td>60042</td>\n",
       "      <td>North America</td>\n",
       "      <td>USA</td>\n",
       "      <td>2021</td>\n",
       "      <td>23736</td>\n",
       "      <td>5934.00</td>\n",
       "    </tr>\n",
       "    <tr>\n",
       "      <th>164</th>\n",
       "      <td>Corporate Tax</td>\n",
       "      <td>600</td>\n",
       "      <td>60042</td>\n",
       "      <td>North America</td>\n",
       "      <td>USA</td>\n",
       "      <td>2022</td>\n",
       "      <td>36999</td>\n",
       "      <td>9249.75</td>\n",
       "    </tr>\n",
       "  </tbody>\n",
       "</table>\n",
       "<p>165 rows × 8 columns</p>\n",
       "</div>"
      ],
      "text/plain": [
       "      Account Type  Account Group  Account Number       Category Location   \\\n",
       "0              VAT            500           50021           Asia     India   \n",
       "1              VAT            500           50021           Asia       UAE   \n",
       "2              VAT            500           50021           Asia     India   \n",
       "3              VAT            500           50021           Asia       UAE   \n",
       "4              VAT            500           50021           Asia     India   \n",
       "..             ...            ...             ...            ...       ...   \n",
       "160  Corporate Tax            600           60042  North America       USA   \n",
       "161  Corporate Tax            600           60042  North America       USA   \n",
       "162  Corporate Tax            600           60042  North America    Canada   \n",
       "163  Corporate Tax            600           60042  North America       USA   \n",
       "164  Corporate Tax            600           60042  North America       USA   \n",
       "\n",
       "     Year  Collection       tax  \n",
       "0    2022       97841  17611.38  \n",
       "1    2018       27652   4977.36  \n",
       "2    2019       83770  15078.60  \n",
       "3    2022       49229   8861.22  \n",
       "4    2018       17539   3157.02  \n",
       "..    ...         ...       ...  \n",
       "160  2022       48461  12115.25  \n",
       "161  2020       24574   6143.50  \n",
       "162  2022       45276  11319.00  \n",
       "163  2021       23736   5934.00  \n",
       "164  2022       36999   9249.75  \n",
       "\n",
       "[165 rows x 8 columns]"
      ]
     },
     "execution_count": 10,
     "metadata": {},
     "output_type": "execute_result"
    }
   ],
   "source": [
    "td_df= pd.read_excel(\"taxdata.xlsx\")\n",
    "td_df"
   ]
  },
  {
   "cell_type": "code",
   "execution_count": 11,
   "id": "6e546b42",
   "metadata": {
    "scrolled": true
   },
   "outputs": [
    {
     "data": {
      "text/html": [
       "<div>\n",
       "<style scoped>\n",
       "    .dataframe tbody tr th:only-of-type {\n",
       "        vertical-align: middle;\n",
       "    }\n",
       "\n",
       "    .dataframe tbody tr th {\n",
       "        vertical-align: top;\n",
       "    }\n",
       "\n",
       "    .dataframe thead th {\n",
       "        text-align: right;\n",
       "    }\n",
       "</style>\n",
       "<table border=\"1\" class=\"dataframe\">\n",
       "  <thead>\n",
       "    <tr style=\"text-align: right;\">\n",
       "      <th></th>\n",
       "      <th>Account Group\\tAccount Number\\tLocation \\ttotal\\tActual_revenue</th>\n",
       "    </tr>\n",
       "  </thead>\n",
       "  <tbody>\n",
       "    <tr>\n",
       "      <th>0</th>\n",
       "      <td>500\\t50021\\tIndia\\t115452.38\\t80229.62</td>\n",
       "    </tr>\n",
       "    <tr>\n",
       "      <th>1</th>\n",
       "      <td>500\\t50021\\tUAE\\t32629.36\\t22674.64</td>\n",
       "    </tr>\n",
       "    <tr>\n",
       "      <th>2</th>\n",
       "      <td>500\\t50021\\tIndia\\t98848.6\\t68691.4</td>\n",
       "    </tr>\n",
       "    <tr>\n",
       "      <th>3</th>\n",
       "      <td>500\\t50021\\tUAE\\t58090.22\\t40367.78</td>\n",
       "    </tr>\n",
       "    <tr>\n",
       "      <th>4</th>\n",
       "      <td>500\\t50021\\tIndia\\t20696.02\\t14381.98</td>\n",
       "    </tr>\n",
       "    <tr>\n",
       "      <th>...</th>\n",
       "      <td>...</td>\n",
       "    </tr>\n",
       "    <tr>\n",
       "      <th>160</th>\n",
       "      <td>600\\t60042\\tUSA\\t60576.25\\t36345.75</td>\n",
       "    </tr>\n",
       "    <tr>\n",
       "      <th>161</th>\n",
       "      <td>600\\t60042\\tUSA\\t30717.5\\t18430.5</td>\n",
       "    </tr>\n",
       "    <tr>\n",
       "      <th>162</th>\n",
       "      <td>600\\t60042\\tCanada\\t56595.0\\t33957.0</td>\n",
       "    </tr>\n",
       "    <tr>\n",
       "      <th>163</th>\n",
       "      <td>600\\t60042\\tUSA\\t29670.0\\t17802.0</td>\n",
       "    </tr>\n",
       "    <tr>\n",
       "      <th>164</th>\n",
       "      <td>600\\t60042\\tUSA\\t46248.75\\t27749.25</td>\n",
       "    </tr>\n",
       "  </tbody>\n",
       "</table>\n",
       "<p>165 rows × 1 columns</p>\n",
       "</div>"
      ],
      "text/plain": [
       "    Account Group\\tAccount Number\\tLocation \\ttotal\\tActual_revenue\n",
       "0               500\\t50021\\tIndia\\t115452.38\\t80229.62             \n",
       "1                  500\\t50021\\tUAE\\t32629.36\\t22674.64             \n",
       "2                  500\\t50021\\tIndia\\t98848.6\\t68691.4             \n",
       "3                  500\\t50021\\tUAE\\t58090.22\\t40367.78             \n",
       "4                500\\t50021\\tIndia\\t20696.02\\t14381.98             \n",
       "..                                                 ...             \n",
       "160                600\\t60042\\tUSA\\t60576.25\\t36345.75             \n",
       "161                  600\\t60042\\tUSA\\t30717.5\\t18430.5             \n",
       "162               600\\t60042\\tCanada\\t56595.0\\t33957.0             \n",
       "163                  600\\t60042\\tUSA\\t29670.0\\t17802.0             \n",
       "164                600\\t60042\\tUSA\\t46248.75\\t27749.25             \n",
       "\n",
       "[165 rows x 1 columns]"
      ]
     },
     "execution_count": 11,
     "metadata": {},
     "output_type": "execute_result"
    }
   ],
   "source": [
    "pd.read_csv(\"modified.txt\")"
   ]
  },
  {
   "cell_type": "code",
   "execution_count": 12,
   "id": "e34df809",
   "metadata": {
    "scrolled": true
   },
   "outputs": [
    {
     "data": {
      "text/html": [
       "<div>\n",
       "<style scoped>\n",
       "    .dataframe tbody tr th:only-of-type {\n",
       "        vertical-align: middle;\n",
       "    }\n",
       "\n",
       "    .dataframe tbody tr th {\n",
       "        vertical-align: top;\n",
       "    }\n",
       "\n",
       "    .dataframe thead th {\n",
       "        text-align: right;\n",
       "    }\n",
       "</style>\n",
       "<table border=\"1\" class=\"dataframe\">\n",
       "  <thead>\n",
       "    <tr style=\"text-align: right;\">\n",
       "      <th></th>\n",
       "      <th>Account Type</th>\n",
       "      <th>Account Group</th>\n",
       "      <th>Account Number</th>\n",
       "      <th>Category</th>\n",
       "      <th>Location</th>\n",
       "      <th>Year</th>\n",
       "      <th>Collection</th>\n",
       "      <th>tax</th>\n",
       "    </tr>\n",
       "  </thead>\n",
       "  <tbody>\n",
       "    <tr>\n",
       "      <th>0</th>\n",
       "      <td>VAT</td>\n",
       "      <td>500</td>\n",
       "      <td>50021</td>\n",
       "      <td>Asia</td>\n",
       "      <td>India</td>\n",
       "      <td>2022</td>\n",
       "      <td>97,841</td>\n",
       "      <td>17611.38</td>\n",
       "    </tr>\n",
       "    <tr>\n",
       "      <th>1</th>\n",
       "      <td>VAT</td>\n",
       "      <td>500</td>\n",
       "      <td>50021</td>\n",
       "      <td>Asia</td>\n",
       "      <td>UAE</td>\n",
       "      <td>2018</td>\n",
       "      <td>27,652</td>\n",
       "      <td>4977.36</td>\n",
       "    </tr>\n",
       "    <tr>\n",
       "      <th>2</th>\n",
       "      <td>VAT</td>\n",
       "      <td>500</td>\n",
       "      <td>50021</td>\n",
       "      <td>Asia</td>\n",
       "      <td>India</td>\n",
       "      <td>2019</td>\n",
       "      <td>83,770</td>\n",
       "      <td>15078.60</td>\n",
       "    </tr>\n",
       "    <tr>\n",
       "      <th>3</th>\n",
       "      <td>VAT</td>\n",
       "      <td>500</td>\n",
       "      <td>50021</td>\n",
       "      <td>Asia</td>\n",
       "      <td>UAE</td>\n",
       "      <td>2022</td>\n",
       "      <td>49,229</td>\n",
       "      <td>8861.22</td>\n",
       "    </tr>\n",
       "    <tr>\n",
       "      <th>4</th>\n",
       "      <td>VAT</td>\n",
       "      <td>500</td>\n",
       "      <td>50021</td>\n",
       "      <td>Asia</td>\n",
       "      <td>India</td>\n",
       "      <td>2018</td>\n",
       "      <td>17,539</td>\n",
       "      <td>3157.02</td>\n",
       "    </tr>\n",
       "    <tr>\n",
       "      <th>...</th>\n",
       "      <td>...</td>\n",
       "      <td>...</td>\n",
       "      <td>...</td>\n",
       "      <td>...</td>\n",
       "      <td>...</td>\n",
       "      <td>...</td>\n",
       "      <td>...</td>\n",
       "      <td>...</td>\n",
       "    </tr>\n",
       "    <tr>\n",
       "      <th>160</th>\n",
       "      <td>Corporate Tax</td>\n",
       "      <td>600</td>\n",
       "      <td>60042</td>\n",
       "      <td>North America</td>\n",
       "      <td>USA</td>\n",
       "      <td>2022</td>\n",
       "      <td>48,461</td>\n",
       "      <td>12115.25</td>\n",
       "    </tr>\n",
       "    <tr>\n",
       "      <th>161</th>\n",
       "      <td>Corporate Tax</td>\n",
       "      <td>600</td>\n",
       "      <td>60042</td>\n",
       "      <td>North America</td>\n",
       "      <td>USA</td>\n",
       "      <td>2020</td>\n",
       "      <td>24,574</td>\n",
       "      <td>6143.50</td>\n",
       "    </tr>\n",
       "    <tr>\n",
       "      <th>162</th>\n",
       "      <td>Corporate Tax</td>\n",
       "      <td>600</td>\n",
       "      <td>60042</td>\n",
       "      <td>North America</td>\n",
       "      <td>Canada</td>\n",
       "      <td>2022</td>\n",
       "      <td>45,276</td>\n",
       "      <td>11319.00</td>\n",
       "    </tr>\n",
       "    <tr>\n",
       "      <th>163</th>\n",
       "      <td>Corporate Tax</td>\n",
       "      <td>600</td>\n",
       "      <td>60042</td>\n",
       "      <td>North America</td>\n",
       "      <td>USA</td>\n",
       "      <td>2021</td>\n",
       "      <td>23,736</td>\n",
       "      <td>5934.00</td>\n",
       "    </tr>\n",
       "    <tr>\n",
       "      <th>164</th>\n",
       "      <td>Corporate Tax</td>\n",
       "      <td>600</td>\n",
       "      <td>60042</td>\n",
       "      <td>North America</td>\n",
       "      <td>USA</td>\n",
       "      <td>2022</td>\n",
       "      <td>36,999</td>\n",
       "      <td>9249.75</td>\n",
       "    </tr>\n",
       "  </tbody>\n",
       "</table>\n",
       "<p>165 rows × 8 columns</p>\n",
       "</div>"
      ],
      "text/plain": [
       "      Account Type  Account Group  Account Number       Category Location   \\\n",
       "0              VAT            500           50021           Asia     India   \n",
       "1              VAT            500           50021           Asia       UAE   \n",
       "2              VAT            500           50021           Asia     India   \n",
       "3              VAT            500           50021           Asia       UAE   \n",
       "4              VAT            500           50021           Asia     India   \n",
       "..             ...            ...             ...            ...       ...   \n",
       "160  Corporate Tax            600           60042  North America       USA   \n",
       "161  Corporate Tax            600           60042  North America       USA   \n",
       "162  Corporate Tax            600           60042  North America    Canada   \n",
       "163  Corporate Tax            600           60042  North America       USA   \n",
       "164  Corporate Tax            600           60042  North America       USA   \n",
       "\n",
       "     Year Collection       tax  \n",
       "0    2022     97,841  17611.38  \n",
       "1    2018     27,652   4977.36  \n",
       "2    2019     83,770  15078.60  \n",
       "3    2022     49,229   8861.22  \n",
       "4    2018     17,539   3157.02  \n",
       "..    ...        ...       ...  \n",
       "160  2022     48,461  12115.25  \n",
       "161  2020     24,574   6143.50  \n",
       "162  2022     45,276  11319.00  \n",
       "163  2021     23,736   5934.00  \n",
       "164  2022     36,999   9249.75  \n",
       "\n",
       "[165 rows x 8 columns]"
      ]
     },
     "execution_count": 12,
     "metadata": {},
     "output_type": "execute_result"
    }
   ],
   "source": [
    "data"
   ]
  },
  {
   "cell_type": "code",
   "execution_count": 13,
   "id": "61c49691",
   "metadata": {
    "scrolled": true
   },
   "outputs": [
    {
     "data": {
      "text/html": [
       "<div>\n",
       "<style scoped>\n",
       "    .dataframe tbody tr th:only-of-type {\n",
       "        vertical-align: middle;\n",
       "    }\n",
       "\n",
       "    .dataframe tbody tr th {\n",
       "        vertical-align: top;\n",
       "    }\n",
       "\n",
       "    .dataframe thead th {\n",
       "        text-align: right;\n",
       "    }\n",
       "</style>\n",
       "<table border=\"1\" class=\"dataframe\">\n",
       "  <thead>\n",
       "    <tr style=\"text-align: right;\">\n",
       "      <th></th>\n",
       "      <th>Account Type</th>\n",
       "      <th>Account Group</th>\n",
       "      <th>Account Number</th>\n",
       "      <th>Category</th>\n",
       "      <th>Location</th>\n",
       "      <th>Year</th>\n",
       "      <th>Collection</th>\n",
       "      <th>tax</th>\n",
       "    </tr>\n",
       "  </thead>\n",
       "  <tbody>\n",
       "    <tr>\n",
       "      <th>0</th>\n",
       "      <td>VAT</td>\n",
       "      <td>500</td>\n",
       "      <td>50021</td>\n",
       "      <td>Asia</td>\n",
       "      <td>India</td>\n",
       "      <td>2022</td>\n",
       "      <td>97841</td>\n",
       "      <td>17611.38</td>\n",
       "    </tr>\n",
       "    <tr>\n",
       "      <th>1</th>\n",
       "      <td>VAT</td>\n",
       "      <td>500</td>\n",
       "      <td>50021</td>\n",
       "      <td>Asia</td>\n",
       "      <td>UAE</td>\n",
       "      <td>2018</td>\n",
       "      <td>27652</td>\n",
       "      <td>4977.36</td>\n",
       "    </tr>\n",
       "    <tr>\n",
       "      <th>2</th>\n",
       "      <td>VAT</td>\n",
       "      <td>500</td>\n",
       "      <td>50021</td>\n",
       "      <td>Asia</td>\n",
       "      <td>India</td>\n",
       "      <td>2019</td>\n",
       "      <td>83770</td>\n",
       "      <td>15078.60</td>\n",
       "    </tr>\n",
       "    <tr>\n",
       "      <th>3</th>\n",
       "      <td>VAT</td>\n",
       "      <td>500</td>\n",
       "      <td>50021</td>\n",
       "      <td>Asia</td>\n",
       "      <td>UAE</td>\n",
       "      <td>2022</td>\n",
       "      <td>49229</td>\n",
       "      <td>8861.22</td>\n",
       "    </tr>\n",
       "    <tr>\n",
       "      <th>4</th>\n",
       "      <td>VAT</td>\n",
       "      <td>500</td>\n",
       "      <td>50021</td>\n",
       "      <td>Asia</td>\n",
       "      <td>India</td>\n",
       "      <td>2018</td>\n",
       "      <td>17539</td>\n",
       "      <td>3157.02</td>\n",
       "    </tr>\n",
       "  </tbody>\n",
       "</table>\n",
       "</div>"
      ],
      "text/plain": [
       "  Account Type  Account Group  Account Number Category Location   Year  \\\n",
       "0          VAT            500           50021     Asia     India  2022   \n",
       "1          VAT            500           50021     Asia       UAE  2018   \n",
       "2          VAT            500           50021     Asia     India  2019   \n",
       "3          VAT            500           50021     Asia       UAE  2022   \n",
       "4          VAT            500           50021     Asia     India  2018   \n",
       "\n",
       "   Collection       tax  \n",
       "0       97841  17611.38  \n",
       "1       27652   4977.36  \n",
       "2       83770  15078.60  \n",
       "3       49229   8861.22  \n",
       "4       17539   3157.02  "
      ]
     },
     "execution_count": 13,
     "metadata": {},
     "output_type": "execute_result"
    }
   ],
   "source": [
    "td_df.head()"
   ]
  },
  {
   "cell_type": "code",
   "execution_count": 14,
   "id": "355519c9",
   "metadata": {
    "scrolled": true
   },
   "outputs": [
    {
     "data": {
      "text/html": [
       "<div>\n",
       "<style scoped>\n",
       "    .dataframe tbody tr th:only-of-type {\n",
       "        vertical-align: middle;\n",
       "    }\n",
       "\n",
       "    .dataframe tbody tr th {\n",
       "        vertical-align: top;\n",
       "    }\n",
       "\n",
       "    .dataframe thead th {\n",
       "        text-align: right;\n",
       "    }\n",
       "</style>\n",
       "<table border=\"1\" class=\"dataframe\">\n",
       "  <thead>\n",
       "    <tr style=\"text-align: right;\">\n",
       "      <th></th>\n",
       "      <th>Account Type</th>\n",
       "      <th>Account Group</th>\n",
       "      <th>Account Number</th>\n",
       "      <th>Category</th>\n",
       "      <th>Location</th>\n",
       "      <th>Year</th>\n",
       "      <th>Collection</th>\n",
       "      <th>tax</th>\n",
       "    </tr>\n",
       "  </thead>\n",
       "  <tbody>\n",
       "    <tr>\n",
       "      <th>160</th>\n",
       "      <td>Corporate Tax</td>\n",
       "      <td>600</td>\n",
       "      <td>60042</td>\n",
       "      <td>North America</td>\n",
       "      <td>USA</td>\n",
       "      <td>2022</td>\n",
       "      <td>48461</td>\n",
       "      <td>12115.25</td>\n",
       "    </tr>\n",
       "    <tr>\n",
       "      <th>161</th>\n",
       "      <td>Corporate Tax</td>\n",
       "      <td>600</td>\n",
       "      <td>60042</td>\n",
       "      <td>North America</td>\n",
       "      <td>USA</td>\n",
       "      <td>2020</td>\n",
       "      <td>24574</td>\n",
       "      <td>6143.50</td>\n",
       "    </tr>\n",
       "    <tr>\n",
       "      <th>162</th>\n",
       "      <td>Corporate Tax</td>\n",
       "      <td>600</td>\n",
       "      <td>60042</td>\n",
       "      <td>North America</td>\n",
       "      <td>Canada</td>\n",
       "      <td>2022</td>\n",
       "      <td>45276</td>\n",
       "      <td>11319.00</td>\n",
       "    </tr>\n",
       "    <tr>\n",
       "      <th>163</th>\n",
       "      <td>Corporate Tax</td>\n",
       "      <td>600</td>\n",
       "      <td>60042</td>\n",
       "      <td>North America</td>\n",
       "      <td>USA</td>\n",
       "      <td>2021</td>\n",
       "      <td>23736</td>\n",
       "      <td>5934.00</td>\n",
       "    </tr>\n",
       "    <tr>\n",
       "      <th>164</th>\n",
       "      <td>Corporate Tax</td>\n",
       "      <td>600</td>\n",
       "      <td>60042</td>\n",
       "      <td>North America</td>\n",
       "      <td>USA</td>\n",
       "      <td>2022</td>\n",
       "      <td>36999</td>\n",
       "      <td>9249.75</td>\n",
       "    </tr>\n",
       "  </tbody>\n",
       "</table>\n",
       "</div>"
      ],
      "text/plain": [
       "      Account Type  Account Group  Account Number       Category Location   \\\n",
       "160  Corporate Tax            600           60042  North America       USA   \n",
       "161  Corporate Tax            600           60042  North America       USA   \n",
       "162  Corporate Tax            600           60042  North America    Canada   \n",
       "163  Corporate Tax            600           60042  North America       USA   \n",
       "164  Corporate Tax            600           60042  North America       USA   \n",
       "\n",
       "     Year  Collection       tax  \n",
       "160  2022       48461  12115.25  \n",
       "161  2020       24574   6143.50  \n",
       "162  2022       45276  11319.00  \n",
       "163  2021       23736   5934.00  \n",
       "164  2022       36999   9249.75  "
      ]
     },
     "execution_count": 14,
     "metadata": {},
     "output_type": "execute_result"
    }
   ],
   "source": [
    "td_df.tail()"
   ]
  },
  {
   "cell_type": "code",
   "execution_count": 15,
   "id": "99e493e8",
   "metadata": {
    "scrolled": false
   },
   "outputs": [
    {
     "data": {
      "text/html": [
       "<div>\n",
       "<style scoped>\n",
       "    .dataframe tbody tr th:only-of-type {\n",
       "        vertical-align: middle;\n",
       "    }\n",
       "\n",
       "    .dataframe tbody tr th {\n",
       "        vertical-align: top;\n",
       "    }\n",
       "\n",
       "    .dataframe thead th {\n",
       "        text-align: right;\n",
       "    }\n",
       "</style>\n",
       "<table border=\"1\" class=\"dataframe\">\n",
       "  <thead>\n",
       "    <tr style=\"text-align: right;\">\n",
       "      <th></th>\n",
       "      <th>Account Group</th>\n",
       "      <th>Account Number</th>\n",
       "      <th>Year</th>\n",
       "      <th>Collection</th>\n",
       "      <th>tax</th>\n",
       "    </tr>\n",
       "  </thead>\n",
       "  <tbody>\n",
       "    <tr>\n",
       "      <th>count</th>\n",
       "      <td>165.000000</td>\n",
       "      <td>165.000000</td>\n",
       "      <td>165.000000</td>\n",
       "      <td>165.000000</td>\n",
       "      <td>165.000000</td>\n",
       "    </tr>\n",
       "    <tr>\n",
       "      <th>mean</th>\n",
       "      <td>512.727273</td>\n",
       "      <td>51296.769697</td>\n",
       "      <td>2021.030303</td>\n",
       "      <td>60441.278788</td>\n",
       "      <td>13073.692424</td>\n",
       "    </tr>\n",
       "    <tr>\n",
       "      <th>std</th>\n",
       "      <td>33.429278</td>\n",
       "      <td>3349.605737</td>\n",
       "      <td>1.407403</td>\n",
       "      <td>73592.945177</td>\n",
       "      <td>16330.950800</td>\n",
       "    </tr>\n",
       "    <tr>\n",
       "      <th>min</th>\n",
       "      <td>500.000000</td>\n",
       "      <td>50021.000000</td>\n",
       "      <td>2018.000000</td>\n",
       "      <td>10915.000000</td>\n",
       "      <td>2167.200000</td>\n",
       "    </tr>\n",
       "    <tr>\n",
       "      <th>25%</th>\n",
       "      <td>500.000000</td>\n",
       "      <td>50021.000000</td>\n",
       "      <td>2020.000000</td>\n",
       "      <td>30700.000000</td>\n",
       "      <td>6607.440000</td>\n",
       "    </tr>\n",
       "    <tr>\n",
       "      <th>50%</th>\n",
       "      <td>500.000000</td>\n",
       "      <td>50022.000000</td>\n",
       "      <td>2022.000000</td>\n",
       "      <td>49229.000000</td>\n",
       "      <td>10743.800000</td>\n",
       "    </tr>\n",
       "    <tr>\n",
       "      <th>75%</th>\n",
       "      <td>500.000000</td>\n",
       "      <td>50022.000000</td>\n",
       "      <td>2022.000000</td>\n",
       "      <td>74968.000000</td>\n",
       "      <td>15847.560000</td>\n",
       "    </tr>\n",
       "    <tr>\n",
       "      <th>max</th>\n",
       "      <td>600.000000</td>\n",
       "      <td>60042.000000</td>\n",
       "      <td>2022.000000</td>\n",
       "      <td>756000.000000</td>\n",
       "      <td>151200.000000</td>\n",
       "    </tr>\n",
       "  </tbody>\n",
       "</table>\n",
       "</div>"
      ],
      "text/plain": [
       "       Account Group  Account Number         Year     Collection  \\\n",
       "count     165.000000      165.000000   165.000000     165.000000   \n",
       "mean      512.727273    51296.769697  2021.030303   60441.278788   \n",
       "std        33.429278     3349.605737     1.407403   73592.945177   \n",
       "min       500.000000    50021.000000  2018.000000   10915.000000   \n",
       "25%       500.000000    50021.000000  2020.000000   30700.000000   \n",
       "50%       500.000000    50022.000000  2022.000000   49229.000000   \n",
       "75%       500.000000    50022.000000  2022.000000   74968.000000   \n",
       "max       600.000000    60042.000000  2022.000000  756000.000000   \n",
       "\n",
       "                 tax  \n",
       "count     165.000000  \n",
       "mean    13073.692424  \n",
       "std     16330.950800  \n",
       "min      2167.200000  \n",
       "25%      6607.440000  \n",
       "50%     10743.800000  \n",
       "75%     15847.560000  \n",
       "max    151200.000000  "
      ]
     },
     "execution_count": 15,
     "metadata": {},
     "output_type": "execute_result"
    }
   ],
   "source": [
    "td_df.describe()"
   ]
  },
  {
   "cell_type": "code",
   "execution_count": 16,
   "id": "6ac653d7",
   "metadata": {},
   "outputs": [
    {
     "name": "stdout",
     "output_type": "stream",
     "text": [
      "<class 'pandas.core.frame.DataFrame'>\n",
      "RangeIndex: 165 entries, 0 to 164\n",
      "Data columns (total 8 columns):\n",
      " #   Column          Non-Null Count  Dtype  \n",
      "---  ------          --------------  -----  \n",
      " 0   Account Type    165 non-null    object \n",
      " 1   Account Group   165 non-null    int64  \n",
      " 2   Account Number  165 non-null    int64  \n",
      " 3   Category        165 non-null    object \n",
      " 4   Location        165 non-null    object \n",
      " 5   Year            165 non-null    int64  \n",
      " 6   Collection      165 non-null    int64  \n",
      " 7   tax             165 non-null    float64\n",
      "dtypes: float64(1), int64(4), object(3)\n",
      "memory usage: 10.4+ KB\n",
      "None\n"
     ]
    }
   ],
   "source": [
    "print(td_df.info())"
   ]
  },
  {
   "cell_type": "markdown",
   "id": "d1e3bbe8",
   "metadata": {},
   "source": [
    "# Reading data in Pandas"
   ]
  },
  {
   "cell_type": "code",
   "execution_count": null,
   "id": "c802c9cf",
   "metadata": {},
   "outputs": [],
   "source": [
    "##Reading headers"
   ]
  },
  {
   "cell_type": "code",
   "execution_count": 6,
   "id": "5c388c19",
   "metadata": {
    "scrolled": false
   },
   "outputs": [
    {
     "data": {
      "text/plain": [
       "Index(['Account Type', 'Account Group', 'Account Number', 'Category',\n",
       "       'Location ', 'Year', 'Collection', 'tax'],\n",
       "      dtype='object')"
      ]
     },
     "execution_count": 6,
     "metadata": {},
     "output_type": "execute_result"
    }
   ],
   "source": [
    "data.columns"
   ]
  },
  {
   "cell_type": "code",
   "execution_count": 7,
   "id": "73c98c34",
   "metadata": {},
   "outputs": [
    {
     "data": {
      "text/plain": [
       "RangeIndex(start=0, stop=165, step=1)"
      ]
     },
     "execution_count": 7,
     "metadata": {},
     "output_type": "execute_result"
    }
   ],
   "source": [
    "data.index"
   ]
  },
  {
   "cell_type": "markdown",
   "id": "933ad90a",
   "metadata": {},
   "source": [
    "## Reading each column"
   ]
  },
  {
   "cell_type": "code",
   "execution_count": 18,
   "id": "d68cabb2",
   "metadata": {},
   "outputs": [
    {
     "data": {
      "text/html": [
       "<div>\n",
       "<style scoped>\n",
       "    .dataframe tbody tr th:only-of-type {\n",
       "        vertical-align: middle;\n",
       "    }\n",
       "\n",
       "    .dataframe tbody tr th {\n",
       "        vertical-align: top;\n",
       "    }\n",
       "\n",
       "    .dataframe thead th {\n",
       "        text-align: right;\n",
       "    }\n",
       "</style>\n",
       "<table border=\"1\" class=\"dataframe\">\n",
       "  <thead>\n",
       "    <tr style=\"text-align: right;\">\n",
       "      <th></th>\n",
       "      <th>Account Type</th>\n",
       "      <th>Account Group</th>\n",
       "      <th>Account Number</th>\n",
       "      <th>Category</th>\n",
       "      <th>Location</th>\n",
       "      <th>Year</th>\n",
       "      <th>Collection</th>\n",
       "      <th>tax</th>\n",
       "    </tr>\n",
       "  </thead>\n",
       "  <tbody>\n",
       "    <tr>\n",
       "      <th>0</th>\n",
       "      <td>VAT</td>\n",
       "      <td>500</td>\n",
       "      <td>50021</td>\n",
       "      <td>Asia</td>\n",
       "      <td>India</td>\n",
       "      <td>2022</td>\n",
       "      <td>97,841</td>\n",
       "      <td>17611.38</td>\n",
       "    </tr>\n",
       "    <tr>\n",
       "      <th>1</th>\n",
       "      <td>VAT</td>\n",
       "      <td>500</td>\n",
       "      <td>50021</td>\n",
       "      <td>Asia</td>\n",
       "      <td>UAE</td>\n",
       "      <td>2018</td>\n",
       "      <td>27,652</td>\n",
       "      <td>4977.36</td>\n",
       "    </tr>\n",
       "    <tr>\n",
       "      <th>2</th>\n",
       "      <td>VAT</td>\n",
       "      <td>500</td>\n",
       "      <td>50021</td>\n",
       "      <td>Asia</td>\n",
       "      <td>India</td>\n",
       "      <td>2019</td>\n",
       "      <td>83,770</td>\n",
       "      <td>15078.60</td>\n",
       "    </tr>\n",
       "    <tr>\n",
       "      <th>3</th>\n",
       "      <td>VAT</td>\n",
       "      <td>500</td>\n",
       "      <td>50021</td>\n",
       "      <td>Asia</td>\n",
       "      <td>UAE</td>\n",
       "      <td>2022</td>\n",
       "      <td>49,229</td>\n",
       "      <td>8861.22</td>\n",
       "    </tr>\n",
       "    <tr>\n",
       "      <th>4</th>\n",
       "      <td>VAT</td>\n",
       "      <td>500</td>\n",
       "      <td>50021</td>\n",
       "      <td>Asia</td>\n",
       "      <td>India</td>\n",
       "      <td>2018</td>\n",
       "      <td>17,539</td>\n",
       "      <td>3157.02</td>\n",
       "    </tr>\n",
       "    <tr>\n",
       "      <th>...</th>\n",
       "      <td>...</td>\n",
       "      <td>...</td>\n",
       "      <td>...</td>\n",
       "      <td>...</td>\n",
       "      <td>...</td>\n",
       "      <td>...</td>\n",
       "      <td>...</td>\n",
       "      <td>...</td>\n",
       "    </tr>\n",
       "    <tr>\n",
       "      <th>160</th>\n",
       "      <td>Corporate Tax</td>\n",
       "      <td>600</td>\n",
       "      <td>60042</td>\n",
       "      <td>North America</td>\n",
       "      <td>USA</td>\n",
       "      <td>2022</td>\n",
       "      <td>48,461</td>\n",
       "      <td>12115.25</td>\n",
       "    </tr>\n",
       "    <tr>\n",
       "      <th>161</th>\n",
       "      <td>Corporate Tax</td>\n",
       "      <td>600</td>\n",
       "      <td>60042</td>\n",
       "      <td>North America</td>\n",
       "      <td>USA</td>\n",
       "      <td>2020</td>\n",
       "      <td>24,574</td>\n",
       "      <td>6143.50</td>\n",
       "    </tr>\n",
       "    <tr>\n",
       "      <th>162</th>\n",
       "      <td>Corporate Tax</td>\n",
       "      <td>600</td>\n",
       "      <td>60042</td>\n",
       "      <td>North America</td>\n",
       "      <td>Canada</td>\n",
       "      <td>2022</td>\n",
       "      <td>45,276</td>\n",
       "      <td>11319.00</td>\n",
       "    </tr>\n",
       "    <tr>\n",
       "      <th>163</th>\n",
       "      <td>Corporate Tax</td>\n",
       "      <td>600</td>\n",
       "      <td>60042</td>\n",
       "      <td>North America</td>\n",
       "      <td>USA</td>\n",
       "      <td>2021</td>\n",
       "      <td>23,736</td>\n",
       "      <td>5934.00</td>\n",
       "    </tr>\n",
       "    <tr>\n",
       "      <th>164</th>\n",
       "      <td>Corporate Tax</td>\n",
       "      <td>600</td>\n",
       "      <td>60042</td>\n",
       "      <td>North America</td>\n",
       "      <td>USA</td>\n",
       "      <td>2022</td>\n",
       "      <td>36,999</td>\n",
       "      <td>9249.75</td>\n",
       "    </tr>\n",
       "  </tbody>\n",
       "</table>\n",
       "<p>165 rows × 8 columns</p>\n",
       "</div>"
      ],
      "text/plain": [
       "      Account Type  Account Group  Account Number       Category Location   \\\n",
       "0              VAT            500           50021           Asia     India   \n",
       "1              VAT            500           50021           Asia       UAE   \n",
       "2              VAT            500           50021           Asia     India   \n",
       "3              VAT            500           50021           Asia       UAE   \n",
       "4              VAT            500           50021           Asia     India   \n",
       "..             ...            ...             ...            ...       ...   \n",
       "160  Corporate Tax            600           60042  North America       USA   \n",
       "161  Corporate Tax            600           60042  North America       USA   \n",
       "162  Corporate Tax            600           60042  North America    Canada   \n",
       "163  Corporate Tax            600           60042  North America       USA   \n",
       "164  Corporate Tax            600           60042  North America       USA   \n",
       "\n",
       "     Year Collection       tax  \n",
       "0    2022     97,841  17611.38  \n",
       "1    2018     27,652   4977.36  \n",
       "2    2019     83,770  15078.60  \n",
       "3    2022     49,229   8861.22  \n",
       "4    2018     17,539   3157.02  \n",
       "..    ...        ...       ...  \n",
       "160  2022     48,461  12115.25  \n",
       "161  2020     24,574   6143.50  \n",
       "162  2022     45,276  11319.00  \n",
       "163  2021     23,736   5934.00  \n",
       "164  2022     36,999   9249.75  \n",
       "\n",
       "[165 rows x 8 columns]"
      ]
     },
     "execution_count": 18,
     "metadata": {},
     "output_type": "execute_result"
    }
   ],
   "source": [
    "data"
   ]
  },
  {
   "cell_type": "code",
   "execution_count": 23,
   "id": "7751af36",
   "metadata": {
    "scrolled": false
   },
   "outputs": [
    {
     "data": {
      "text/plain": [
       "0       India\n",
       "1         UAE\n",
       "2       India\n",
       "3         UAE\n",
       "4       India\n",
       "        ...  \n",
       "160       USA\n",
       "161       USA\n",
       "162    Canada\n",
       "163       USA\n",
       "164       USA\n",
       "Name: Location , Length: 165, dtype: object"
      ]
     },
     "execution_count": 23,
     "metadata": {},
     "output_type": "execute_result"
    }
   ],
   "source": [
    "data['Location ']"
   ]
  },
  {
   "cell_type": "code",
   "execution_count": 24,
   "id": "14c09ffa",
   "metadata": {
    "scrolled": true
   },
   "outputs": [
    {
     "data": {
      "text/plain": [
       "150     51,848\n",
       "151     26,720\n",
       "152     53,719\n",
       "153     19,444\n",
       "154    756,000\n",
       "Name: Collection, dtype: object"
      ]
     },
     "execution_count": 24,
     "metadata": {},
     "output_type": "execute_result"
    }
   ],
   "source": [
    "data['Collection'][150:155]"
   ]
  },
  {
   "cell_type": "code",
   "execution_count": 27,
   "id": "cfa640f9",
   "metadata": {
    "scrolled": true
   },
   "outputs": [
    {
     "data": {
      "text/html": [
       "<div>\n",
       "<style scoped>\n",
       "    .dataframe tbody tr th:only-of-type {\n",
       "        vertical-align: middle;\n",
       "    }\n",
       "\n",
       "    .dataframe tbody tr th {\n",
       "        vertical-align: top;\n",
       "    }\n",
       "\n",
       "    .dataframe thead th {\n",
       "        text-align: right;\n",
       "    }\n",
       "</style>\n",
       "<table border=\"1\" class=\"dataframe\">\n",
       "  <thead>\n",
       "    <tr style=\"text-align: right;\">\n",
       "      <th></th>\n",
       "      <th>Category</th>\n",
       "      <th>Location</th>\n",
       "      <th>Year</th>\n",
       "      <th>Collection</th>\n",
       "    </tr>\n",
       "  </thead>\n",
       "  <tbody>\n",
       "    <tr>\n",
       "      <th>0</th>\n",
       "      <td>Asia</td>\n",
       "      <td>India</td>\n",
       "      <td>2022</td>\n",
       "      <td>97,841</td>\n",
       "    </tr>\n",
       "    <tr>\n",
       "      <th>1</th>\n",
       "      <td>Asia</td>\n",
       "      <td>UAE</td>\n",
       "      <td>2018</td>\n",
       "      <td>27,652</td>\n",
       "    </tr>\n",
       "    <tr>\n",
       "      <th>2</th>\n",
       "      <td>Asia</td>\n",
       "      <td>India</td>\n",
       "      <td>2019</td>\n",
       "      <td>83,770</td>\n",
       "    </tr>\n",
       "    <tr>\n",
       "      <th>3</th>\n",
       "      <td>Asia</td>\n",
       "      <td>UAE</td>\n",
       "      <td>2022</td>\n",
       "      <td>49,229</td>\n",
       "    </tr>\n",
       "    <tr>\n",
       "      <th>4</th>\n",
       "      <td>Asia</td>\n",
       "      <td>India</td>\n",
       "      <td>2018</td>\n",
       "      <td>17,539</td>\n",
       "    </tr>\n",
       "    <tr>\n",
       "      <th>...</th>\n",
       "      <td>...</td>\n",
       "      <td>...</td>\n",
       "      <td>...</td>\n",
       "      <td>...</td>\n",
       "    </tr>\n",
       "    <tr>\n",
       "      <th>160</th>\n",
       "      <td>North America</td>\n",
       "      <td>USA</td>\n",
       "      <td>2022</td>\n",
       "      <td>48,461</td>\n",
       "    </tr>\n",
       "    <tr>\n",
       "      <th>161</th>\n",
       "      <td>North America</td>\n",
       "      <td>USA</td>\n",
       "      <td>2020</td>\n",
       "      <td>24,574</td>\n",
       "    </tr>\n",
       "    <tr>\n",
       "      <th>162</th>\n",
       "      <td>North America</td>\n",
       "      <td>Canada</td>\n",
       "      <td>2022</td>\n",
       "      <td>45,276</td>\n",
       "    </tr>\n",
       "    <tr>\n",
       "      <th>163</th>\n",
       "      <td>North America</td>\n",
       "      <td>USA</td>\n",
       "      <td>2021</td>\n",
       "      <td>23,736</td>\n",
       "    </tr>\n",
       "    <tr>\n",
       "      <th>164</th>\n",
       "      <td>North America</td>\n",
       "      <td>USA</td>\n",
       "      <td>2022</td>\n",
       "      <td>36,999</td>\n",
       "    </tr>\n",
       "  </tbody>\n",
       "</table>\n",
       "<p>165 rows × 4 columns</p>\n",
       "</div>"
      ],
      "text/plain": [
       "          Category Location   Year Collection\n",
       "0             Asia     India  2022     97,841\n",
       "1             Asia       UAE  2018     27,652\n",
       "2             Asia     India  2019     83,770\n",
       "3             Asia       UAE  2022     49,229\n",
       "4             Asia     India  2018     17,539\n",
       "..             ...       ...   ...        ...\n",
       "160  North America       USA  2022     48,461\n",
       "161  North America       USA  2020     24,574\n",
       "162  North America    Canada  2022     45,276\n",
       "163  North America       USA  2021     23,736\n",
       "164  North America       USA  2022     36,999\n",
       "\n",
       "[165 rows x 4 columns]"
      ]
     },
     "execution_count": 27,
     "metadata": {},
     "output_type": "execute_result"
    }
   ],
   "source": [
    "fields = ['Category',\"Location \", 'Year','Collection']\n",
    "new=data[fields]\n",
    "new"
   ]
  },
  {
   "cell_type": "code",
   "execution_count": 35,
   "id": "01c5951e",
   "metadata": {
    "scrolled": true
   },
   "outputs": [
    {
     "data": {
      "text/html": [
       "<div>\n",
       "<style scoped>\n",
       "    .dataframe tbody tr th:only-of-type {\n",
       "        vertical-align: middle;\n",
       "    }\n",
       "\n",
       "    .dataframe tbody tr th {\n",
       "        vertical-align: top;\n",
       "    }\n",
       "\n",
       "    .dataframe thead th {\n",
       "        text-align: right;\n",
       "    }\n",
       "</style>\n",
       "<table border=\"1\" class=\"dataframe\">\n",
       "  <thead>\n",
       "    <tr style=\"text-align: right;\">\n",
       "      <th></th>\n",
       "      <th>Category</th>\n",
       "      <th>Location</th>\n",
       "      <th>Year</th>\n",
       "      <th>Collection</th>\n",
       "    </tr>\n",
       "  </thead>\n",
       "  <tbody>\n",
       "    <tr>\n",
       "      <th>100</th>\n",
       "      <td>Asia</td>\n",
       "      <td>India</td>\n",
       "      <td>2022</td>\n",
       "      <td>53,225</td>\n",
       "    </tr>\n",
       "    <tr>\n",
       "      <th>101</th>\n",
       "      <td>Asia</td>\n",
       "      <td>India</td>\n",
       "      <td>2019</td>\n",
       "      <td>73,339</td>\n",
       "    </tr>\n",
       "    <tr>\n",
       "      <th>102</th>\n",
       "      <td>Asia</td>\n",
       "      <td>India</td>\n",
       "      <td>2022</td>\n",
       "      <td>69,657</td>\n",
       "    </tr>\n",
       "    <tr>\n",
       "      <th>103</th>\n",
       "      <td>Asia</td>\n",
       "      <td>India</td>\n",
       "      <td>2022</td>\n",
       "      <td>41,703</td>\n",
       "    </tr>\n",
       "    <tr>\n",
       "      <th>104</th>\n",
       "      <td>Asia</td>\n",
       "      <td>Kuwait</td>\n",
       "      <td>2019</td>\n",
       "      <td>21,619</td>\n",
       "    </tr>\n",
       "    <tr>\n",
       "      <th>105</th>\n",
       "      <td>Asia</td>\n",
       "      <td>UAE</td>\n",
       "      <td>2018</td>\n",
       "      <td>75,114</td>\n",
       "    </tr>\n",
       "    <tr>\n",
       "      <th>106</th>\n",
       "      <td>Asia</td>\n",
       "      <td>India</td>\n",
       "      <td>2022</td>\n",
       "      <td>82,884</td>\n",
       "    </tr>\n",
       "    <tr>\n",
       "      <th>107</th>\n",
       "      <td>Asia</td>\n",
       "      <td>Kuwait</td>\n",
       "      <td>2021</td>\n",
       "      <td>68,211</td>\n",
       "    </tr>\n",
       "    <tr>\n",
       "      <th>108</th>\n",
       "      <td>Asia</td>\n",
       "      <td>India</td>\n",
       "      <td>2022</td>\n",
       "      <td>59,447</td>\n",
       "    </tr>\n",
       "    <tr>\n",
       "      <th>109</th>\n",
       "      <td>Asia</td>\n",
       "      <td>India</td>\n",
       "      <td>2022</td>\n",
       "      <td>61,555</td>\n",
       "    </tr>\n",
       "    <tr>\n",
       "      <th>110</th>\n",
       "      <td>Asia</td>\n",
       "      <td>UAE</td>\n",
       "      <td>2019</td>\n",
       "      <td>20,449</td>\n",
       "    </tr>\n",
       "    <tr>\n",
       "      <th>111</th>\n",
       "      <td>Asia</td>\n",
       "      <td>UAE</td>\n",
       "      <td>2021</td>\n",
       "      <td>37,089</td>\n",
       "    </tr>\n",
       "    <tr>\n",
       "      <th>112</th>\n",
       "      <td>Asia</td>\n",
       "      <td>India</td>\n",
       "      <td>2022</td>\n",
       "      <td>45,748</td>\n",
       "    </tr>\n",
       "    <tr>\n",
       "      <th>113</th>\n",
       "      <td>Asia</td>\n",
       "      <td>Kuwait</td>\n",
       "      <td>2022</td>\n",
       "      <td>52,621</td>\n",
       "    </tr>\n",
       "    <tr>\n",
       "      <th>114</th>\n",
       "      <td>Asia</td>\n",
       "      <td>India</td>\n",
       "      <td>2021</td>\n",
       "      <td>77,015</td>\n",
       "    </tr>\n",
       "    <tr>\n",
       "      <th>115</th>\n",
       "      <td>Asia</td>\n",
       "      <td>UAE</td>\n",
       "      <td>2021</td>\n",
       "      <td>74,968</td>\n",
       "    </tr>\n",
       "    <tr>\n",
       "      <th>116</th>\n",
       "      <td>Asia</td>\n",
       "      <td>India</td>\n",
       "      <td>2022</td>\n",
       "      <td>35,151</td>\n",
       "    </tr>\n",
       "    <tr>\n",
       "      <th>117</th>\n",
       "      <td>Asia</td>\n",
       "      <td>Singapore</td>\n",
       "      <td>2018</td>\n",
       "      <td>43,973</td>\n",
       "    </tr>\n",
       "    <tr>\n",
       "      <th>118</th>\n",
       "      <td>Asia</td>\n",
       "      <td>Kuwait</td>\n",
       "      <td>2022</td>\n",
       "      <td>76,775</td>\n",
       "    </tr>\n",
       "    <tr>\n",
       "      <th>119</th>\n",
       "      <td>Asia</td>\n",
       "      <td>India</td>\n",
       "      <td>2022</td>\n",
       "      <td>76,195</td>\n",
       "    </tr>\n",
       "  </tbody>\n",
       "</table>\n",
       "</div>"
      ],
      "text/plain": [
       "    Category  Location   Year Collection\n",
       "100     Asia      India  2022     53,225\n",
       "101     Asia      India  2019     73,339\n",
       "102     Asia      India  2022     69,657\n",
       "103     Asia      India  2022     41,703\n",
       "104     Asia     Kuwait  2019     21,619\n",
       "105     Asia        UAE  2018     75,114\n",
       "106     Asia      India  2022     82,884\n",
       "107     Asia     Kuwait  2021     68,211\n",
       "108     Asia      India  2022     59,447\n",
       "109     Asia      India  2022     61,555\n",
       "110     Asia        UAE  2019     20,449\n",
       "111     Asia        UAE  2021     37,089\n",
       "112     Asia      India  2022     45,748\n",
       "113     Asia     Kuwait  2022     52,621\n",
       "114     Asia      India  2021     77,015\n",
       "115     Asia        UAE  2021     74,968\n",
       "116     Asia      India  2022     35,151\n",
       "117     Asia  Singapore  2018     43,973\n",
       "118     Asia     Kuwait  2022     76,775\n",
       "119     Asia      India  2022     76,195"
      ]
     },
     "execution_count": 35,
     "metadata": {},
     "output_type": "execute_result"
    }
   ],
   "source": [
    "new[100:120]"
   ]
  },
  {
   "cell_type": "code",
   "execution_count": 33,
   "id": "36ac532d",
   "metadata": {},
   "outputs": [
    {
     "name": "stdout",
     "output_type": "stream",
     "text": [
      "<class 'pandas.core.frame.DataFrame'>\n",
      "RangeIndex: 165 entries, 0 to 164\n",
      "Data columns (total 4 columns):\n",
      " #   Column      Non-Null Count  Dtype \n",
      "---  ------      --------------  ----- \n",
      " 0   Category    165 non-null    object\n",
      " 1   Location    165 non-null    object\n",
      " 2   Year        165 non-null    int64 \n",
      " 3   Collection  165 non-null    object\n",
      "dtypes: int64(1), object(3)\n",
      "memory usage: 5.3+ KB\n"
     ]
    }
   ],
   "source": [
    "new.info()"
   ]
  },
  {
   "cell_type": "code",
   "execution_count": 36,
   "id": "0c8be03a",
   "metadata": {
    "scrolled": true
   },
   "outputs": [
    {
     "data": {
      "text/html": [
       "<div>\n",
       "<style scoped>\n",
       "    .dataframe tbody tr th:only-of-type {\n",
       "        vertical-align: middle;\n",
       "    }\n",
       "\n",
       "    .dataframe tbody tr th {\n",
       "        vertical-align: top;\n",
       "    }\n",
       "\n",
       "    .dataframe thead th {\n",
       "        text-align: right;\n",
       "    }\n",
       "</style>\n",
       "<table border=\"1\" class=\"dataframe\">\n",
       "  <thead>\n",
       "    <tr style=\"text-align: right;\">\n",
       "      <th></th>\n",
       "      <th>Category</th>\n",
       "      <th>Location</th>\n",
       "      <th>Year</th>\n",
       "      <th>Collection</th>\n",
       "    </tr>\n",
       "  </thead>\n",
       "  <tbody>\n",
       "    <tr>\n",
       "      <th>5</th>\n",
       "      <td>Asia</td>\n",
       "      <td>UAE</td>\n",
       "      <td>2019</td>\n",
       "      <td>57,948</td>\n",
       "    </tr>\n",
       "    <tr>\n",
       "      <th>6</th>\n",
       "      <td>Asia</td>\n",
       "      <td>UAE</td>\n",
       "      <td>2022</td>\n",
       "      <td>89,787</td>\n",
       "    </tr>\n",
       "    <tr>\n",
       "      <th>7</th>\n",
       "      <td>Asia</td>\n",
       "      <td>India</td>\n",
       "      <td>2021</td>\n",
       "      <td>93,969</td>\n",
       "    </tr>\n",
       "    <tr>\n",
       "      <th>8</th>\n",
       "      <td>Asia</td>\n",
       "      <td>India</td>\n",
       "      <td>2022</td>\n",
       "      <td>36,708</td>\n",
       "    </tr>\n",
       "    <tr>\n",
       "      <th>9</th>\n",
       "      <td>Asia</td>\n",
       "      <td>UAE</td>\n",
       "      <td>2018</td>\n",
       "      <td>32,673</td>\n",
       "    </tr>\n",
       "  </tbody>\n",
       "</table>\n",
       "</div>"
      ],
      "text/plain": [
       "  Category Location   Year Collection\n",
       "5     Asia       UAE  2019     57,948\n",
       "6     Asia       UAE  2022     89,787\n",
       "7     Asia     India  2021     93,969\n",
       "8     Asia     India  2022     36,708\n",
       "9     Asia       UAE  2018     32,673"
      ]
     },
     "execution_count": 36,
     "metadata": {},
     "output_type": "execute_result"
    }
   ],
   "source": [
    "data[fields][5:10]"
   ]
  },
  {
   "cell_type": "code",
   "execution_count": 37,
   "id": "b156a7ea",
   "metadata": {
    "scrolled": true
   },
   "outputs": [
    {
     "data": {
      "text/html": [
       "<div>\n",
       "<style scoped>\n",
       "    .dataframe tbody tr th:only-of-type {\n",
       "        vertical-align: middle;\n",
       "    }\n",
       "\n",
       "    .dataframe tbody tr th {\n",
       "        vertical-align: top;\n",
       "    }\n",
       "\n",
       "    .dataframe thead th {\n",
       "        text-align: right;\n",
       "    }\n",
       "</style>\n",
       "<table border=\"1\" class=\"dataframe\">\n",
       "  <thead>\n",
       "    <tr style=\"text-align: right;\">\n",
       "      <th></th>\n",
       "      <th>Category</th>\n",
       "      <th>Location</th>\n",
       "      <th>Year</th>\n",
       "      <th>Collection</th>\n",
       "    </tr>\n",
       "  </thead>\n",
       "  <tbody>\n",
       "    <tr>\n",
       "      <th>100</th>\n",
       "      <td>Asia</td>\n",
       "      <td>India</td>\n",
       "      <td>2022</td>\n",
       "      <td>53,225</td>\n",
       "    </tr>\n",
       "    <tr>\n",
       "      <th>101</th>\n",
       "      <td>Asia</td>\n",
       "      <td>India</td>\n",
       "      <td>2019</td>\n",
       "      <td>73,339</td>\n",
       "    </tr>\n",
       "    <tr>\n",
       "      <th>102</th>\n",
       "      <td>Asia</td>\n",
       "      <td>India</td>\n",
       "      <td>2022</td>\n",
       "      <td>69,657</td>\n",
       "    </tr>\n",
       "    <tr>\n",
       "      <th>103</th>\n",
       "      <td>Asia</td>\n",
       "      <td>India</td>\n",
       "      <td>2022</td>\n",
       "      <td>41,703</td>\n",
       "    </tr>\n",
       "    <tr>\n",
       "      <th>104</th>\n",
       "      <td>Asia</td>\n",
       "      <td>Kuwait</td>\n",
       "      <td>2019</td>\n",
       "      <td>21,619</td>\n",
       "    </tr>\n",
       "    <tr>\n",
       "      <th>105</th>\n",
       "      <td>Asia</td>\n",
       "      <td>UAE</td>\n",
       "      <td>2018</td>\n",
       "      <td>75,114</td>\n",
       "    </tr>\n",
       "    <tr>\n",
       "      <th>106</th>\n",
       "      <td>Asia</td>\n",
       "      <td>India</td>\n",
       "      <td>2022</td>\n",
       "      <td>82,884</td>\n",
       "    </tr>\n",
       "    <tr>\n",
       "      <th>107</th>\n",
       "      <td>Asia</td>\n",
       "      <td>Kuwait</td>\n",
       "      <td>2021</td>\n",
       "      <td>68,211</td>\n",
       "    </tr>\n",
       "    <tr>\n",
       "      <th>108</th>\n",
       "      <td>Asia</td>\n",
       "      <td>India</td>\n",
       "      <td>2022</td>\n",
       "      <td>59,447</td>\n",
       "    </tr>\n",
       "    <tr>\n",
       "      <th>109</th>\n",
       "      <td>Asia</td>\n",
       "      <td>India</td>\n",
       "      <td>2022</td>\n",
       "      <td>61,555</td>\n",
       "    </tr>\n",
       "    <tr>\n",
       "      <th>110</th>\n",
       "      <td>Asia</td>\n",
       "      <td>UAE</td>\n",
       "      <td>2019</td>\n",
       "      <td>20,449</td>\n",
       "    </tr>\n",
       "    <tr>\n",
       "      <th>111</th>\n",
       "      <td>Asia</td>\n",
       "      <td>UAE</td>\n",
       "      <td>2021</td>\n",
       "      <td>37,089</td>\n",
       "    </tr>\n",
       "    <tr>\n",
       "      <th>112</th>\n",
       "      <td>Asia</td>\n",
       "      <td>India</td>\n",
       "      <td>2022</td>\n",
       "      <td>45,748</td>\n",
       "    </tr>\n",
       "    <tr>\n",
       "      <th>113</th>\n",
       "      <td>Asia</td>\n",
       "      <td>Kuwait</td>\n",
       "      <td>2022</td>\n",
       "      <td>52,621</td>\n",
       "    </tr>\n",
       "    <tr>\n",
       "      <th>114</th>\n",
       "      <td>Asia</td>\n",
       "      <td>India</td>\n",
       "      <td>2021</td>\n",
       "      <td>77,015</td>\n",
       "    </tr>\n",
       "  </tbody>\n",
       "</table>\n",
       "</div>"
      ],
      "text/plain": [
       "    Category Location   Year Collection\n",
       "100     Asia     India  2022     53,225\n",
       "101     Asia     India  2019     73,339\n",
       "102     Asia     India  2022     69,657\n",
       "103     Asia     India  2022     41,703\n",
       "104     Asia    Kuwait  2019     21,619\n",
       "105     Asia       UAE  2018     75,114\n",
       "106     Asia     India  2022     82,884\n",
       "107     Asia    Kuwait  2021     68,211\n",
       "108     Asia     India  2022     59,447\n",
       "109     Asia     India  2022     61,555\n",
       "110     Asia       UAE  2019     20,449\n",
       "111     Asia       UAE  2021     37,089\n",
       "112     Asia     India  2022     45,748\n",
       "113     Asia    Kuwait  2022     52,621\n",
       "114     Asia     India  2021     77,015"
      ]
     },
     "execution_count": 37,
     "metadata": {},
     "output_type": "execute_result"
    }
   ],
   "source": [
    "data[['Category',\"Location \", 'Year','Collection']][100:115]"
   ]
  },
  {
   "cell_type": "code",
   "execution_count": null,
   "id": "44d8da60",
   "metadata": {},
   "outputs": [],
   "source": []
  },
  {
   "cell_type": "code",
   "execution_count": null,
   "id": "cb156cc0",
   "metadata": {},
   "outputs": [],
   "source": []
  },
  {
   "cell_type": "markdown",
   "id": "e80b7a30",
   "metadata": {},
   "source": [
    "## Read Each Row"
   ]
  },
  {
   "cell_type": "code",
   "execution_count": 38,
   "id": "32d433af",
   "metadata": {},
   "outputs": [
    {
     "data": {
      "text/html": [
       "<div>\n",
       "<style scoped>\n",
       "    .dataframe tbody tr th:only-of-type {\n",
       "        vertical-align: middle;\n",
       "    }\n",
       "\n",
       "    .dataframe tbody tr th {\n",
       "        vertical-align: top;\n",
       "    }\n",
       "\n",
       "    .dataframe thead th {\n",
       "        text-align: right;\n",
       "    }\n",
       "</style>\n",
       "<table border=\"1\" class=\"dataframe\">\n",
       "  <thead>\n",
       "    <tr style=\"text-align: right;\">\n",
       "      <th></th>\n",
       "      <th>Account Type</th>\n",
       "      <th>Account Group</th>\n",
       "      <th>Account Number</th>\n",
       "      <th>Category</th>\n",
       "      <th>Location</th>\n",
       "      <th>Year</th>\n",
       "      <th>Collection</th>\n",
       "      <th>tax</th>\n",
       "    </tr>\n",
       "  </thead>\n",
       "  <tbody>\n",
       "    <tr>\n",
       "      <th>0</th>\n",
       "      <td>VAT</td>\n",
       "      <td>500</td>\n",
       "      <td>50021</td>\n",
       "      <td>Asia</td>\n",
       "      <td>India</td>\n",
       "      <td>2022</td>\n",
       "      <td>97,841</td>\n",
       "      <td>17611.38</td>\n",
       "    </tr>\n",
       "    <tr>\n",
       "      <th>1</th>\n",
       "      <td>VAT</td>\n",
       "      <td>500</td>\n",
       "      <td>50021</td>\n",
       "      <td>Asia</td>\n",
       "      <td>UAE</td>\n",
       "      <td>2018</td>\n",
       "      <td>27,652</td>\n",
       "      <td>4977.36</td>\n",
       "    </tr>\n",
       "    <tr>\n",
       "      <th>2</th>\n",
       "      <td>VAT</td>\n",
       "      <td>500</td>\n",
       "      <td>50021</td>\n",
       "      <td>Asia</td>\n",
       "      <td>India</td>\n",
       "      <td>2019</td>\n",
       "      <td>83,770</td>\n",
       "      <td>15078.60</td>\n",
       "    </tr>\n",
       "    <tr>\n",
       "      <th>3</th>\n",
       "      <td>VAT</td>\n",
       "      <td>500</td>\n",
       "      <td>50021</td>\n",
       "      <td>Asia</td>\n",
       "      <td>UAE</td>\n",
       "      <td>2022</td>\n",
       "      <td>49,229</td>\n",
       "      <td>8861.22</td>\n",
       "    </tr>\n",
       "    <tr>\n",
       "      <th>4</th>\n",
       "      <td>VAT</td>\n",
       "      <td>500</td>\n",
       "      <td>50021</td>\n",
       "      <td>Asia</td>\n",
       "      <td>India</td>\n",
       "      <td>2018</td>\n",
       "      <td>17,539</td>\n",
       "      <td>3157.02</td>\n",
       "    </tr>\n",
       "  </tbody>\n",
       "</table>\n",
       "</div>"
      ],
      "text/plain": [
       "  Account Type  Account Group  Account Number Category Location   Year  \\\n",
       "0          VAT            500           50021     Asia     India  2022   \n",
       "1          VAT            500           50021     Asia       UAE  2018   \n",
       "2          VAT            500           50021     Asia     India  2019   \n",
       "3          VAT            500           50021     Asia       UAE  2022   \n",
       "4          VAT            500           50021     Asia     India  2018   \n",
       "\n",
       "  Collection       tax  \n",
       "0     97,841  17611.38  \n",
       "1     27,652   4977.36  \n",
       "2     83,770  15078.60  \n",
       "3     49,229   8861.22  \n",
       "4     17,539   3157.02  "
      ]
     },
     "execution_count": 38,
     "metadata": {},
     "output_type": "execute_result"
    }
   ],
   "source": [
    "data.head()"
   ]
  },
  {
   "cell_type": "code",
   "execution_count": 39,
   "id": "9f3ebf55",
   "metadata": {
    "scrolled": true
   },
   "outputs": [
    {
     "data": {
      "text/html": [
       "<div>\n",
       "<style scoped>\n",
       "    .dataframe tbody tr th:only-of-type {\n",
       "        vertical-align: middle;\n",
       "    }\n",
       "\n",
       "    .dataframe tbody tr th {\n",
       "        vertical-align: top;\n",
       "    }\n",
       "\n",
       "    .dataframe thead th {\n",
       "        text-align: right;\n",
       "    }\n",
       "</style>\n",
       "<table border=\"1\" class=\"dataframe\">\n",
       "  <thead>\n",
       "    <tr style=\"text-align: right;\">\n",
       "      <th></th>\n",
       "      <th>Account Type</th>\n",
       "      <th>Account Group</th>\n",
       "      <th>Account Number</th>\n",
       "      <th>Category</th>\n",
       "      <th>Location</th>\n",
       "      <th>Year</th>\n",
       "      <th>Collection</th>\n",
       "      <th>tax</th>\n",
       "    </tr>\n",
       "  </thead>\n",
       "  <tbody>\n",
       "    <tr>\n",
       "      <th>0</th>\n",
       "      <td>VAT</td>\n",
       "      <td>500</td>\n",
       "      <td>50021</td>\n",
       "      <td>Asia</td>\n",
       "      <td>India</td>\n",
       "      <td>2022</td>\n",
       "      <td>97,841</td>\n",
       "      <td>17611.38</td>\n",
       "    </tr>\n",
       "    <tr>\n",
       "      <th>1</th>\n",
       "      <td>VAT</td>\n",
       "      <td>500</td>\n",
       "      <td>50021</td>\n",
       "      <td>Asia</td>\n",
       "      <td>UAE</td>\n",
       "      <td>2018</td>\n",
       "      <td>27,652</td>\n",
       "      <td>4977.36</td>\n",
       "    </tr>\n",
       "    <tr>\n",
       "      <th>2</th>\n",
       "      <td>VAT</td>\n",
       "      <td>500</td>\n",
       "      <td>50021</td>\n",
       "      <td>Asia</td>\n",
       "      <td>India</td>\n",
       "      <td>2019</td>\n",
       "      <td>83,770</td>\n",
       "      <td>15078.60</td>\n",
       "    </tr>\n",
       "    <tr>\n",
       "      <th>3</th>\n",
       "      <td>VAT</td>\n",
       "      <td>500</td>\n",
       "      <td>50021</td>\n",
       "      <td>Asia</td>\n",
       "      <td>UAE</td>\n",
       "      <td>2022</td>\n",
       "      <td>49,229</td>\n",
       "      <td>8861.22</td>\n",
       "    </tr>\n",
       "    <tr>\n",
       "      <th>4</th>\n",
       "      <td>VAT</td>\n",
       "      <td>500</td>\n",
       "      <td>50021</td>\n",
       "      <td>Asia</td>\n",
       "      <td>India</td>\n",
       "      <td>2018</td>\n",
       "      <td>17,539</td>\n",
       "      <td>3157.02</td>\n",
       "    </tr>\n",
       "    <tr>\n",
       "      <th>5</th>\n",
       "      <td>VAT</td>\n",
       "      <td>500</td>\n",
       "      <td>50021</td>\n",
       "      <td>Asia</td>\n",
       "      <td>UAE</td>\n",
       "      <td>2019</td>\n",
       "      <td>57,948</td>\n",
       "      <td>10430.64</td>\n",
       "    </tr>\n",
       "    <tr>\n",
       "      <th>6</th>\n",
       "      <td>VAT</td>\n",
       "      <td>500</td>\n",
       "      <td>50021</td>\n",
       "      <td>Asia</td>\n",
       "      <td>UAE</td>\n",
       "      <td>2022</td>\n",
       "      <td>89,787</td>\n",
       "      <td>16161.66</td>\n",
       "    </tr>\n",
       "    <tr>\n",
       "      <th>7</th>\n",
       "      <td>VAT</td>\n",
       "      <td>500</td>\n",
       "      <td>50021</td>\n",
       "      <td>Asia</td>\n",
       "      <td>India</td>\n",
       "      <td>2021</td>\n",
       "      <td>93,969</td>\n",
       "      <td>16914.42</td>\n",
       "    </tr>\n",
       "    <tr>\n",
       "      <th>8</th>\n",
       "      <td>VAT</td>\n",
       "      <td>500</td>\n",
       "      <td>50021</td>\n",
       "      <td>Asia</td>\n",
       "      <td>India</td>\n",
       "      <td>2022</td>\n",
       "      <td>36,708</td>\n",
       "      <td>6607.44</td>\n",
       "    </tr>\n",
       "    <tr>\n",
       "      <th>9</th>\n",
       "      <td>VAT</td>\n",
       "      <td>500</td>\n",
       "      <td>50021</td>\n",
       "      <td>Asia</td>\n",
       "      <td>UAE</td>\n",
       "      <td>2018</td>\n",
       "      <td>32,673</td>\n",
       "      <td>5881.14</td>\n",
       "    </tr>\n",
       "  </tbody>\n",
       "</table>\n",
       "</div>"
      ],
      "text/plain": [
       "  Account Type  Account Group  Account Number Category Location   Year  \\\n",
       "0          VAT            500           50021     Asia     India  2022   \n",
       "1          VAT            500           50021     Asia       UAE  2018   \n",
       "2          VAT            500           50021     Asia     India  2019   \n",
       "3          VAT            500           50021     Asia       UAE  2022   \n",
       "4          VAT            500           50021     Asia     India  2018   \n",
       "5          VAT            500           50021     Asia       UAE  2019   \n",
       "6          VAT            500           50021     Asia       UAE  2022   \n",
       "7          VAT            500           50021     Asia     India  2021   \n",
       "8          VAT            500           50021     Asia     India  2022   \n",
       "9          VAT            500           50021     Asia       UAE  2018   \n",
       "\n",
       "  Collection       tax  \n",
       "0     97,841  17611.38  \n",
       "1     27,652   4977.36  \n",
       "2     83,770  15078.60  \n",
       "3     49,229   8861.22  \n",
       "4     17,539   3157.02  \n",
       "5     57,948  10430.64  \n",
       "6     89,787  16161.66  \n",
       "7     93,969  16914.42  \n",
       "8     36,708   6607.44  \n",
       "9     32,673   5881.14  "
      ]
     },
     "execution_count": 39,
     "metadata": {},
     "output_type": "execute_result"
    }
   ],
   "source": [
    "data.head(10)"
   ]
  },
  {
   "cell_type": "code",
   "execution_count": 41,
   "id": "419be658",
   "metadata": {
    "scrolled": false
   },
   "outputs": [
    {
     "data": {
      "text/html": [
       "<div>\n",
       "<style scoped>\n",
       "    .dataframe tbody tr th:only-of-type {\n",
       "        vertical-align: middle;\n",
       "    }\n",
       "\n",
       "    .dataframe tbody tr th {\n",
       "        vertical-align: top;\n",
       "    }\n",
       "\n",
       "    .dataframe thead th {\n",
       "        text-align: right;\n",
       "    }\n",
       "</style>\n",
       "<table border=\"1\" class=\"dataframe\">\n",
       "  <thead>\n",
       "    <tr style=\"text-align: right;\">\n",
       "      <th></th>\n",
       "      <th>Account Type</th>\n",
       "      <th>Account Group</th>\n",
       "      <th>Account Number</th>\n",
       "      <th>Category</th>\n",
       "      <th>Location</th>\n",
       "      <th>Year</th>\n",
       "      <th>Collection</th>\n",
       "      <th>tax</th>\n",
       "    </tr>\n",
       "  </thead>\n",
       "  <tbody>\n",
       "    <tr>\n",
       "      <th>5</th>\n",
       "      <td>VAT</td>\n",
       "      <td>500</td>\n",
       "      <td>50021</td>\n",
       "      <td>Asia</td>\n",
       "      <td>UAE</td>\n",
       "      <td>2019</td>\n",
       "      <td>57,948</td>\n",
       "      <td>10430.64</td>\n",
       "    </tr>\n",
       "    <tr>\n",
       "      <th>6</th>\n",
       "      <td>VAT</td>\n",
       "      <td>500</td>\n",
       "      <td>50021</td>\n",
       "      <td>Asia</td>\n",
       "      <td>UAE</td>\n",
       "      <td>2022</td>\n",
       "      <td>89,787</td>\n",
       "      <td>16161.66</td>\n",
       "    </tr>\n",
       "    <tr>\n",
       "      <th>7</th>\n",
       "      <td>VAT</td>\n",
       "      <td>500</td>\n",
       "      <td>50021</td>\n",
       "      <td>Asia</td>\n",
       "      <td>India</td>\n",
       "      <td>2021</td>\n",
       "      <td>93,969</td>\n",
       "      <td>16914.42</td>\n",
       "    </tr>\n",
       "    <tr>\n",
       "      <th>8</th>\n",
       "      <td>VAT</td>\n",
       "      <td>500</td>\n",
       "      <td>50021</td>\n",
       "      <td>Asia</td>\n",
       "      <td>India</td>\n",
       "      <td>2022</td>\n",
       "      <td>36,708</td>\n",
       "      <td>6607.44</td>\n",
       "    </tr>\n",
       "    <tr>\n",
       "      <th>9</th>\n",
       "      <td>VAT</td>\n",
       "      <td>500</td>\n",
       "      <td>50021</td>\n",
       "      <td>Asia</td>\n",
       "      <td>UAE</td>\n",
       "      <td>2018</td>\n",
       "      <td>32,673</td>\n",
       "      <td>5881.14</td>\n",
       "    </tr>\n",
       "  </tbody>\n",
       "</table>\n",
       "</div>"
      ],
      "text/plain": [
       "  Account Type  Account Group  Account Number Category Location   Year  \\\n",
       "5          VAT            500           50021     Asia       UAE  2019   \n",
       "6          VAT            500           50021     Asia       UAE  2022   \n",
       "7          VAT            500           50021     Asia     India  2021   \n",
       "8          VAT            500           50021     Asia     India  2022   \n",
       "9          VAT            500           50021     Asia       UAE  2018   \n",
       "\n",
       "  Collection       tax  \n",
       "5     57,948  10430.64  \n",
       "6     89,787  16161.66  \n",
       "7     93,969  16914.42  \n",
       "8     36,708   6607.44  \n",
       "9     32,673   5881.14  "
      ]
     },
     "execution_count": 41,
     "metadata": {},
     "output_type": "execute_result"
    }
   ],
   "source": [
    "data[5:10]"
   ]
  },
  {
   "cell_type": "code",
   "execution_count": 48,
   "id": "ec136f9f",
   "metadata": {
    "scrolled": true
   },
   "outputs": [
    {
     "data": {
      "text/html": [
       "<div>\n",
       "<style scoped>\n",
       "    .dataframe tbody tr th:only-of-type {\n",
       "        vertical-align: middle;\n",
       "    }\n",
       "\n",
       "    .dataframe tbody tr th {\n",
       "        vertical-align: top;\n",
       "    }\n",
       "\n",
       "    .dataframe thead th {\n",
       "        text-align: right;\n",
       "    }\n",
       "</style>\n",
       "<table border=\"1\" class=\"dataframe\">\n",
       "  <thead>\n",
       "    <tr style=\"text-align: right;\">\n",
       "      <th></th>\n",
       "      <th>Account Type</th>\n",
       "      <th>Account Group</th>\n",
       "      <th>Account Number</th>\n",
       "      <th>Category</th>\n",
       "      <th>Location</th>\n",
       "      <th>Year</th>\n",
       "      <th>Collection</th>\n",
       "      <th>tax</th>\n",
       "    </tr>\n",
       "  </thead>\n",
       "  <tbody>\n",
       "    <tr>\n",
       "      <th>5</th>\n",
       "      <td>VAT</td>\n",
       "      <td>500</td>\n",
       "      <td>50021</td>\n",
       "      <td>Asia</td>\n",
       "      <td>UAE</td>\n",
       "      <td>2020</td>\n",
       "      <td>57,948</td>\n",
       "      <td>10430.64</td>\n",
       "    </tr>\n",
       "    <tr>\n",
       "      <th>6</th>\n",
       "      <td>VAT</td>\n",
       "      <td>500</td>\n",
       "      <td>50021</td>\n",
       "      <td>Asia</td>\n",
       "      <td>UAE</td>\n",
       "      <td>2022</td>\n",
       "      <td>89,787</td>\n",
       "      <td>16161.66</td>\n",
       "    </tr>\n",
       "    <tr>\n",
       "      <th>7</th>\n",
       "      <td>VAT</td>\n",
       "      <td>500</td>\n",
       "      <td>50021</td>\n",
       "      <td>Asia</td>\n",
       "      <td>India</td>\n",
       "      <td>2021</td>\n",
       "      <td>93,969</td>\n",
       "      <td>16914.42</td>\n",
       "    </tr>\n",
       "    <tr>\n",
       "      <th>8</th>\n",
       "      <td>VAT</td>\n",
       "      <td>500</td>\n",
       "      <td>50021</td>\n",
       "      <td>Asia</td>\n",
       "      <td>India</td>\n",
       "      <td>2022</td>\n",
       "      <td>36,708</td>\n",
       "      <td>6607.44</td>\n",
       "    </tr>\n",
       "    <tr>\n",
       "      <th>9</th>\n",
       "      <td>VAT</td>\n",
       "      <td>500</td>\n",
       "      <td>50021</td>\n",
       "      <td>Asia</td>\n",
       "      <td>UAE</td>\n",
       "      <td>2018</td>\n",
       "      <td>32,673</td>\n",
       "      <td>5881.14</td>\n",
       "    </tr>\n",
       "  </tbody>\n",
       "</table>\n",
       "</div>"
      ],
      "text/plain": [
       "  Account Type  Account Group  Account Number Category Location   Year  \\\n",
       "5          VAT            500           50021     Asia       UAE  2020   \n",
       "6          VAT            500           50021     Asia       UAE  2022   \n",
       "7          VAT            500           50021     Asia     India  2021   \n",
       "8          VAT            500           50021     Asia     India  2022   \n",
       "9          VAT            500           50021     Asia       UAE  2018   \n",
       "\n",
       "  Collection       tax  \n",
       "5     57,948  10430.64  \n",
       "6     89,787  16161.66  \n",
       "7     93,969  16914.42  \n",
       "8     36,708   6607.44  \n",
       "9     32,673   5881.14  "
      ]
     },
     "execution_count": 48,
     "metadata": {},
     "output_type": "execute_result"
    }
   ],
   "source": [
    "data.iloc[5:10]"
   ]
  },
  {
   "cell_type": "code",
   "execution_count": 44,
   "id": "11d97b13",
   "metadata": {
    "scrolled": false
   },
   "outputs": [
    {
     "data": {
      "text/plain": [
       "Account Type           VAT\n",
       "Account Group          500\n",
       "Account Number       50021\n",
       "Category              Asia\n",
       "Location               UAE\n",
       "Year                  2019\n",
       "Collection          57,948\n",
       "tax               10430.64\n",
       "Name: 5, dtype: object"
      ]
     },
     "execution_count": 44,
     "metadata": {},
     "output_type": "execute_result"
    }
   ],
   "source": [
    "data.iloc[5]"
   ]
  },
  {
   "cell_type": "code",
   "execution_count": 49,
   "id": "275a57bb",
   "metadata": {},
   "outputs": [],
   "source": [
    "data.iloc[5,5]=2019"
   ]
  },
  {
   "cell_type": "code",
   "execution_count": 50,
   "id": "5ff4af89",
   "metadata": {},
   "outputs": [
    {
     "data": {
      "text/plain": [
       "Account Type           VAT\n",
       "Account Group          500\n",
       "Account Number       50021\n",
       "Category              Asia\n",
       "Location               UAE\n",
       "Year                  2019\n",
       "Collection          57,948\n",
       "tax               10430.64\n",
       "Name: 5, dtype: object"
      ]
     },
     "execution_count": 50,
     "metadata": {},
     "output_type": "execute_result"
    }
   ],
   "source": [
    "data.iloc[5]"
   ]
  },
  {
   "cell_type": "code",
   "execution_count": 52,
   "id": "e0a07ed7",
   "metadata": {
    "scrolled": false
   },
   "outputs": [
    {
     "data": {
      "text/plain": [
       "Account Type            VAT\n",
       "Account Group           500\n",
       "Account Number        50021\n",
       "Category               Asia\n",
       "Location          Singapore\n",
       "Year                   2022\n",
       "Collection           44,461\n",
       "tax                 8002.98\n",
       "Name: 19, dtype: object"
      ]
     },
     "execution_count": 52,
     "metadata": {},
     "output_type": "execute_result"
    }
   ],
   "source": [
    "data.iloc[19]"
   ]
  },
  {
   "cell_type": "code",
   "execution_count": 59,
   "id": "1e7d143f",
   "metadata": {
    "scrolled": false
   },
   "outputs": [
    {
     "name": "stdout",
     "output_type": "stream",
     "text": [
      "<class 'pandas.core.frame.DataFrame'>\n",
      "RangeIndex: 165 entries, 0 to 164\n",
      "Data columns (total 8 columns):\n",
      " #   Column          Non-Null Count  Dtype  \n",
      "---  ------          --------------  -----  \n",
      " 0   Account Type    165 non-null    object \n",
      " 1   Account Group   165 non-null    int64  \n",
      " 2   Account Number  165 non-null    int64  \n",
      " 3   Category        165 non-null    object \n",
      " 4   Location        165 non-null    object \n",
      " 5   Year            165 non-null    int64  \n",
      " 6   Collection      165 non-null    object \n",
      " 7   tax             165 non-null    float64\n",
      "dtypes: float64(1), int64(3), object(4)\n",
      "memory usage: 10.4+ KB\n"
     ]
    }
   ],
   "source": [
    "data.info()"
   ]
  },
  {
   "cell_type": "code",
   "execution_count": 61,
   "id": "3f5d4bca",
   "metadata": {},
   "outputs": [
    {
     "data": {
      "text/plain": [
       "VAT              83\n",
       "Corporate Tax    82\n",
       "Name: Account Type, dtype: int64"
      ]
     },
     "execution_count": 61,
     "metadata": {},
     "output_type": "execute_result"
    }
   ],
   "source": [
    "data[\"Account Type\"].value_counts()"
   ]
  },
  {
   "cell_type": "code",
   "execution_count": 64,
   "id": "671fdd40",
   "metadata": {
    "scrolled": false
   },
   "outputs": [
    {
     "data": {
      "text/plain": [
       "500    144\n",
       "600     21\n",
       "Name: Account Group, dtype: int64"
      ]
     },
     "execution_count": 64,
     "metadata": {},
     "output_type": "execute_result"
    }
   ],
   "source": [
    "data[\"Account Group\"].value_counts()"
   ]
  },
  {
   "cell_type": "code",
   "execution_count": 56,
   "id": "ada9f460",
   "metadata": {
    "scrolled": true
   },
   "outputs": [
    {
     "data": {
      "text/plain": [
       "Asia             144\n",
       "North America     13\n",
       "Australia          5\n",
       "Europe             3\n",
       "Name: Category, dtype: int64"
      ]
     },
     "execution_count": 56,
     "metadata": {},
     "output_type": "execute_result"
    }
   ],
   "source": [
    "data[\"Category\"].value_counts()"
   ]
  },
  {
   "cell_type": "code",
   "execution_count": 65,
   "id": "044f4fab",
   "metadata": {
    "scrolled": true
   },
   "outputs": [
    {
     "data": {
      "text/plain": [
       "India        64\n",
       "UAE          37\n",
       "Kuwait       20\n",
       "Singapore    13\n",
       "Qatar        10\n",
       "USA          10\n",
       "Australia     5\n",
       "Canada        3\n",
       "Germany       3\n",
       "Name: Location , dtype: int64"
      ]
     },
     "execution_count": 65,
     "metadata": {},
     "output_type": "execute_result"
    }
   ],
   "source": [
    "data[\"Location \"].value_counts()"
   ]
  },
  {
   "cell_type": "code",
   "execution_count": 69,
   "id": "23432b61",
   "metadata": {
    "scrolled": false
   },
   "outputs": [
    {
     "data": {
      "text/plain": [
       "2022    101\n",
       "2018     16\n",
       "2019     16\n",
       "2021     16\n",
       "2020     16\n",
       "Name: Year, dtype: int64"
      ]
     },
     "execution_count": 69,
     "metadata": {},
     "output_type": "execute_result"
    }
   ],
   "source": [
    "data['Year'].value_counts()"
   ]
  },
  {
   "cell_type": "code",
   "execution_count": 70,
   "id": "49c9ea36",
   "metadata": {},
   "outputs": [
    {
     "data": {
      "text/html": [
       "<div>\n",
       "<style scoped>\n",
       "    .dataframe tbody tr th:only-of-type {\n",
       "        vertical-align: middle;\n",
       "    }\n",
       "\n",
       "    .dataframe tbody tr th {\n",
       "        vertical-align: top;\n",
       "    }\n",
       "\n",
       "    .dataframe thead th {\n",
       "        text-align: right;\n",
       "    }\n",
       "</style>\n",
       "<table border=\"1\" class=\"dataframe\">\n",
       "  <thead>\n",
       "    <tr style=\"text-align: right;\">\n",
       "      <th></th>\n",
       "      <th>Account Type</th>\n",
       "      <th>Account Group</th>\n",
       "      <th>Account Number</th>\n",
       "      <th>Category</th>\n",
       "      <th>Location</th>\n",
       "      <th>Year</th>\n",
       "      <th>Collection</th>\n",
       "      <th>tax</th>\n",
       "    </tr>\n",
       "  </thead>\n",
       "  <tbody>\n",
       "    <tr>\n",
       "      <th>0</th>\n",
       "      <td>VAT</td>\n",
       "      <td>500</td>\n",
       "      <td>50021</td>\n",
       "      <td>Asia</td>\n",
       "      <td>India</td>\n",
       "      <td>2022</td>\n",
       "      <td>97,841</td>\n",
       "      <td>17611.38</td>\n",
       "    </tr>\n",
       "    <tr>\n",
       "      <th>1</th>\n",
       "      <td>VAT</td>\n",
       "      <td>500</td>\n",
       "      <td>50021</td>\n",
       "      <td>Asia</td>\n",
       "      <td>UAE</td>\n",
       "      <td>2018</td>\n",
       "      <td>27,652</td>\n",
       "      <td>4977.36</td>\n",
       "    </tr>\n",
       "    <tr>\n",
       "      <th>2</th>\n",
       "      <td>VAT</td>\n",
       "      <td>500</td>\n",
       "      <td>50021</td>\n",
       "      <td>Asia</td>\n",
       "      <td>India</td>\n",
       "      <td>2019</td>\n",
       "      <td>83,770</td>\n",
       "      <td>15078.60</td>\n",
       "    </tr>\n",
       "    <tr>\n",
       "      <th>3</th>\n",
       "      <td>VAT</td>\n",
       "      <td>500</td>\n",
       "      <td>50021</td>\n",
       "      <td>Asia</td>\n",
       "      <td>UAE</td>\n",
       "      <td>2022</td>\n",
       "      <td>49,229</td>\n",
       "      <td>8861.22</td>\n",
       "    </tr>\n",
       "    <tr>\n",
       "      <th>4</th>\n",
       "      <td>VAT</td>\n",
       "      <td>500</td>\n",
       "      <td>50021</td>\n",
       "      <td>Asia</td>\n",
       "      <td>India</td>\n",
       "      <td>2018</td>\n",
       "      <td>17,539</td>\n",
       "      <td>3157.02</td>\n",
       "    </tr>\n",
       "    <tr>\n",
       "      <th>...</th>\n",
       "      <td>...</td>\n",
       "      <td>...</td>\n",
       "      <td>...</td>\n",
       "      <td>...</td>\n",
       "      <td>...</td>\n",
       "      <td>...</td>\n",
       "      <td>...</td>\n",
       "      <td>...</td>\n",
       "    </tr>\n",
       "    <tr>\n",
       "      <th>139</th>\n",
       "      <td>Corporate Tax</td>\n",
       "      <td>500</td>\n",
       "      <td>50022</td>\n",
       "      <td>Asia</td>\n",
       "      <td>Kuwait</td>\n",
       "      <td>2022</td>\n",
       "      <td>38,830</td>\n",
       "      <td>9707.50</td>\n",
       "    </tr>\n",
       "    <tr>\n",
       "      <th>140</th>\n",
       "      <td>Corporate Tax</td>\n",
       "      <td>500</td>\n",
       "      <td>50022</td>\n",
       "      <td>Asia</td>\n",
       "      <td>UAE</td>\n",
       "      <td>2019</td>\n",
       "      <td>20,739</td>\n",
       "      <td>5184.75</td>\n",
       "    </tr>\n",
       "    <tr>\n",
       "      <th>141</th>\n",
       "      <td>Corporate Tax</td>\n",
       "      <td>500</td>\n",
       "      <td>50022</td>\n",
       "      <td>Asia</td>\n",
       "      <td>India</td>\n",
       "      <td>2018</td>\n",
       "      <td>89,640</td>\n",
       "      <td>22410.00</td>\n",
       "    </tr>\n",
       "    <tr>\n",
       "      <th>142</th>\n",
       "      <td>Corporate Tax</td>\n",
       "      <td>500</td>\n",
       "      <td>50022</td>\n",
       "      <td>Asia</td>\n",
       "      <td>UAE</td>\n",
       "      <td>2019</td>\n",
       "      <td>28,073</td>\n",
       "      <td>7018.25</td>\n",
       "    </tr>\n",
       "    <tr>\n",
       "      <th>143</th>\n",
       "      <td>Corporate Tax</td>\n",
       "      <td>500</td>\n",
       "      <td>50022</td>\n",
       "      <td>Asia</td>\n",
       "      <td>India</td>\n",
       "      <td>2022</td>\n",
       "      <td>13,836</td>\n",
       "      <td>3459.00</td>\n",
       "    </tr>\n",
       "  </tbody>\n",
       "</table>\n",
       "<p>144 rows × 8 columns</p>\n",
       "</div>"
      ],
      "text/plain": [
       "      Account Type  Account Group  Account Number Category Location   Year  \\\n",
       "0              VAT            500           50021     Asia     India  2022   \n",
       "1              VAT            500           50021     Asia       UAE  2018   \n",
       "2              VAT            500           50021     Asia     India  2019   \n",
       "3              VAT            500           50021     Asia       UAE  2022   \n",
       "4              VAT            500           50021     Asia     India  2018   \n",
       "..             ...            ...             ...      ...       ...   ...   \n",
       "139  Corporate Tax            500           50022     Asia    Kuwait  2022   \n",
       "140  Corporate Tax            500           50022     Asia       UAE  2019   \n",
       "141  Corporate Tax            500           50022     Asia     India  2018   \n",
       "142  Corporate Tax            500           50022     Asia       UAE  2019   \n",
       "143  Corporate Tax            500           50022     Asia     India  2022   \n",
       "\n",
       "    Collection       tax  \n",
       "0       97,841  17611.38  \n",
       "1       27,652   4977.36  \n",
       "2       83,770  15078.60  \n",
       "3       49,229   8861.22  \n",
       "4       17,539   3157.02  \n",
       "..         ...       ...  \n",
       "139     38,830   9707.50  \n",
       "140     20,739   5184.75  \n",
       "141     89,640  22410.00  \n",
       "142     28,073   7018.25  \n",
       "143     13,836   3459.00  \n",
       "\n",
       "[144 rows x 8 columns]"
      ]
     },
     "execution_count": 70,
     "metadata": {},
     "output_type": "execute_result"
    }
   ],
   "source": [
    "data.loc[data[\"Category\"]==\"Asia\"]"
   ]
  },
  {
   "cell_type": "code",
   "execution_count": 71,
   "id": "bed4eefb",
   "metadata": {},
   "outputs": [],
   "source": [
    "asia=data.loc[data[\"Category\"]==\"Asia\"]"
   ]
  },
  {
   "cell_type": "code",
   "execution_count": 72,
   "id": "7f56e0ad",
   "metadata": {
    "scrolled": true
   },
   "outputs": [
    {
     "data": {
      "text/html": [
       "<div>\n",
       "<style scoped>\n",
       "    .dataframe tbody tr th:only-of-type {\n",
       "        vertical-align: middle;\n",
       "    }\n",
       "\n",
       "    .dataframe tbody tr th {\n",
       "        vertical-align: top;\n",
       "    }\n",
       "\n",
       "    .dataframe thead th {\n",
       "        text-align: right;\n",
       "    }\n",
       "</style>\n",
       "<table border=\"1\" class=\"dataframe\">\n",
       "  <thead>\n",
       "    <tr style=\"text-align: right;\">\n",
       "      <th></th>\n",
       "      <th>Account Type</th>\n",
       "      <th>Account Group</th>\n",
       "      <th>Account Number</th>\n",
       "      <th>Category</th>\n",
       "      <th>Location</th>\n",
       "      <th>Year</th>\n",
       "      <th>Collection</th>\n",
       "      <th>tax</th>\n",
       "    </tr>\n",
       "  </thead>\n",
       "  <tbody>\n",
       "    <tr>\n",
       "      <th>0</th>\n",
       "      <td>VAT</td>\n",
       "      <td>500</td>\n",
       "      <td>50021</td>\n",
       "      <td>Asia</td>\n",
       "      <td>India</td>\n",
       "      <td>2022</td>\n",
       "      <td>97,841</td>\n",
       "      <td>17611.38</td>\n",
       "    </tr>\n",
       "    <tr>\n",
       "      <th>1</th>\n",
       "      <td>VAT</td>\n",
       "      <td>500</td>\n",
       "      <td>50021</td>\n",
       "      <td>Asia</td>\n",
       "      <td>UAE</td>\n",
       "      <td>2018</td>\n",
       "      <td>27,652</td>\n",
       "      <td>4977.36</td>\n",
       "    </tr>\n",
       "    <tr>\n",
       "      <th>2</th>\n",
       "      <td>VAT</td>\n",
       "      <td>500</td>\n",
       "      <td>50021</td>\n",
       "      <td>Asia</td>\n",
       "      <td>India</td>\n",
       "      <td>2019</td>\n",
       "      <td>83,770</td>\n",
       "      <td>15078.60</td>\n",
       "    </tr>\n",
       "    <tr>\n",
       "      <th>3</th>\n",
       "      <td>VAT</td>\n",
       "      <td>500</td>\n",
       "      <td>50021</td>\n",
       "      <td>Asia</td>\n",
       "      <td>UAE</td>\n",
       "      <td>2022</td>\n",
       "      <td>49,229</td>\n",
       "      <td>8861.22</td>\n",
       "    </tr>\n",
       "    <tr>\n",
       "      <th>4</th>\n",
       "      <td>VAT</td>\n",
       "      <td>500</td>\n",
       "      <td>50021</td>\n",
       "      <td>Asia</td>\n",
       "      <td>India</td>\n",
       "      <td>2018</td>\n",
       "      <td>17,539</td>\n",
       "      <td>3157.02</td>\n",
       "    </tr>\n",
       "    <tr>\n",
       "      <th>...</th>\n",
       "      <td>...</td>\n",
       "      <td>...</td>\n",
       "      <td>...</td>\n",
       "      <td>...</td>\n",
       "      <td>...</td>\n",
       "      <td>...</td>\n",
       "      <td>...</td>\n",
       "      <td>...</td>\n",
       "    </tr>\n",
       "    <tr>\n",
       "      <th>139</th>\n",
       "      <td>Corporate Tax</td>\n",
       "      <td>500</td>\n",
       "      <td>50022</td>\n",
       "      <td>Asia</td>\n",
       "      <td>Kuwait</td>\n",
       "      <td>2022</td>\n",
       "      <td>38,830</td>\n",
       "      <td>9707.50</td>\n",
       "    </tr>\n",
       "    <tr>\n",
       "      <th>140</th>\n",
       "      <td>Corporate Tax</td>\n",
       "      <td>500</td>\n",
       "      <td>50022</td>\n",
       "      <td>Asia</td>\n",
       "      <td>UAE</td>\n",
       "      <td>2019</td>\n",
       "      <td>20,739</td>\n",
       "      <td>5184.75</td>\n",
       "    </tr>\n",
       "    <tr>\n",
       "      <th>141</th>\n",
       "      <td>Corporate Tax</td>\n",
       "      <td>500</td>\n",
       "      <td>50022</td>\n",
       "      <td>Asia</td>\n",
       "      <td>India</td>\n",
       "      <td>2018</td>\n",
       "      <td>89,640</td>\n",
       "      <td>22410.00</td>\n",
       "    </tr>\n",
       "    <tr>\n",
       "      <th>142</th>\n",
       "      <td>Corporate Tax</td>\n",
       "      <td>500</td>\n",
       "      <td>50022</td>\n",
       "      <td>Asia</td>\n",
       "      <td>UAE</td>\n",
       "      <td>2019</td>\n",
       "      <td>28,073</td>\n",
       "      <td>7018.25</td>\n",
       "    </tr>\n",
       "    <tr>\n",
       "      <th>143</th>\n",
       "      <td>Corporate Tax</td>\n",
       "      <td>500</td>\n",
       "      <td>50022</td>\n",
       "      <td>Asia</td>\n",
       "      <td>India</td>\n",
       "      <td>2022</td>\n",
       "      <td>13,836</td>\n",
       "      <td>3459.00</td>\n",
       "    </tr>\n",
       "  </tbody>\n",
       "</table>\n",
       "<p>144 rows × 8 columns</p>\n",
       "</div>"
      ],
      "text/plain": [
       "      Account Type  Account Group  Account Number Category Location   Year  \\\n",
       "0              VAT            500           50021     Asia     India  2022   \n",
       "1              VAT            500           50021     Asia       UAE  2018   \n",
       "2              VAT            500           50021     Asia     India  2019   \n",
       "3              VAT            500           50021     Asia       UAE  2022   \n",
       "4              VAT            500           50021     Asia     India  2018   \n",
       "..             ...            ...             ...      ...       ...   ...   \n",
       "139  Corporate Tax            500           50022     Asia    Kuwait  2022   \n",
       "140  Corporate Tax            500           50022     Asia       UAE  2019   \n",
       "141  Corporate Tax            500           50022     Asia     India  2018   \n",
       "142  Corporate Tax            500           50022     Asia       UAE  2019   \n",
       "143  Corporate Tax            500           50022     Asia     India  2022   \n",
       "\n",
       "    Collection       tax  \n",
       "0       97,841  17611.38  \n",
       "1       27,652   4977.36  \n",
       "2       83,770  15078.60  \n",
       "3       49,229   8861.22  \n",
       "4       17,539   3157.02  \n",
       "..         ...       ...  \n",
       "139     38,830   9707.50  \n",
       "140     20,739   5184.75  \n",
       "141     89,640  22410.00  \n",
       "142     28,073   7018.25  \n",
       "143     13,836   3459.00  \n",
       "\n",
       "[144 rows x 8 columns]"
      ]
     },
     "execution_count": 72,
     "metadata": {},
     "output_type": "execute_result"
    }
   ],
   "source": [
    "asia"
   ]
  },
  {
   "cell_type": "code",
   "execution_count": 75,
   "id": "2b1dca0b",
   "metadata": {},
   "outputs": [],
   "source": [
    "na=data.loc[data[\"Category\"]==\"North America\"]"
   ]
  },
  {
   "cell_type": "code",
   "execution_count": 76,
   "id": "9e49c146",
   "metadata": {},
   "outputs": [
    {
     "name": "stdout",
     "output_type": "stream",
     "text": [
      "<class 'pandas.core.frame.DataFrame'>\n",
      "Int64Index: 144 entries, 0 to 143\n",
      "Data columns (total 8 columns):\n",
      " #   Column          Non-Null Count  Dtype  \n",
      "---  ------          --------------  -----  \n",
      " 0   Account Type    144 non-null    object \n",
      " 1   Account Group   144 non-null    int64  \n",
      " 2   Account Number  144 non-null    int64  \n",
      " 3   Category        144 non-null    object \n",
      " 4   Location        144 non-null    object \n",
      " 5   Year            144 non-null    int64  \n",
      " 6   Collection      144 non-null    object \n",
      " 7   tax             144 non-null    float64\n",
      "dtypes: float64(1), int64(3), object(4)\n",
      "memory usage: 10.1+ KB\n"
     ]
    }
   ],
   "source": [
    "asia.info()"
   ]
  },
  {
   "cell_type": "code",
   "execution_count": 74,
   "id": "081656c8",
   "metadata": {},
   "outputs": [
    {
     "data": {
      "text/html": [
       "<div>\n",
       "<style scoped>\n",
       "    .dataframe tbody tr th:only-of-type {\n",
       "        vertical-align: middle;\n",
       "    }\n",
       "\n",
       "    .dataframe tbody tr th {\n",
       "        vertical-align: top;\n",
       "    }\n",
       "\n",
       "    .dataframe thead th {\n",
       "        text-align: right;\n",
       "    }\n",
       "</style>\n",
       "<table border=\"1\" class=\"dataframe\">\n",
       "  <thead>\n",
       "    <tr style=\"text-align: right;\">\n",
       "      <th></th>\n",
       "      <th>Account Group</th>\n",
       "      <th>Account Number</th>\n",
       "      <th>Year</th>\n",
       "      <th>tax</th>\n",
       "    </tr>\n",
       "  </thead>\n",
       "  <tbody>\n",
       "    <tr>\n",
       "      <th>count</th>\n",
       "      <td>144.0</td>\n",
       "      <td>144.000000</td>\n",
       "      <td>144.000000</td>\n",
       "      <td>144.000000</td>\n",
       "    </tr>\n",
       "    <tr>\n",
       "      <th>mean</th>\n",
       "      <td>500.0</td>\n",
       "      <td>50021.500000</td>\n",
       "      <td>2021.027778</td>\n",
       "      <td>11536.994792</td>\n",
       "    </tr>\n",
       "    <tr>\n",
       "      <th>std</th>\n",
       "      <td>0.0</td>\n",
       "      <td>0.501745</td>\n",
       "      <td>1.408984</td>\n",
       "      <td>5754.674018</td>\n",
       "    </tr>\n",
       "    <tr>\n",
       "      <th>min</th>\n",
       "      <td>500.0</td>\n",
       "      <td>50021.000000</td>\n",
       "      <td>2018.000000</td>\n",
       "      <td>2167.200000</td>\n",
       "    </tr>\n",
       "    <tr>\n",
       "      <th>25%</th>\n",
       "      <td>500.0</td>\n",
       "      <td>50021.000000</td>\n",
       "      <td>2020.000000</td>\n",
       "      <td>6983.992500</td>\n",
       "    </tr>\n",
       "    <tr>\n",
       "      <th>50%</th>\n",
       "      <td>500.0</td>\n",
       "      <td>50021.500000</td>\n",
       "      <td>2022.000000</td>\n",
       "      <td>10917.375000</td>\n",
       "    </tr>\n",
       "    <tr>\n",
       "      <th>75%</th>\n",
       "      <td>500.0</td>\n",
       "      <td>50022.000000</td>\n",
       "      <td>2022.000000</td>\n",
       "      <td>15871.005000</td>\n",
       "    </tr>\n",
       "    <tr>\n",
       "      <th>max</th>\n",
       "      <td>500.0</td>\n",
       "      <td>50022.000000</td>\n",
       "      <td>2022.000000</td>\n",
       "      <td>24719.250000</td>\n",
       "    </tr>\n",
       "  </tbody>\n",
       "</table>\n",
       "</div>"
      ],
      "text/plain": [
       "       Account Group  Account Number         Year           tax\n",
       "count          144.0      144.000000   144.000000    144.000000\n",
       "mean           500.0    50021.500000  2021.027778  11536.994792\n",
       "std              0.0        0.501745     1.408984   5754.674018\n",
       "min            500.0    50021.000000  2018.000000   2167.200000\n",
       "25%            500.0    50021.000000  2020.000000   6983.992500\n",
       "50%            500.0    50021.500000  2022.000000  10917.375000\n",
       "75%            500.0    50022.000000  2022.000000  15871.005000\n",
       "max            500.0    50022.000000  2022.000000  24719.250000"
      ]
     },
     "execution_count": 74,
     "metadata": {},
     "output_type": "execute_result"
    }
   ],
   "source": [
    "asia.describe()"
   ]
  },
  {
   "cell_type": "markdown",
   "id": "42e01bc5",
   "metadata": {},
   "source": [
    "## Sorting/ Describe Data"
   ]
  },
  {
   "cell_type": "code",
   "execution_count": null,
   "id": "87f5e6a3",
   "metadata": {},
   "outputs": [],
   "source": [
    "data.info()"
   ]
  },
  {
   "cell_type": "code",
   "execution_count": null,
   "id": "d69a1ce8",
   "metadata": {
    "scrolled": false
   },
   "outputs": [],
   "source": [
    "data.describe()"
   ]
  },
  {
   "cell_type": "code",
   "execution_count": 77,
   "id": "6a356d80",
   "metadata": {},
   "outputs": [
    {
     "data": {
      "text/html": [
       "<div>\n",
       "<style scoped>\n",
       "    .dataframe tbody tr th:only-of-type {\n",
       "        vertical-align: middle;\n",
       "    }\n",
       "\n",
       "    .dataframe tbody tr th {\n",
       "        vertical-align: top;\n",
       "    }\n",
       "\n",
       "    .dataframe thead th {\n",
       "        text-align: right;\n",
       "    }\n",
       "</style>\n",
       "<table border=\"1\" class=\"dataframe\">\n",
       "  <thead>\n",
       "    <tr style=\"text-align: right;\">\n",
       "      <th></th>\n",
       "      <th>Account Type</th>\n",
       "      <th>Account Group</th>\n",
       "      <th>Account Number</th>\n",
       "      <th>Category</th>\n",
       "      <th>Location</th>\n",
       "      <th>Year</th>\n",
       "      <th>Collection</th>\n",
       "      <th>tax</th>\n",
       "    </tr>\n",
       "  </thead>\n",
       "  <tbody>\n",
       "    <tr>\n",
       "      <th>50</th>\n",
       "      <td>VAT</td>\n",
       "      <td>500</td>\n",
       "      <td>50021</td>\n",
       "      <td>Asia</td>\n",
       "      <td>India</td>\n",
       "      <td>2018</td>\n",
       "      <td>67,790</td>\n",
       "      <td>12202.20</td>\n",
       "    </tr>\n",
       "    <tr>\n",
       "      <th>141</th>\n",
       "      <td>Corporate Tax</td>\n",
       "      <td>500</td>\n",
       "      <td>50022</td>\n",
       "      <td>Asia</td>\n",
       "      <td>India</td>\n",
       "      <td>2018</td>\n",
       "      <td>89,640</td>\n",
       "      <td>22410.00</td>\n",
       "    </tr>\n",
       "    <tr>\n",
       "      <th>18</th>\n",
       "      <td>VAT</td>\n",
       "      <td>500</td>\n",
       "      <td>50021</td>\n",
       "      <td>Asia</td>\n",
       "      <td>UAE</td>\n",
       "      <td>2018</td>\n",
       "      <td>88,563</td>\n",
       "      <td>15941.34</td>\n",
       "    </tr>\n",
       "    <tr>\n",
       "      <th>135</th>\n",
       "      <td>Corporate Tax</td>\n",
       "      <td>500</td>\n",
       "      <td>50022</td>\n",
       "      <td>Asia</td>\n",
       "      <td>Singapore</td>\n",
       "      <td>2018</td>\n",
       "      <td>46,860</td>\n",
       "      <td>11715.00</td>\n",
       "    </tr>\n",
       "    <tr>\n",
       "      <th>155</th>\n",
       "      <td>Corporate Tax</td>\n",
       "      <td>600</td>\n",
       "      <td>60042</td>\n",
       "      <td>Australia</td>\n",
       "      <td>Australia</td>\n",
       "      <td>2018</td>\n",
       "      <td>97,487</td>\n",
       "      <td>24371.75</td>\n",
       "    </tr>\n",
       "    <tr>\n",
       "      <th>...</th>\n",
       "      <td>...</td>\n",
       "      <td>...</td>\n",
       "      <td>...</td>\n",
       "      <td>...</td>\n",
       "      <td>...</td>\n",
       "      <td>...</td>\n",
       "      <td>...</td>\n",
       "      <td>...</td>\n",
       "    </tr>\n",
       "    <tr>\n",
       "      <th>58</th>\n",
       "      <td>VAT</td>\n",
       "      <td>500</td>\n",
       "      <td>50021</td>\n",
       "      <td>Asia</td>\n",
       "      <td>India</td>\n",
       "      <td>2022</td>\n",
       "      <td>48,353</td>\n",
       "      <td>8703.54</td>\n",
       "    </tr>\n",
       "    <tr>\n",
       "      <th>57</th>\n",
       "      <td>VAT</td>\n",
       "      <td>500</td>\n",
       "      <td>50021</td>\n",
       "      <td>Asia</td>\n",
       "      <td>Kuwait</td>\n",
       "      <td>2022</td>\n",
       "      <td>61,111</td>\n",
       "      <td>10999.98</td>\n",
       "    </tr>\n",
       "    <tr>\n",
       "      <th>55</th>\n",
       "      <td>VAT</td>\n",
       "      <td>500</td>\n",
       "      <td>50021</td>\n",
       "      <td>Asia</td>\n",
       "      <td>India</td>\n",
       "      <td>2022</td>\n",
       "      <td>30,181</td>\n",
       "      <td>5432.58</td>\n",
       "    </tr>\n",
       "    <tr>\n",
       "      <th>75</th>\n",
       "      <td>Corporate Tax</td>\n",
       "      <td>500</td>\n",
       "      <td>50022</td>\n",
       "      <td>Asia</td>\n",
       "      <td>India</td>\n",
       "      <td>2022</td>\n",
       "      <td>98,877</td>\n",
       "      <td>24719.25</td>\n",
       "    </tr>\n",
       "    <tr>\n",
       "      <th>164</th>\n",
       "      <td>Corporate Tax</td>\n",
       "      <td>600</td>\n",
       "      <td>60042</td>\n",
       "      <td>North America</td>\n",
       "      <td>USA</td>\n",
       "      <td>2022</td>\n",
       "      <td>36,999</td>\n",
       "      <td>9249.75</td>\n",
       "    </tr>\n",
       "  </tbody>\n",
       "</table>\n",
       "<p>165 rows × 8 columns</p>\n",
       "</div>"
      ],
      "text/plain": [
       "      Account Type  Account Group  Account Number       Category  Location   \\\n",
       "50             VAT            500           50021           Asia      India   \n",
       "141  Corporate Tax            500           50022           Asia      India   \n",
       "18             VAT            500           50021           Asia        UAE   \n",
       "135  Corporate Tax            500           50022           Asia  Singapore   \n",
       "155  Corporate Tax            600           60042      Australia  Australia   \n",
       "..             ...            ...             ...            ...        ...   \n",
       "58             VAT            500           50021           Asia      India   \n",
       "57             VAT            500           50021           Asia     Kuwait   \n",
       "55             VAT            500           50021           Asia      India   \n",
       "75   Corporate Tax            500           50022           Asia      India   \n",
       "164  Corporate Tax            600           60042  North America        USA   \n",
       "\n",
       "     Year Collection       tax  \n",
       "50   2018     67,790  12202.20  \n",
       "141  2018     89,640  22410.00  \n",
       "18   2018     88,563  15941.34  \n",
       "135  2018     46,860  11715.00  \n",
       "155  2018     97,487  24371.75  \n",
       "..    ...        ...       ...  \n",
       "58   2022     48,353   8703.54  \n",
       "57   2022     61,111  10999.98  \n",
       "55   2022     30,181   5432.58  \n",
       "75   2022     98,877  24719.25  \n",
       "164  2022     36,999   9249.75  \n",
       "\n",
       "[165 rows x 8 columns]"
      ]
     },
     "execution_count": 77,
     "metadata": {},
     "output_type": "execute_result"
    }
   ],
   "source": [
    "data.sort_values(\"Year\")"
   ]
  },
  {
   "cell_type": "code",
   "execution_count": 78,
   "id": "2e85078d",
   "metadata": {
    "scrolled": true
   },
   "outputs": [
    {
     "data": {
      "text/html": [
       "<div>\n",
       "<style scoped>\n",
       "    .dataframe tbody tr th:only-of-type {\n",
       "        vertical-align: middle;\n",
       "    }\n",
       "\n",
       "    .dataframe tbody tr th {\n",
       "        vertical-align: top;\n",
       "    }\n",
       "\n",
       "    .dataframe thead th {\n",
       "        text-align: right;\n",
       "    }\n",
       "</style>\n",
       "<table border=\"1\" class=\"dataframe\">\n",
       "  <thead>\n",
       "    <tr style=\"text-align: right;\">\n",
       "      <th></th>\n",
       "      <th>Account Type</th>\n",
       "      <th>Account Group</th>\n",
       "      <th>Account Number</th>\n",
       "      <th>Category</th>\n",
       "      <th>Location</th>\n",
       "      <th>Year</th>\n",
       "      <th>Collection</th>\n",
       "      <th>tax</th>\n",
       "    </tr>\n",
       "  </thead>\n",
       "  <tbody>\n",
       "    <tr>\n",
       "      <th>0</th>\n",
       "      <td>VAT</td>\n",
       "      <td>500</td>\n",
       "      <td>50021</td>\n",
       "      <td>Asia</td>\n",
       "      <td>India</td>\n",
       "      <td>2022</td>\n",
       "      <td>97,841</td>\n",
       "      <td>17611.38</td>\n",
       "    </tr>\n",
       "    <tr>\n",
       "      <th>85</th>\n",
       "      <td>Corporate Tax</td>\n",
       "      <td>500</td>\n",
       "      <td>50022</td>\n",
       "      <td>Asia</td>\n",
       "      <td>Singapore</td>\n",
       "      <td>2022</td>\n",
       "      <td>58,803</td>\n",
       "      <td>14700.75</td>\n",
       "    </tr>\n",
       "    <tr>\n",
       "      <th>109</th>\n",
       "      <td>Corporate Tax</td>\n",
       "      <td>500</td>\n",
       "      <td>50022</td>\n",
       "      <td>Asia</td>\n",
       "      <td>India</td>\n",
       "      <td>2022</td>\n",
       "      <td>61,555</td>\n",
       "      <td>15388.75</td>\n",
       "    </tr>\n",
       "    <tr>\n",
       "      <th>108</th>\n",
       "      <td>Corporate Tax</td>\n",
       "      <td>500</td>\n",
       "      <td>50022</td>\n",
       "      <td>Asia</td>\n",
       "      <td>India</td>\n",
       "      <td>2022</td>\n",
       "      <td>59,447</td>\n",
       "      <td>14861.75</td>\n",
       "    </tr>\n",
       "    <tr>\n",
       "      <th>106</th>\n",
       "      <td>Corporate Tax</td>\n",
       "      <td>500</td>\n",
       "      <td>50022</td>\n",
       "      <td>Asia</td>\n",
       "      <td>India</td>\n",
       "      <td>2022</td>\n",
       "      <td>82,884</td>\n",
       "      <td>20721.00</td>\n",
       "    </tr>\n",
       "    <tr>\n",
       "      <th>...</th>\n",
       "      <td>...</td>\n",
       "      <td>...</td>\n",
       "      <td>...</td>\n",
       "      <td>...</td>\n",
       "      <td>...</td>\n",
       "      <td>...</td>\n",
       "      <td>...</td>\n",
       "      <td>...</td>\n",
       "    </tr>\n",
       "    <tr>\n",
       "      <th>117</th>\n",
       "      <td>Corporate Tax</td>\n",
       "      <td>500</td>\n",
       "      <td>50022</td>\n",
       "      <td>Asia</td>\n",
       "      <td>Singapore</td>\n",
       "      <td>2018</td>\n",
       "      <td>43,973</td>\n",
       "      <td>10993.25</td>\n",
       "    </tr>\n",
       "    <tr>\n",
       "      <th>1</th>\n",
       "      <td>VAT</td>\n",
       "      <td>500</td>\n",
       "      <td>50021</td>\n",
       "      <td>Asia</td>\n",
       "      <td>UAE</td>\n",
       "      <td>2018</td>\n",
       "      <td>27,652</td>\n",
       "      <td>4977.36</td>\n",
       "    </tr>\n",
       "    <tr>\n",
       "      <th>105</th>\n",
       "      <td>Corporate Tax</td>\n",
       "      <td>500</td>\n",
       "      <td>50022</td>\n",
       "      <td>Asia</td>\n",
       "      <td>UAE</td>\n",
       "      <td>2018</td>\n",
       "      <td>75,114</td>\n",
       "      <td>18778.50</td>\n",
       "    </tr>\n",
       "    <tr>\n",
       "      <th>62</th>\n",
       "      <td>VAT</td>\n",
       "      <td>500</td>\n",
       "      <td>50021</td>\n",
       "      <td>Asia</td>\n",
       "      <td>UAE</td>\n",
       "      <td>2018</td>\n",
       "      <td>65,557</td>\n",
       "      <td>11800.26</td>\n",
       "    </tr>\n",
       "    <tr>\n",
       "      <th>141</th>\n",
       "      <td>Corporate Tax</td>\n",
       "      <td>500</td>\n",
       "      <td>50022</td>\n",
       "      <td>Asia</td>\n",
       "      <td>India</td>\n",
       "      <td>2018</td>\n",
       "      <td>89,640</td>\n",
       "      <td>22410.00</td>\n",
       "    </tr>\n",
       "  </tbody>\n",
       "</table>\n",
       "<p>165 rows × 8 columns</p>\n",
       "</div>"
      ],
      "text/plain": [
       "      Account Type  Account Group  Account Number Category  Location   Year  \\\n",
       "0              VAT            500           50021     Asia      India  2022   \n",
       "85   Corporate Tax            500           50022     Asia  Singapore  2022   \n",
       "109  Corporate Tax            500           50022     Asia      India  2022   \n",
       "108  Corporate Tax            500           50022     Asia      India  2022   \n",
       "106  Corporate Tax            500           50022     Asia      India  2022   \n",
       "..             ...            ...             ...      ...        ...   ...   \n",
       "117  Corporate Tax            500           50022     Asia  Singapore  2018   \n",
       "1              VAT            500           50021     Asia        UAE  2018   \n",
       "105  Corporate Tax            500           50022     Asia        UAE  2018   \n",
       "62             VAT            500           50021     Asia        UAE  2018   \n",
       "141  Corporate Tax            500           50022     Asia      India  2018   \n",
       "\n",
       "    Collection       tax  \n",
       "0       97,841  17611.38  \n",
       "85      58,803  14700.75  \n",
       "109     61,555  15388.75  \n",
       "108     59,447  14861.75  \n",
       "106     82,884  20721.00  \n",
       "..         ...       ...  \n",
       "117     43,973  10993.25  \n",
       "1       27,652   4977.36  \n",
       "105     75,114  18778.50  \n",
       "62      65,557  11800.26  \n",
       "141     89,640  22410.00  \n",
       "\n",
       "[165 rows x 8 columns]"
      ]
     },
     "execution_count": 78,
     "metadata": {},
     "output_type": "execute_result"
    }
   ],
   "source": [
    "data.sort_values(\"Year\", ascending=False)"
   ]
  },
  {
   "cell_type": "code",
   "execution_count": null,
   "id": "2a520d60",
   "metadata": {},
   "outputs": [],
   "source": [
    "Tax_In = td_df.loc[td_df[\"Location \"] == \"India\"]\n",
    "Tax_In.sort_values(\"Year\")"
   ]
  },
  {
   "cell_type": "code",
   "execution_count": null,
   "id": "4fdeefa4",
   "metadata": {},
   "outputs": [],
   "source": [
    "Tax_In.sort_values(\"Year\", ascending = False)"
   ]
  },
  {
   "cell_type": "markdown",
   "id": "ce2966d1",
   "metadata": {},
   "source": [
    "### Making new data"
   ]
  },
  {
   "cell_type": "code",
   "execution_count": 81,
   "id": "facbf0b7",
   "metadata": {
    "scrolled": true
   },
   "outputs": [
    {
     "data": {
      "text/html": [
       "<div>\n",
       "<style scoped>\n",
       "    .dataframe tbody tr th:only-of-type {\n",
       "        vertical-align: middle;\n",
       "    }\n",
       "\n",
       "    .dataframe tbody tr th {\n",
       "        vertical-align: top;\n",
       "    }\n",
       "\n",
       "    .dataframe thead th {\n",
       "        text-align: right;\n",
       "    }\n",
       "</style>\n",
       "<table border=\"1\" class=\"dataframe\">\n",
       "  <thead>\n",
       "    <tr style=\"text-align: right;\">\n",
       "      <th></th>\n",
       "      <th>Account Type</th>\n",
       "      <th>Account Group</th>\n",
       "      <th>Account Number</th>\n",
       "      <th>Category</th>\n",
       "      <th>Location</th>\n",
       "      <th>Year</th>\n",
       "      <th>Collection</th>\n",
       "      <th>tax</th>\n",
       "    </tr>\n",
       "  </thead>\n",
       "  <tbody>\n",
       "    <tr>\n",
       "      <th>0</th>\n",
       "      <td>VAT</td>\n",
       "      <td>500</td>\n",
       "      <td>50021</td>\n",
       "      <td>Asia</td>\n",
       "      <td>India</td>\n",
       "      <td>2022</td>\n",
       "      <td>97,841</td>\n",
       "      <td>17611.38</td>\n",
       "    </tr>\n",
       "    <tr>\n",
       "      <th>1</th>\n",
       "      <td>VAT</td>\n",
       "      <td>500</td>\n",
       "      <td>50021</td>\n",
       "      <td>Asia</td>\n",
       "      <td>UAE</td>\n",
       "      <td>2018</td>\n",
       "      <td>27,652</td>\n",
       "      <td>4977.36</td>\n",
       "    </tr>\n",
       "    <tr>\n",
       "      <th>2</th>\n",
       "      <td>VAT</td>\n",
       "      <td>500</td>\n",
       "      <td>50021</td>\n",
       "      <td>Asia</td>\n",
       "      <td>India</td>\n",
       "      <td>2019</td>\n",
       "      <td>83,770</td>\n",
       "      <td>15078.60</td>\n",
       "    </tr>\n",
       "    <tr>\n",
       "      <th>3</th>\n",
       "      <td>VAT</td>\n",
       "      <td>500</td>\n",
       "      <td>50021</td>\n",
       "      <td>Asia</td>\n",
       "      <td>UAE</td>\n",
       "      <td>2022</td>\n",
       "      <td>49,229</td>\n",
       "      <td>8861.22</td>\n",
       "    </tr>\n",
       "    <tr>\n",
       "      <th>4</th>\n",
       "      <td>VAT</td>\n",
       "      <td>500</td>\n",
       "      <td>50021</td>\n",
       "      <td>Asia</td>\n",
       "      <td>India</td>\n",
       "      <td>2018</td>\n",
       "      <td>17,539</td>\n",
       "      <td>3157.02</td>\n",
       "    </tr>\n",
       "    <tr>\n",
       "      <th>...</th>\n",
       "      <td>...</td>\n",
       "      <td>...</td>\n",
       "      <td>...</td>\n",
       "      <td>...</td>\n",
       "      <td>...</td>\n",
       "      <td>...</td>\n",
       "      <td>...</td>\n",
       "      <td>...</td>\n",
       "    </tr>\n",
       "    <tr>\n",
       "      <th>160</th>\n",
       "      <td>Corporate Tax</td>\n",
       "      <td>600</td>\n",
       "      <td>60042</td>\n",
       "      <td>North America</td>\n",
       "      <td>USA</td>\n",
       "      <td>2022</td>\n",
       "      <td>48,461</td>\n",
       "      <td>12115.25</td>\n",
       "    </tr>\n",
       "    <tr>\n",
       "      <th>161</th>\n",
       "      <td>Corporate Tax</td>\n",
       "      <td>600</td>\n",
       "      <td>60042</td>\n",
       "      <td>North America</td>\n",
       "      <td>USA</td>\n",
       "      <td>2020</td>\n",
       "      <td>24,574</td>\n",
       "      <td>6143.50</td>\n",
       "    </tr>\n",
       "    <tr>\n",
       "      <th>162</th>\n",
       "      <td>Corporate Tax</td>\n",
       "      <td>600</td>\n",
       "      <td>60042</td>\n",
       "      <td>North America</td>\n",
       "      <td>Canada</td>\n",
       "      <td>2022</td>\n",
       "      <td>45,276</td>\n",
       "      <td>11319.00</td>\n",
       "    </tr>\n",
       "    <tr>\n",
       "      <th>163</th>\n",
       "      <td>Corporate Tax</td>\n",
       "      <td>600</td>\n",
       "      <td>60042</td>\n",
       "      <td>North America</td>\n",
       "      <td>USA</td>\n",
       "      <td>2021</td>\n",
       "      <td>23,736</td>\n",
       "      <td>5934.00</td>\n",
       "    </tr>\n",
       "    <tr>\n",
       "      <th>164</th>\n",
       "      <td>Corporate Tax</td>\n",
       "      <td>600</td>\n",
       "      <td>60042</td>\n",
       "      <td>North America</td>\n",
       "      <td>USA</td>\n",
       "      <td>2022</td>\n",
       "      <td>36,999</td>\n",
       "      <td>9249.75</td>\n",
       "    </tr>\n",
       "  </tbody>\n",
       "</table>\n",
       "<p>165 rows × 8 columns</p>\n",
       "</div>"
      ],
      "text/plain": [
       "      Account Type  Account Group  Account Number       Category Location   \\\n",
       "0              VAT            500           50021           Asia     India   \n",
       "1              VAT            500           50021           Asia       UAE   \n",
       "2              VAT            500           50021           Asia     India   \n",
       "3              VAT            500           50021           Asia       UAE   \n",
       "4              VAT            500           50021           Asia     India   \n",
       "..             ...            ...             ...            ...       ...   \n",
       "160  Corporate Tax            600           60042  North America       USA   \n",
       "161  Corporate Tax            600           60042  North America       USA   \n",
       "162  Corporate Tax            600           60042  North America    Canada   \n",
       "163  Corporate Tax            600           60042  North America       USA   \n",
       "164  Corporate Tax            600           60042  North America       USA   \n",
       "\n",
       "     Year Collection       tax  \n",
       "0    2022     97,841  17611.38  \n",
       "1    2018     27,652   4977.36  \n",
       "2    2019     83,770  15078.60  \n",
       "3    2022     49,229   8861.22  \n",
       "4    2018     17,539   3157.02  \n",
       "..    ...        ...       ...  \n",
       "160  2022     48,461  12115.25  \n",
       "161  2020     24,574   6143.50  \n",
       "162  2022     45,276  11319.00  \n",
       "163  2021     23,736   5934.00  \n",
       "164  2022     36,999   9249.75  \n",
       "\n",
       "[165 rows x 8 columns]"
      ]
     },
     "execution_count": 81,
     "metadata": {},
     "output_type": "execute_result"
    }
   ],
   "source": [
    "data"
   ]
  },
  {
   "cell_type": "code",
   "execution_count": 86,
   "id": "8b45fa20",
   "metadata": {},
   "outputs": [
    {
     "data": {
      "text/html": [
       "<div>\n",
       "<style scoped>\n",
       "    .dataframe tbody tr th:only-of-type {\n",
       "        vertical-align: middle;\n",
       "    }\n",
       "\n",
       "    .dataframe tbody tr th {\n",
       "        vertical-align: top;\n",
       "    }\n",
       "\n",
       "    .dataframe thead th {\n",
       "        text-align: right;\n",
       "    }\n",
       "</style>\n",
       "<table border=\"1\" class=\"dataframe\">\n",
       "  <thead>\n",
       "    <tr style=\"text-align: right;\">\n",
       "      <th></th>\n",
       "      <th>Account Type</th>\n",
       "      <th>Account Group</th>\n",
       "      <th>Account Number</th>\n",
       "      <th>Category</th>\n",
       "      <th>Location</th>\n",
       "      <th>Year</th>\n",
       "      <th>Collection</th>\n",
       "      <th>tax</th>\n",
       "      <th>Actual_Revenue</th>\n",
       "    </tr>\n",
       "  </thead>\n",
       "  <tbody>\n",
       "    <tr>\n",
       "      <th>0</th>\n",
       "      <td>VAT</td>\n",
       "      <td>500</td>\n",
       "      <td>50021</td>\n",
       "      <td>Asia</td>\n",
       "      <td>India</td>\n",
       "      <td>2022</td>\n",
       "      <td>97,841</td>\n",
       "      <td>17611.38</td>\n",
       "      <td>100</td>\n",
       "    </tr>\n",
       "    <tr>\n",
       "      <th>1</th>\n",
       "      <td>VAT</td>\n",
       "      <td>500</td>\n",
       "      <td>50021</td>\n",
       "      <td>Asia</td>\n",
       "      <td>UAE</td>\n",
       "      <td>2018</td>\n",
       "      <td>27,652</td>\n",
       "      <td>4977.36</td>\n",
       "      <td>100</td>\n",
       "    </tr>\n",
       "    <tr>\n",
       "      <th>2</th>\n",
       "      <td>VAT</td>\n",
       "      <td>500</td>\n",
       "      <td>50021</td>\n",
       "      <td>Asia</td>\n",
       "      <td>India</td>\n",
       "      <td>2019</td>\n",
       "      <td>83,770</td>\n",
       "      <td>15078.60</td>\n",
       "      <td>100</td>\n",
       "    </tr>\n",
       "    <tr>\n",
       "      <th>3</th>\n",
       "      <td>VAT</td>\n",
       "      <td>500</td>\n",
       "      <td>50021</td>\n",
       "      <td>Asia</td>\n",
       "      <td>UAE</td>\n",
       "      <td>2022</td>\n",
       "      <td>49,229</td>\n",
       "      <td>8861.22</td>\n",
       "      <td>100</td>\n",
       "    </tr>\n",
       "    <tr>\n",
       "      <th>4</th>\n",
       "      <td>VAT</td>\n",
       "      <td>500</td>\n",
       "      <td>50021</td>\n",
       "      <td>Asia</td>\n",
       "      <td>India</td>\n",
       "      <td>2018</td>\n",
       "      <td>17,539</td>\n",
       "      <td>3157.02</td>\n",
       "      <td>100</td>\n",
       "    </tr>\n",
       "    <tr>\n",
       "      <th>...</th>\n",
       "      <td>...</td>\n",
       "      <td>...</td>\n",
       "      <td>...</td>\n",
       "      <td>...</td>\n",
       "      <td>...</td>\n",
       "      <td>...</td>\n",
       "      <td>...</td>\n",
       "      <td>...</td>\n",
       "      <td>...</td>\n",
       "    </tr>\n",
       "    <tr>\n",
       "      <th>160</th>\n",
       "      <td>Corporate Tax</td>\n",
       "      <td>600</td>\n",
       "      <td>60042</td>\n",
       "      <td>North America</td>\n",
       "      <td>USA</td>\n",
       "      <td>2022</td>\n",
       "      <td>48,461</td>\n",
       "      <td>12115.25</td>\n",
       "      <td>100</td>\n",
       "    </tr>\n",
       "    <tr>\n",
       "      <th>161</th>\n",
       "      <td>Corporate Tax</td>\n",
       "      <td>600</td>\n",
       "      <td>60042</td>\n",
       "      <td>North America</td>\n",
       "      <td>USA</td>\n",
       "      <td>2020</td>\n",
       "      <td>24,574</td>\n",
       "      <td>6143.50</td>\n",
       "      <td>100</td>\n",
       "    </tr>\n",
       "    <tr>\n",
       "      <th>162</th>\n",
       "      <td>Corporate Tax</td>\n",
       "      <td>600</td>\n",
       "      <td>60042</td>\n",
       "      <td>North America</td>\n",
       "      <td>Canada</td>\n",
       "      <td>2022</td>\n",
       "      <td>45,276</td>\n",
       "      <td>11319.00</td>\n",
       "      <td>100</td>\n",
       "    </tr>\n",
       "    <tr>\n",
       "      <th>163</th>\n",
       "      <td>Corporate Tax</td>\n",
       "      <td>600</td>\n",
       "      <td>60042</td>\n",
       "      <td>North America</td>\n",
       "      <td>USA</td>\n",
       "      <td>2021</td>\n",
       "      <td>23,736</td>\n",
       "      <td>5934.00</td>\n",
       "      <td>100</td>\n",
       "    </tr>\n",
       "    <tr>\n",
       "      <th>164</th>\n",
       "      <td>Corporate Tax</td>\n",
       "      <td>600</td>\n",
       "      <td>60042</td>\n",
       "      <td>North America</td>\n",
       "      <td>USA</td>\n",
       "      <td>2022</td>\n",
       "      <td>36,999</td>\n",
       "      <td>9249.75</td>\n",
       "      <td>100</td>\n",
       "    </tr>\n",
       "  </tbody>\n",
       "</table>\n",
       "<p>165 rows × 9 columns</p>\n",
       "</div>"
      ],
      "text/plain": [
       "      Account Type  Account Group  Account Number       Category Location   \\\n",
       "0              VAT            500           50021           Asia     India   \n",
       "1              VAT            500           50021           Asia       UAE   \n",
       "2              VAT            500           50021           Asia     India   \n",
       "3              VAT            500           50021           Asia       UAE   \n",
       "4              VAT            500           50021           Asia     India   \n",
       "..             ...            ...             ...            ...       ...   \n",
       "160  Corporate Tax            600           60042  North America       USA   \n",
       "161  Corporate Tax            600           60042  North America       USA   \n",
       "162  Corporate Tax            600           60042  North America    Canada   \n",
       "163  Corporate Tax            600           60042  North America       USA   \n",
       "164  Corporate Tax            600           60042  North America       USA   \n",
       "\n",
       "     Year Collection       tax  Actual_Revenue  \n",
       "0    2022     97,841  17611.38             100  \n",
       "1    2018     27,652   4977.36             100  \n",
       "2    2019     83,770  15078.60             100  \n",
       "3    2022     49,229   8861.22             100  \n",
       "4    2018     17,539   3157.02             100  \n",
       "..    ...        ...       ...             ...  \n",
       "160  2022     48,461  12115.25             100  \n",
       "161  2020     24,574   6143.50             100  \n",
       "162  2022     45,276  11319.00             100  \n",
       "163  2021     23,736   5934.00             100  \n",
       "164  2022     36,999   9249.75             100  \n",
       "\n",
       "[165 rows x 9 columns]"
      ]
     },
     "execution_count": 86,
     "metadata": {},
     "output_type": "execute_result"
    }
   ],
   "source": [
    "data[\"Actual_Revenue\"]=100\n",
    "data"
   ]
  },
  {
   "cell_type": "code",
   "execution_count": 87,
   "id": "c8bc3892",
   "metadata": {},
   "outputs": [
    {
     "ename": "TypeError",
     "evalue": "unsupported operand type(s) for -: 'str' and 'float'",
     "output_type": "error",
     "traceback": [
      "\u001b[0;31m---------------------------------------------------------------------------\u001b[0m",
      "\u001b[0;31mTypeError\u001b[0m                                 Traceback (most recent call last)",
      "\u001b[0;32m~/opt/anaconda3/lib/python3.9/site-packages/pandas/core/ops/array_ops.py\u001b[0m in \u001b[0;36m_na_arithmetic_op\u001b[0;34m(left, right, op, is_cmp)\u001b[0m\n\u001b[1;32m    162\u001b[0m     \u001b[0;32mtry\u001b[0m\u001b[0;34m:\u001b[0m\u001b[0;34m\u001b[0m\u001b[0;34m\u001b[0m\u001b[0m\n\u001b[0;32m--> 163\u001b[0;31m         \u001b[0mresult\u001b[0m \u001b[0;34m=\u001b[0m \u001b[0mfunc\u001b[0m\u001b[0;34m(\u001b[0m\u001b[0mleft\u001b[0m\u001b[0;34m,\u001b[0m \u001b[0mright\u001b[0m\u001b[0;34m)\u001b[0m\u001b[0;34m\u001b[0m\u001b[0;34m\u001b[0m\u001b[0m\n\u001b[0m\u001b[1;32m    164\u001b[0m     \u001b[0;32mexcept\u001b[0m \u001b[0mTypeError\u001b[0m\u001b[0;34m:\u001b[0m\u001b[0;34m\u001b[0m\u001b[0;34m\u001b[0m\u001b[0m\n",
      "\u001b[0;32m~/opt/anaconda3/lib/python3.9/site-packages/pandas/core/computation/expressions.py\u001b[0m in \u001b[0;36mevaluate\u001b[0;34m(op, a, b, use_numexpr)\u001b[0m\n\u001b[1;32m    238\u001b[0m             \u001b[0;31m# error: \"None\" not callable\u001b[0m\u001b[0;34m\u001b[0m\u001b[0;34m\u001b[0m\u001b[0m\n\u001b[0;32m--> 239\u001b[0;31m             \u001b[0;32mreturn\u001b[0m \u001b[0m_evaluate\u001b[0m\u001b[0;34m(\u001b[0m\u001b[0mop\u001b[0m\u001b[0;34m,\u001b[0m \u001b[0mop_str\u001b[0m\u001b[0;34m,\u001b[0m \u001b[0ma\u001b[0m\u001b[0;34m,\u001b[0m \u001b[0mb\u001b[0m\u001b[0;34m)\u001b[0m  \u001b[0;31m# type: ignore[misc]\u001b[0m\u001b[0;34m\u001b[0m\u001b[0;34m\u001b[0m\u001b[0m\n\u001b[0m\u001b[1;32m    240\u001b[0m     \u001b[0;32mreturn\u001b[0m \u001b[0m_evaluate_standard\u001b[0m\u001b[0;34m(\u001b[0m\u001b[0mop\u001b[0m\u001b[0;34m,\u001b[0m \u001b[0mop_str\u001b[0m\u001b[0;34m,\u001b[0m \u001b[0ma\u001b[0m\u001b[0;34m,\u001b[0m \u001b[0mb\u001b[0m\u001b[0;34m)\u001b[0m\u001b[0;34m\u001b[0m\u001b[0;34m\u001b[0m\u001b[0m\n",
      "\u001b[0;32m~/opt/anaconda3/lib/python3.9/site-packages/pandas/core/computation/expressions.py\u001b[0m in \u001b[0;36m_evaluate_numexpr\u001b[0;34m(op, op_str, a, b)\u001b[0m\n\u001b[1;32m    127\u001b[0m     \u001b[0;32mif\u001b[0m \u001b[0mresult\u001b[0m \u001b[0;32mis\u001b[0m \u001b[0;32mNone\u001b[0m\u001b[0;34m:\u001b[0m\u001b[0;34m\u001b[0m\u001b[0;34m\u001b[0m\u001b[0m\n\u001b[0;32m--> 128\u001b[0;31m         \u001b[0mresult\u001b[0m \u001b[0;34m=\u001b[0m \u001b[0m_evaluate_standard\u001b[0m\u001b[0;34m(\u001b[0m\u001b[0mop\u001b[0m\u001b[0;34m,\u001b[0m \u001b[0mop_str\u001b[0m\u001b[0;34m,\u001b[0m \u001b[0ma\u001b[0m\u001b[0;34m,\u001b[0m \u001b[0mb\u001b[0m\u001b[0;34m)\u001b[0m\u001b[0;34m\u001b[0m\u001b[0;34m\u001b[0m\u001b[0m\n\u001b[0m\u001b[1;32m    129\u001b[0m \u001b[0;34m\u001b[0m\u001b[0m\n",
      "\u001b[0;32m~/opt/anaconda3/lib/python3.9/site-packages/pandas/core/computation/expressions.py\u001b[0m in \u001b[0;36m_evaluate_standard\u001b[0;34m(op, op_str, a, b)\u001b[0m\n\u001b[1;32m     68\u001b[0m         \u001b[0m_store_test_result\u001b[0m\u001b[0;34m(\u001b[0m\u001b[0;32mFalse\u001b[0m\u001b[0;34m)\u001b[0m\u001b[0;34m\u001b[0m\u001b[0;34m\u001b[0m\u001b[0m\n\u001b[0;32m---> 69\u001b[0;31m     \u001b[0;32mreturn\u001b[0m \u001b[0mop\u001b[0m\u001b[0;34m(\u001b[0m\u001b[0ma\u001b[0m\u001b[0;34m,\u001b[0m \u001b[0mb\u001b[0m\u001b[0;34m)\u001b[0m\u001b[0;34m\u001b[0m\u001b[0;34m\u001b[0m\u001b[0m\n\u001b[0m\u001b[1;32m     70\u001b[0m \u001b[0;34m\u001b[0m\u001b[0m\n",
      "\u001b[0;31mTypeError\u001b[0m: unsupported operand type(s) for -: 'str' and 'float'",
      "\nDuring handling of the above exception, another exception occurred:\n",
      "\u001b[0;31mTypeError\u001b[0m                                 Traceback (most recent call last)",
      "\u001b[0;32m/var/folders/1z/cg3wnq050fn_7dl4rd8bccpw0000gn/T/ipykernel_39068/1583112738.py\u001b[0m in \u001b[0;36m<module>\u001b[0;34m\u001b[0m\n\u001b[0;32m----> 1\u001b[0;31m \u001b[0mdata\u001b[0m\u001b[0;34m[\u001b[0m\u001b[0;34m'Actual_Revenue'\u001b[0m\u001b[0;34m]\u001b[0m\u001b[0;34m=\u001b[0m\u001b[0mdata\u001b[0m\u001b[0;34m[\u001b[0m\u001b[0;34m\"Collection\"\u001b[0m\u001b[0;34m]\u001b[0m\u001b[0;34m-\u001b[0m\u001b[0mdata\u001b[0m\u001b[0;34m[\u001b[0m\u001b[0;34m'tax'\u001b[0m\u001b[0;34m]\u001b[0m\u001b[0;34m\u001b[0m\u001b[0;34m\u001b[0m\u001b[0m\n\u001b[0m",
      "\u001b[0;32m~/opt/anaconda3/lib/python3.9/site-packages/pandas/core/ops/common.py\u001b[0m in \u001b[0;36mnew_method\u001b[0;34m(self, other)\u001b[0m\n\u001b[1;32m     68\u001b[0m         \u001b[0mother\u001b[0m \u001b[0;34m=\u001b[0m \u001b[0mitem_from_zerodim\u001b[0m\u001b[0;34m(\u001b[0m\u001b[0mother\u001b[0m\u001b[0;34m)\u001b[0m\u001b[0;34m\u001b[0m\u001b[0;34m\u001b[0m\u001b[0m\n\u001b[1;32m     69\u001b[0m \u001b[0;34m\u001b[0m\u001b[0m\n\u001b[0;32m---> 70\u001b[0;31m         \u001b[0;32mreturn\u001b[0m \u001b[0mmethod\u001b[0m\u001b[0;34m(\u001b[0m\u001b[0mself\u001b[0m\u001b[0;34m,\u001b[0m \u001b[0mother\u001b[0m\u001b[0;34m)\u001b[0m\u001b[0;34m\u001b[0m\u001b[0;34m\u001b[0m\u001b[0m\n\u001b[0m\u001b[1;32m     71\u001b[0m \u001b[0;34m\u001b[0m\u001b[0m\n\u001b[1;32m     72\u001b[0m     \u001b[0;32mreturn\u001b[0m \u001b[0mnew_method\u001b[0m\u001b[0;34m\u001b[0m\u001b[0;34m\u001b[0m\u001b[0m\n",
      "\u001b[0;32m~/opt/anaconda3/lib/python3.9/site-packages/pandas/core/arraylike.py\u001b[0m in \u001b[0;36m__sub__\u001b[0;34m(self, other)\u001b[0m\n\u001b[1;32m    106\u001b[0m     \u001b[0;34m@\u001b[0m\u001b[0munpack_zerodim_and_defer\u001b[0m\u001b[0;34m(\u001b[0m\u001b[0;34m\"__sub__\"\u001b[0m\u001b[0;34m)\u001b[0m\u001b[0;34m\u001b[0m\u001b[0;34m\u001b[0m\u001b[0m\n\u001b[1;32m    107\u001b[0m     \u001b[0;32mdef\u001b[0m \u001b[0m__sub__\u001b[0m\u001b[0;34m(\u001b[0m\u001b[0mself\u001b[0m\u001b[0;34m,\u001b[0m \u001b[0mother\u001b[0m\u001b[0;34m)\u001b[0m\u001b[0;34m:\u001b[0m\u001b[0;34m\u001b[0m\u001b[0;34m\u001b[0m\u001b[0m\n\u001b[0;32m--> 108\u001b[0;31m         \u001b[0;32mreturn\u001b[0m \u001b[0mself\u001b[0m\u001b[0;34m.\u001b[0m\u001b[0m_arith_method\u001b[0m\u001b[0;34m(\u001b[0m\u001b[0mother\u001b[0m\u001b[0;34m,\u001b[0m \u001b[0moperator\u001b[0m\u001b[0;34m.\u001b[0m\u001b[0msub\u001b[0m\u001b[0;34m)\u001b[0m\u001b[0;34m\u001b[0m\u001b[0;34m\u001b[0m\u001b[0m\n\u001b[0m\u001b[1;32m    109\u001b[0m \u001b[0;34m\u001b[0m\u001b[0m\n\u001b[1;32m    110\u001b[0m     \u001b[0;34m@\u001b[0m\u001b[0munpack_zerodim_and_defer\u001b[0m\u001b[0;34m(\u001b[0m\u001b[0;34m\"__rsub__\"\u001b[0m\u001b[0;34m)\u001b[0m\u001b[0;34m\u001b[0m\u001b[0;34m\u001b[0m\u001b[0m\n",
      "\u001b[0;32m~/opt/anaconda3/lib/python3.9/site-packages/pandas/core/series.py\u001b[0m in \u001b[0;36m_arith_method\u001b[0;34m(self, other, op)\u001b[0m\n\u001b[1;32m   5637\u001b[0m     \u001b[0;32mdef\u001b[0m \u001b[0m_arith_method\u001b[0m\u001b[0;34m(\u001b[0m\u001b[0mself\u001b[0m\u001b[0;34m,\u001b[0m \u001b[0mother\u001b[0m\u001b[0;34m,\u001b[0m \u001b[0mop\u001b[0m\u001b[0;34m)\u001b[0m\u001b[0;34m:\u001b[0m\u001b[0;34m\u001b[0m\u001b[0;34m\u001b[0m\u001b[0m\n\u001b[1;32m   5638\u001b[0m         \u001b[0mself\u001b[0m\u001b[0;34m,\u001b[0m \u001b[0mother\u001b[0m \u001b[0;34m=\u001b[0m \u001b[0mops\u001b[0m\u001b[0;34m.\u001b[0m\u001b[0malign_method_SERIES\u001b[0m\u001b[0;34m(\u001b[0m\u001b[0mself\u001b[0m\u001b[0;34m,\u001b[0m \u001b[0mother\u001b[0m\u001b[0;34m)\u001b[0m\u001b[0;34m\u001b[0m\u001b[0;34m\u001b[0m\u001b[0m\n\u001b[0;32m-> 5639\u001b[0;31m         \u001b[0;32mreturn\u001b[0m \u001b[0mbase\u001b[0m\u001b[0;34m.\u001b[0m\u001b[0mIndexOpsMixin\u001b[0m\u001b[0;34m.\u001b[0m\u001b[0m_arith_method\u001b[0m\u001b[0;34m(\u001b[0m\u001b[0mself\u001b[0m\u001b[0;34m,\u001b[0m \u001b[0mother\u001b[0m\u001b[0;34m,\u001b[0m \u001b[0mop\u001b[0m\u001b[0;34m)\u001b[0m\u001b[0;34m\u001b[0m\u001b[0;34m\u001b[0m\u001b[0m\n\u001b[0m\u001b[1;32m   5640\u001b[0m \u001b[0;34m\u001b[0m\u001b[0m\n\u001b[1;32m   5641\u001b[0m \u001b[0;34m\u001b[0m\u001b[0m\n",
      "\u001b[0;32m~/opt/anaconda3/lib/python3.9/site-packages/pandas/core/base.py\u001b[0m in \u001b[0;36m_arith_method\u001b[0;34m(self, other, op)\u001b[0m\n\u001b[1;32m   1293\u001b[0m \u001b[0;34m\u001b[0m\u001b[0m\n\u001b[1;32m   1294\u001b[0m         \u001b[0;32mwith\u001b[0m \u001b[0mnp\u001b[0m\u001b[0;34m.\u001b[0m\u001b[0merrstate\u001b[0m\u001b[0;34m(\u001b[0m\u001b[0mall\u001b[0m\u001b[0;34m=\u001b[0m\u001b[0;34m\"ignore\"\u001b[0m\u001b[0;34m)\u001b[0m\u001b[0;34m:\u001b[0m\u001b[0;34m\u001b[0m\u001b[0;34m\u001b[0m\u001b[0m\n\u001b[0;32m-> 1295\u001b[0;31m             \u001b[0mresult\u001b[0m \u001b[0;34m=\u001b[0m \u001b[0mops\u001b[0m\u001b[0;34m.\u001b[0m\u001b[0marithmetic_op\u001b[0m\u001b[0;34m(\u001b[0m\u001b[0mlvalues\u001b[0m\u001b[0;34m,\u001b[0m \u001b[0mrvalues\u001b[0m\u001b[0;34m,\u001b[0m \u001b[0mop\u001b[0m\u001b[0;34m)\u001b[0m\u001b[0;34m\u001b[0m\u001b[0;34m\u001b[0m\u001b[0m\n\u001b[0m\u001b[1;32m   1296\u001b[0m \u001b[0;34m\u001b[0m\u001b[0m\n\u001b[1;32m   1297\u001b[0m         \u001b[0;32mreturn\u001b[0m \u001b[0mself\u001b[0m\u001b[0;34m.\u001b[0m\u001b[0m_construct_result\u001b[0m\u001b[0;34m(\u001b[0m\u001b[0mresult\u001b[0m\u001b[0;34m,\u001b[0m \u001b[0mname\u001b[0m\u001b[0;34m=\u001b[0m\u001b[0mres_name\u001b[0m\u001b[0;34m)\u001b[0m\u001b[0;34m\u001b[0m\u001b[0;34m\u001b[0m\u001b[0m\n",
      "\u001b[0;32m~/opt/anaconda3/lib/python3.9/site-packages/pandas/core/ops/array_ops.py\u001b[0m in \u001b[0;36marithmetic_op\u001b[0;34m(left, right, op)\u001b[0m\n\u001b[1;32m    220\u001b[0m         \u001b[0m_bool_arith_check\u001b[0m\u001b[0;34m(\u001b[0m\u001b[0mop\u001b[0m\u001b[0;34m,\u001b[0m \u001b[0mleft\u001b[0m\u001b[0;34m,\u001b[0m \u001b[0mright\u001b[0m\u001b[0;34m)\u001b[0m\u001b[0;34m\u001b[0m\u001b[0;34m\u001b[0m\u001b[0m\n\u001b[1;32m    221\u001b[0m \u001b[0;34m\u001b[0m\u001b[0m\n\u001b[0;32m--> 222\u001b[0;31m         \u001b[0mres_values\u001b[0m \u001b[0;34m=\u001b[0m \u001b[0m_na_arithmetic_op\u001b[0m\u001b[0;34m(\u001b[0m\u001b[0mleft\u001b[0m\u001b[0;34m,\u001b[0m \u001b[0mright\u001b[0m\u001b[0;34m,\u001b[0m \u001b[0mop\u001b[0m\u001b[0;34m)\u001b[0m\u001b[0;34m\u001b[0m\u001b[0;34m\u001b[0m\u001b[0m\n\u001b[0m\u001b[1;32m    223\u001b[0m \u001b[0;34m\u001b[0m\u001b[0m\n\u001b[1;32m    224\u001b[0m     \u001b[0;32mreturn\u001b[0m \u001b[0mres_values\u001b[0m\u001b[0;34m\u001b[0m\u001b[0;34m\u001b[0m\u001b[0m\n",
      "\u001b[0;32m~/opt/anaconda3/lib/python3.9/site-packages/pandas/core/ops/array_ops.py\u001b[0m in \u001b[0;36m_na_arithmetic_op\u001b[0;34m(left, right, op, is_cmp)\u001b[0m\n\u001b[1;32m    168\u001b[0m             \u001b[0;31m# Don't do this for comparisons, as that will handle complex numbers\u001b[0m\u001b[0;34m\u001b[0m\u001b[0;34m\u001b[0m\u001b[0m\n\u001b[1;32m    169\u001b[0m             \u001b[0;31m#  incorrectly, see GH#32047\u001b[0m\u001b[0;34m\u001b[0m\u001b[0;34m\u001b[0m\u001b[0m\n\u001b[0;32m--> 170\u001b[0;31m             \u001b[0mresult\u001b[0m \u001b[0;34m=\u001b[0m \u001b[0m_masked_arith_op\u001b[0m\u001b[0;34m(\u001b[0m\u001b[0mleft\u001b[0m\u001b[0;34m,\u001b[0m \u001b[0mright\u001b[0m\u001b[0;34m,\u001b[0m \u001b[0mop\u001b[0m\u001b[0;34m)\u001b[0m\u001b[0;34m\u001b[0m\u001b[0;34m\u001b[0m\u001b[0m\n\u001b[0m\u001b[1;32m    171\u001b[0m         \u001b[0;32melse\u001b[0m\u001b[0;34m:\u001b[0m\u001b[0;34m\u001b[0m\u001b[0;34m\u001b[0m\u001b[0m\n\u001b[1;32m    172\u001b[0m             \u001b[0;32mraise\u001b[0m\u001b[0;34m\u001b[0m\u001b[0;34m\u001b[0m\u001b[0m\n",
      "\u001b[0;32m~/opt/anaconda3/lib/python3.9/site-packages/pandas/core/ops/array_ops.py\u001b[0m in \u001b[0;36m_masked_arith_op\u001b[0;34m(x, y, op)\u001b[0m\n\u001b[1;32m    106\u001b[0m         \u001b[0;31m# See GH#5284, GH#5035, GH#19448 for historical reference\u001b[0m\u001b[0;34m\u001b[0m\u001b[0;34m\u001b[0m\u001b[0m\n\u001b[1;32m    107\u001b[0m         \u001b[0;32mif\u001b[0m \u001b[0mmask\u001b[0m\u001b[0;34m.\u001b[0m\u001b[0many\u001b[0m\u001b[0;34m(\u001b[0m\u001b[0;34m)\u001b[0m\u001b[0;34m:\u001b[0m\u001b[0;34m\u001b[0m\u001b[0;34m\u001b[0m\u001b[0m\n\u001b[0;32m--> 108\u001b[0;31m             \u001b[0mresult\u001b[0m\u001b[0;34m[\u001b[0m\u001b[0mmask\u001b[0m\u001b[0;34m]\u001b[0m \u001b[0;34m=\u001b[0m \u001b[0mop\u001b[0m\u001b[0;34m(\u001b[0m\u001b[0mxrav\u001b[0m\u001b[0;34m[\u001b[0m\u001b[0mmask\u001b[0m\u001b[0;34m]\u001b[0m\u001b[0;34m,\u001b[0m \u001b[0myrav\u001b[0m\u001b[0;34m[\u001b[0m\u001b[0mmask\u001b[0m\u001b[0;34m]\u001b[0m\u001b[0;34m)\u001b[0m\u001b[0;34m\u001b[0m\u001b[0;34m\u001b[0m\u001b[0m\n\u001b[0m\u001b[1;32m    109\u001b[0m \u001b[0;34m\u001b[0m\u001b[0m\n\u001b[1;32m    110\u001b[0m     \u001b[0;32melse\u001b[0m\u001b[0;34m:\u001b[0m\u001b[0;34m\u001b[0m\u001b[0;34m\u001b[0m\u001b[0m\n",
      "\u001b[0;31mTypeError\u001b[0m: unsupported operand type(s) for -: 'str' and 'float'"
     ]
    }
   ],
   "source": [
    "data['Actual_Revenue']=data[\"Collection\"]-data['tax']"
   ]
  },
  {
   "cell_type": "code",
   "execution_count": null,
   "id": "5f5333fc",
   "metadata": {},
   "outputs": [],
   "source": []
  },
  {
   "cell_type": "markdown",
   "id": "498d642e",
   "metadata": {},
   "source": [
    "## Converting string to integer"
   ]
  },
  {
   "cell_type": "code",
   "execution_count": 95,
   "id": "f9b2ead7",
   "metadata": {},
   "outputs": [],
   "source": [
    "data[\"Collection\"]=data[\"Collection\"].apply(lambda x: x.replace(\",\",\"\"))"
   ]
  },
  {
   "cell_type": "code",
   "execution_count": 96,
   "id": "e110f254",
   "metadata": {},
   "outputs": [
    {
     "data": {
      "text/html": [
       "<div>\n",
       "<style scoped>\n",
       "    .dataframe tbody tr th:only-of-type {\n",
       "        vertical-align: middle;\n",
       "    }\n",
       "\n",
       "    .dataframe tbody tr th {\n",
       "        vertical-align: top;\n",
       "    }\n",
       "\n",
       "    .dataframe thead th {\n",
       "        text-align: right;\n",
       "    }\n",
       "</style>\n",
       "<table border=\"1\" class=\"dataframe\">\n",
       "  <thead>\n",
       "    <tr style=\"text-align: right;\">\n",
       "      <th></th>\n",
       "      <th>Account Type</th>\n",
       "      <th>Account Group</th>\n",
       "      <th>Account Number</th>\n",
       "      <th>Category</th>\n",
       "      <th>Location</th>\n",
       "      <th>Year</th>\n",
       "      <th>Collection</th>\n",
       "      <th>tax</th>\n",
       "      <th>Actual_Revenue</th>\n",
       "    </tr>\n",
       "  </thead>\n",
       "  <tbody>\n",
       "    <tr>\n",
       "      <th>0</th>\n",
       "      <td>VAT</td>\n",
       "      <td>500</td>\n",
       "      <td>50021</td>\n",
       "      <td>Asia</td>\n",
       "      <td>India</td>\n",
       "      <td>2022</td>\n",
       "      <td>97841</td>\n",
       "      <td>17611.38</td>\n",
       "      <td>100</td>\n",
       "    </tr>\n",
       "    <tr>\n",
       "      <th>1</th>\n",
       "      <td>VAT</td>\n",
       "      <td>500</td>\n",
       "      <td>50021</td>\n",
       "      <td>Asia</td>\n",
       "      <td>UAE</td>\n",
       "      <td>2018</td>\n",
       "      <td>27652</td>\n",
       "      <td>4977.36</td>\n",
       "      <td>100</td>\n",
       "    </tr>\n",
       "    <tr>\n",
       "      <th>2</th>\n",
       "      <td>VAT</td>\n",
       "      <td>500</td>\n",
       "      <td>50021</td>\n",
       "      <td>Asia</td>\n",
       "      <td>India</td>\n",
       "      <td>2019</td>\n",
       "      <td>83770</td>\n",
       "      <td>15078.60</td>\n",
       "      <td>100</td>\n",
       "    </tr>\n",
       "    <tr>\n",
       "      <th>3</th>\n",
       "      <td>VAT</td>\n",
       "      <td>500</td>\n",
       "      <td>50021</td>\n",
       "      <td>Asia</td>\n",
       "      <td>UAE</td>\n",
       "      <td>2022</td>\n",
       "      <td>49229</td>\n",
       "      <td>8861.22</td>\n",
       "      <td>100</td>\n",
       "    </tr>\n",
       "    <tr>\n",
       "      <th>4</th>\n",
       "      <td>VAT</td>\n",
       "      <td>500</td>\n",
       "      <td>50021</td>\n",
       "      <td>Asia</td>\n",
       "      <td>India</td>\n",
       "      <td>2018</td>\n",
       "      <td>17539</td>\n",
       "      <td>3157.02</td>\n",
       "      <td>100</td>\n",
       "    </tr>\n",
       "    <tr>\n",
       "      <th>...</th>\n",
       "      <td>...</td>\n",
       "      <td>...</td>\n",
       "      <td>...</td>\n",
       "      <td>...</td>\n",
       "      <td>...</td>\n",
       "      <td>...</td>\n",
       "      <td>...</td>\n",
       "      <td>...</td>\n",
       "      <td>...</td>\n",
       "    </tr>\n",
       "    <tr>\n",
       "      <th>160</th>\n",
       "      <td>Corporate Tax</td>\n",
       "      <td>600</td>\n",
       "      <td>60042</td>\n",
       "      <td>North America</td>\n",
       "      <td>USA</td>\n",
       "      <td>2022</td>\n",
       "      <td>48461</td>\n",
       "      <td>12115.25</td>\n",
       "      <td>100</td>\n",
       "    </tr>\n",
       "    <tr>\n",
       "      <th>161</th>\n",
       "      <td>Corporate Tax</td>\n",
       "      <td>600</td>\n",
       "      <td>60042</td>\n",
       "      <td>North America</td>\n",
       "      <td>USA</td>\n",
       "      <td>2020</td>\n",
       "      <td>24574</td>\n",
       "      <td>6143.50</td>\n",
       "      <td>100</td>\n",
       "    </tr>\n",
       "    <tr>\n",
       "      <th>162</th>\n",
       "      <td>Corporate Tax</td>\n",
       "      <td>600</td>\n",
       "      <td>60042</td>\n",
       "      <td>North America</td>\n",
       "      <td>Canada</td>\n",
       "      <td>2022</td>\n",
       "      <td>45276</td>\n",
       "      <td>11319.00</td>\n",
       "      <td>100</td>\n",
       "    </tr>\n",
       "    <tr>\n",
       "      <th>163</th>\n",
       "      <td>Corporate Tax</td>\n",
       "      <td>600</td>\n",
       "      <td>60042</td>\n",
       "      <td>North America</td>\n",
       "      <td>USA</td>\n",
       "      <td>2021</td>\n",
       "      <td>23736</td>\n",
       "      <td>5934.00</td>\n",
       "      <td>100</td>\n",
       "    </tr>\n",
       "    <tr>\n",
       "      <th>164</th>\n",
       "      <td>Corporate Tax</td>\n",
       "      <td>600</td>\n",
       "      <td>60042</td>\n",
       "      <td>North America</td>\n",
       "      <td>USA</td>\n",
       "      <td>2022</td>\n",
       "      <td>36999</td>\n",
       "      <td>9249.75</td>\n",
       "      <td>100</td>\n",
       "    </tr>\n",
       "  </tbody>\n",
       "</table>\n",
       "<p>165 rows × 9 columns</p>\n",
       "</div>"
      ],
      "text/plain": [
       "      Account Type  Account Group  Account Number       Category Location   \\\n",
       "0              VAT            500           50021           Asia     India   \n",
       "1              VAT            500           50021           Asia       UAE   \n",
       "2              VAT            500           50021           Asia     India   \n",
       "3              VAT            500           50021           Asia       UAE   \n",
       "4              VAT            500           50021           Asia     India   \n",
       "..             ...            ...             ...            ...       ...   \n",
       "160  Corporate Tax            600           60042  North America       USA   \n",
       "161  Corporate Tax            600           60042  North America       USA   \n",
       "162  Corporate Tax            600           60042  North America    Canada   \n",
       "163  Corporate Tax            600           60042  North America       USA   \n",
       "164  Corporate Tax            600           60042  North America       USA   \n",
       "\n",
       "     Year Collection       tax  Actual_Revenue  \n",
       "0    2022      97841  17611.38             100  \n",
       "1    2018      27652   4977.36             100  \n",
       "2    2019      83770  15078.60             100  \n",
       "3    2022      49229   8861.22             100  \n",
       "4    2018      17539   3157.02             100  \n",
       "..    ...        ...       ...             ...  \n",
       "160  2022      48461  12115.25             100  \n",
       "161  2020      24574   6143.50             100  \n",
       "162  2022      45276  11319.00             100  \n",
       "163  2021      23736   5934.00             100  \n",
       "164  2022      36999   9249.75             100  \n",
       "\n",
       "[165 rows x 9 columns]"
      ]
     },
     "execution_count": 96,
     "metadata": {},
     "output_type": "execute_result"
    }
   ],
   "source": [
    "data"
   ]
  },
  {
   "cell_type": "code",
   "execution_count": 97,
   "id": "e6a5b353",
   "metadata": {},
   "outputs": [
    {
     "name": "stdout",
     "output_type": "stream",
     "text": [
      "<class 'pandas.core.frame.DataFrame'>\n",
      "RangeIndex: 165 entries, 0 to 164\n",
      "Data columns (total 9 columns):\n",
      " #   Column          Non-Null Count  Dtype  \n",
      "---  ------          --------------  -----  \n",
      " 0   Account Type    165 non-null    object \n",
      " 1   Account Group   165 non-null    int64  \n",
      " 2   Account Number  165 non-null    int64  \n",
      " 3   Category        165 non-null    object \n",
      " 4   Location        165 non-null    object \n",
      " 5   Year            165 non-null    int64  \n",
      " 6   Collection      165 non-null    object \n",
      " 7   tax             165 non-null    float64\n",
      " 8   Actual_Revenue  165 non-null    int64  \n",
      "dtypes: float64(1), int64(4), object(4)\n",
      "memory usage: 11.7+ KB\n"
     ]
    }
   ],
   "source": [
    "data.info()"
   ]
  },
  {
   "cell_type": "code",
   "execution_count": 98,
   "id": "becb4c8a",
   "metadata": {},
   "outputs": [],
   "source": [
    "data[\"Collection\"]=data[\"Collection\"].astype(int)"
   ]
  },
  {
   "cell_type": "code",
   "execution_count": 99,
   "id": "dbddfe8c",
   "metadata": {},
   "outputs": [],
   "source": [
    "data['Actual_Revenue']=data[\"Collection\"]-data['tax']"
   ]
  },
  {
   "cell_type": "code",
   "execution_count": 103,
   "id": "2a8784ac",
   "metadata": {
    "scrolled": false
   },
   "outputs": [
    {
     "data": {
      "text/html": [
       "<div>\n",
       "<style scoped>\n",
       "    .dataframe tbody tr th:only-of-type {\n",
       "        vertical-align: middle;\n",
       "    }\n",
       "\n",
       "    .dataframe tbody tr th {\n",
       "        vertical-align: top;\n",
       "    }\n",
       "\n",
       "    .dataframe thead th {\n",
       "        text-align: right;\n",
       "    }\n",
       "</style>\n",
       "<table border=\"1\" class=\"dataframe\">\n",
       "  <thead>\n",
       "    <tr style=\"text-align: right;\">\n",
       "      <th></th>\n",
       "      <th>Account Type</th>\n",
       "      <th>Account Group</th>\n",
       "      <th>Account Number</th>\n",
       "      <th>Category</th>\n",
       "      <th>Location</th>\n",
       "      <th>Year</th>\n",
       "      <th>Collection</th>\n",
       "      <th>tax</th>\n",
       "      <th>Actual_Revenue</th>\n",
       "    </tr>\n",
       "  </thead>\n",
       "  <tbody>\n",
       "    <tr>\n",
       "      <th>0</th>\n",
       "      <td>VAT</td>\n",
       "      <td>500</td>\n",
       "      <td>50021</td>\n",
       "      <td>Asia</td>\n",
       "      <td>India</td>\n",
       "      <td>2022</td>\n",
       "      <td>97841</td>\n",
       "      <td>17611.38</td>\n",
       "      <td>80229.62</td>\n",
       "    </tr>\n",
       "    <tr>\n",
       "      <th>1</th>\n",
       "      <td>VAT</td>\n",
       "      <td>500</td>\n",
       "      <td>50021</td>\n",
       "      <td>Asia</td>\n",
       "      <td>UAE</td>\n",
       "      <td>2018</td>\n",
       "      <td>27652</td>\n",
       "      <td>4977.36</td>\n",
       "      <td>22674.64</td>\n",
       "    </tr>\n",
       "    <tr>\n",
       "      <th>2</th>\n",
       "      <td>VAT</td>\n",
       "      <td>500</td>\n",
       "      <td>50021</td>\n",
       "      <td>Asia</td>\n",
       "      <td>India</td>\n",
       "      <td>2019</td>\n",
       "      <td>83770</td>\n",
       "      <td>15078.60</td>\n",
       "      <td>68691.40</td>\n",
       "    </tr>\n",
       "    <tr>\n",
       "      <th>3</th>\n",
       "      <td>VAT</td>\n",
       "      <td>500</td>\n",
       "      <td>50021</td>\n",
       "      <td>Asia</td>\n",
       "      <td>UAE</td>\n",
       "      <td>2022</td>\n",
       "      <td>49229</td>\n",
       "      <td>8861.22</td>\n",
       "      <td>40367.78</td>\n",
       "    </tr>\n",
       "    <tr>\n",
       "      <th>4</th>\n",
       "      <td>VAT</td>\n",
       "      <td>500</td>\n",
       "      <td>50021</td>\n",
       "      <td>Asia</td>\n",
       "      <td>India</td>\n",
       "      <td>2018</td>\n",
       "      <td>17539</td>\n",
       "      <td>3157.02</td>\n",
       "      <td>14381.98</td>\n",
       "    </tr>\n",
       "  </tbody>\n",
       "</table>\n",
       "</div>"
      ],
      "text/plain": [
       "  Account Type  Account Group  Account Number Category Location   Year  \\\n",
       "0          VAT            500           50021     Asia     India  2022   \n",
       "1          VAT            500           50021     Asia       UAE  2018   \n",
       "2          VAT            500           50021     Asia     India  2019   \n",
       "3          VAT            500           50021     Asia       UAE  2022   \n",
       "4          VAT            500           50021     Asia     India  2018   \n",
       "\n",
       "   Collection       tax  Actual_Revenue  \n",
       "0       97841  17611.38        80229.62  \n",
       "1       27652   4977.36        22674.64  \n",
       "2       83770  15078.60        68691.40  \n",
       "3       49229   8861.22        40367.78  \n",
       "4       17539   3157.02        14381.98  "
      ]
     },
     "execution_count": 103,
     "metadata": {},
     "output_type": "execute_result"
    }
   ],
   "source": [
    "data.head()"
   ]
  },
  {
   "cell_type": "code",
   "execution_count": 104,
   "id": "5dda5419",
   "metadata": {
    "scrolled": true
   },
   "outputs": [
    {
     "data": {
      "text/html": [
       "<div>\n",
       "<style scoped>\n",
       "    .dataframe tbody tr th:only-of-type {\n",
       "        vertical-align: middle;\n",
       "    }\n",
       "\n",
       "    .dataframe tbody tr th {\n",
       "        vertical-align: top;\n",
       "    }\n",
       "\n",
       "    .dataframe thead th {\n",
       "        text-align: right;\n",
       "    }\n",
       "</style>\n",
       "<table border=\"1\" class=\"dataframe\">\n",
       "  <thead>\n",
       "    <tr style=\"text-align: right;\">\n",
       "      <th></th>\n",
       "      <th>Account Type</th>\n",
       "      <th>Account Group</th>\n",
       "      <th>Account Number</th>\n",
       "      <th>Category</th>\n",
       "      <th>Location</th>\n",
       "      <th>Year</th>\n",
       "      <th>Actual_Revenue</th>\n",
       "    </tr>\n",
       "  </thead>\n",
       "  <tbody>\n",
       "    <tr>\n",
       "      <th>0</th>\n",
       "      <td>VAT</td>\n",
       "      <td>500</td>\n",
       "      <td>50021</td>\n",
       "      <td>Asia</td>\n",
       "      <td>India</td>\n",
       "      <td>2022</td>\n",
       "      <td>80229.62</td>\n",
       "    </tr>\n",
       "    <tr>\n",
       "      <th>1</th>\n",
       "      <td>VAT</td>\n",
       "      <td>500</td>\n",
       "      <td>50021</td>\n",
       "      <td>Asia</td>\n",
       "      <td>UAE</td>\n",
       "      <td>2018</td>\n",
       "      <td>22674.64</td>\n",
       "    </tr>\n",
       "    <tr>\n",
       "      <th>2</th>\n",
       "      <td>VAT</td>\n",
       "      <td>500</td>\n",
       "      <td>50021</td>\n",
       "      <td>Asia</td>\n",
       "      <td>India</td>\n",
       "      <td>2019</td>\n",
       "      <td>68691.40</td>\n",
       "    </tr>\n",
       "    <tr>\n",
       "      <th>3</th>\n",
       "      <td>VAT</td>\n",
       "      <td>500</td>\n",
       "      <td>50021</td>\n",
       "      <td>Asia</td>\n",
       "      <td>UAE</td>\n",
       "      <td>2022</td>\n",
       "      <td>40367.78</td>\n",
       "    </tr>\n",
       "    <tr>\n",
       "      <th>4</th>\n",
       "      <td>VAT</td>\n",
       "      <td>500</td>\n",
       "      <td>50021</td>\n",
       "      <td>Asia</td>\n",
       "      <td>India</td>\n",
       "      <td>2018</td>\n",
       "      <td>14381.98</td>\n",
       "    </tr>\n",
       "    <tr>\n",
       "      <th>...</th>\n",
       "      <td>...</td>\n",
       "      <td>...</td>\n",
       "      <td>...</td>\n",
       "      <td>...</td>\n",
       "      <td>...</td>\n",
       "      <td>...</td>\n",
       "      <td>...</td>\n",
       "    </tr>\n",
       "    <tr>\n",
       "      <th>160</th>\n",
       "      <td>Corporate Tax</td>\n",
       "      <td>600</td>\n",
       "      <td>60042</td>\n",
       "      <td>North America</td>\n",
       "      <td>USA</td>\n",
       "      <td>2022</td>\n",
       "      <td>36345.75</td>\n",
       "    </tr>\n",
       "    <tr>\n",
       "      <th>161</th>\n",
       "      <td>Corporate Tax</td>\n",
       "      <td>600</td>\n",
       "      <td>60042</td>\n",
       "      <td>North America</td>\n",
       "      <td>USA</td>\n",
       "      <td>2020</td>\n",
       "      <td>18430.50</td>\n",
       "    </tr>\n",
       "    <tr>\n",
       "      <th>162</th>\n",
       "      <td>Corporate Tax</td>\n",
       "      <td>600</td>\n",
       "      <td>60042</td>\n",
       "      <td>North America</td>\n",
       "      <td>Canada</td>\n",
       "      <td>2022</td>\n",
       "      <td>33957.00</td>\n",
       "    </tr>\n",
       "    <tr>\n",
       "      <th>163</th>\n",
       "      <td>Corporate Tax</td>\n",
       "      <td>600</td>\n",
       "      <td>60042</td>\n",
       "      <td>North America</td>\n",
       "      <td>USA</td>\n",
       "      <td>2021</td>\n",
       "      <td>17802.00</td>\n",
       "    </tr>\n",
       "    <tr>\n",
       "      <th>164</th>\n",
       "      <td>Corporate Tax</td>\n",
       "      <td>600</td>\n",
       "      <td>60042</td>\n",
       "      <td>North America</td>\n",
       "      <td>USA</td>\n",
       "      <td>2022</td>\n",
       "      <td>27749.25</td>\n",
       "    </tr>\n",
       "  </tbody>\n",
       "</table>\n",
       "<p>165 rows × 7 columns</p>\n",
       "</div>"
      ],
      "text/plain": [
       "      Account Type  Account Group  Account Number       Category Location   \\\n",
       "0              VAT            500           50021           Asia     India   \n",
       "1              VAT            500           50021           Asia       UAE   \n",
       "2              VAT            500           50021           Asia     India   \n",
       "3              VAT            500           50021           Asia       UAE   \n",
       "4              VAT            500           50021           Asia     India   \n",
       "..             ...            ...             ...            ...       ...   \n",
       "160  Corporate Tax            600           60042  North America       USA   \n",
       "161  Corporate Tax            600           60042  North America       USA   \n",
       "162  Corporate Tax            600           60042  North America    Canada   \n",
       "163  Corporate Tax            600           60042  North America       USA   \n",
       "164  Corporate Tax            600           60042  North America       USA   \n",
       "\n",
       "     Year  Actual_Revenue  \n",
       "0    2022        80229.62  \n",
       "1    2018        22674.64  \n",
       "2    2019        68691.40  \n",
       "3    2022        40367.78  \n",
       "4    2018        14381.98  \n",
       "..    ...             ...  \n",
       "160  2022        36345.75  \n",
       "161  2020        18430.50  \n",
       "162  2022        33957.00  \n",
       "163  2021        17802.00  \n",
       "164  2022        27749.25  \n",
       "\n",
       "[165 rows x 7 columns]"
      ]
     },
     "execution_count": 104,
     "metadata": {},
     "output_type": "execute_result"
    }
   ],
   "source": [
    "data.drop(columns=[\"Collection\",\"tax\"])"
   ]
  },
  {
   "cell_type": "markdown",
   "id": "36129ecf",
   "metadata": {},
   "source": [
    "## Save to a new Folder"
   ]
  },
  {
   "cell_type": "code",
   "execution_count": 106,
   "id": "ed826ad3",
   "metadata": {},
   "outputs": [],
   "source": [
    "data.to_csv(\"test.csv\",index=False)"
   ]
  },
  {
   "cell_type": "code",
   "execution_count": 111,
   "id": "915bc127",
   "metadata": {},
   "outputs": [
    {
     "data": {
      "text/html": [
       "<div>\n",
       "<style scoped>\n",
       "    .dataframe tbody tr th:only-of-type {\n",
       "        vertical-align: middle;\n",
       "    }\n",
       "\n",
       "    .dataframe tbody tr th {\n",
       "        vertical-align: top;\n",
       "    }\n",
       "\n",
       "    .dataframe thead th {\n",
       "        text-align: right;\n",
       "    }\n",
       "</style>\n",
       "<table border=\"1\" class=\"dataframe\">\n",
       "  <thead>\n",
       "    <tr style=\"text-align: right;\">\n",
       "      <th></th>\n",
       "      <th>Account Type</th>\n",
       "      <th>Account Group</th>\n",
       "      <th>Account Number</th>\n",
       "      <th>Category</th>\n",
       "      <th>Location</th>\n",
       "      <th>Year</th>\n",
       "      <th>Collection</th>\n",
       "      <th>tax</th>\n",
       "      <th>Actual_Revenue</th>\n",
       "    </tr>\n",
       "  </thead>\n",
       "  <tbody>\n",
       "    <tr>\n",
       "      <th>0</th>\n",
       "      <td>VAT</td>\n",
       "      <td>500</td>\n",
       "      <td>50021</td>\n",
       "      <td>Asia</td>\n",
       "      <td>India</td>\n",
       "      <td>2022</td>\n",
       "      <td>97841</td>\n",
       "      <td>17611.38</td>\n",
       "      <td>80229.62</td>\n",
       "    </tr>\n",
       "    <tr>\n",
       "      <th>1</th>\n",
       "      <td>VAT</td>\n",
       "      <td>500</td>\n",
       "      <td>50021</td>\n",
       "      <td>Asia</td>\n",
       "      <td>UAE</td>\n",
       "      <td>2018</td>\n",
       "      <td>27652</td>\n",
       "      <td>4977.36</td>\n",
       "      <td>22674.64</td>\n",
       "    </tr>\n",
       "    <tr>\n",
       "      <th>2</th>\n",
       "      <td>VAT</td>\n",
       "      <td>500</td>\n",
       "      <td>50021</td>\n",
       "      <td>Asia</td>\n",
       "      <td>India</td>\n",
       "      <td>2019</td>\n",
       "      <td>83770</td>\n",
       "      <td>15078.60</td>\n",
       "      <td>68691.40</td>\n",
       "    </tr>\n",
       "    <tr>\n",
       "      <th>3</th>\n",
       "      <td>VAT</td>\n",
       "      <td>500</td>\n",
       "      <td>50021</td>\n",
       "      <td>Asia</td>\n",
       "      <td>UAE</td>\n",
       "      <td>2022</td>\n",
       "      <td>49229</td>\n",
       "      <td>8861.22</td>\n",
       "      <td>40367.78</td>\n",
       "    </tr>\n",
       "    <tr>\n",
       "      <th>4</th>\n",
       "      <td>VAT</td>\n",
       "      <td>500</td>\n",
       "      <td>50021</td>\n",
       "      <td>Asia</td>\n",
       "      <td>India</td>\n",
       "      <td>2018</td>\n",
       "      <td>17539</td>\n",
       "      <td>3157.02</td>\n",
       "      <td>14381.98</td>\n",
       "    </tr>\n",
       "    <tr>\n",
       "      <th>...</th>\n",
       "      <td>...</td>\n",
       "      <td>...</td>\n",
       "      <td>...</td>\n",
       "      <td>...</td>\n",
       "      <td>...</td>\n",
       "      <td>...</td>\n",
       "      <td>...</td>\n",
       "      <td>...</td>\n",
       "      <td>...</td>\n",
       "    </tr>\n",
       "    <tr>\n",
       "      <th>160</th>\n",
       "      <td>Corporate Tax</td>\n",
       "      <td>600</td>\n",
       "      <td>60042</td>\n",
       "      <td>North America</td>\n",
       "      <td>USA</td>\n",
       "      <td>2022</td>\n",
       "      <td>48461</td>\n",
       "      <td>12115.25</td>\n",
       "      <td>36345.75</td>\n",
       "    </tr>\n",
       "    <tr>\n",
       "      <th>161</th>\n",
       "      <td>Corporate Tax</td>\n",
       "      <td>600</td>\n",
       "      <td>60042</td>\n",
       "      <td>North America</td>\n",
       "      <td>USA</td>\n",
       "      <td>2020</td>\n",
       "      <td>24574</td>\n",
       "      <td>6143.50</td>\n",
       "      <td>18430.50</td>\n",
       "    </tr>\n",
       "    <tr>\n",
       "      <th>162</th>\n",
       "      <td>Corporate Tax</td>\n",
       "      <td>600</td>\n",
       "      <td>60042</td>\n",
       "      <td>North America</td>\n",
       "      <td>Canada</td>\n",
       "      <td>2022</td>\n",
       "      <td>45276</td>\n",
       "      <td>11319.00</td>\n",
       "      <td>33957.00</td>\n",
       "    </tr>\n",
       "    <tr>\n",
       "      <th>163</th>\n",
       "      <td>Corporate Tax</td>\n",
       "      <td>600</td>\n",
       "      <td>60042</td>\n",
       "      <td>North America</td>\n",
       "      <td>USA</td>\n",
       "      <td>2021</td>\n",
       "      <td>23736</td>\n",
       "      <td>5934.00</td>\n",
       "      <td>17802.00</td>\n",
       "    </tr>\n",
       "    <tr>\n",
       "      <th>164</th>\n",
       "      <td>Corporate Tax</td>\n",
       "      <td>600</td>\n",
       "      <td>60042</td>\n",
       "      <td>North America</td>\n",
       "      <td>USA</td>\n",
       "      <td>2022</td>\n",
       "      <td>36999</td>\n",
       "      <td>9249.75</td>\n",
       "      <td>27749.25</td>\n",
       "    </tr>\n",
       "  </tbody>\n",
       "</table>\n",
       "<p>165 rows × 9 columns</p>\n",
       "</div>"
      ],
      "text/plain": [
       "      Account Type  Account Group  Account Number       Category Location   \\\n",
       "0              VAT            500           50021           Asia     India   \n",
       "1              VAT            500           50021           Asia       UAE   \n",
       "2              VAT            500           50021           Asia     India   \n",
       "3              VAT            500           50021           Asia       UAE   \n",
       "4              VAT            500           50021           Asia     India   \n",
       "..             ...            ...             ...            ...       ...   \n",
       "160  Corporate Tax            600           60042  North America       USA   \n",
       "161  Corporate Tax            600           60042  North America       USA   \n",
       "162  Corporate Tax            600           60042  North America    Canada   \n",
       "163  Corporate Tax            600           60042  North America       USA   \n",
       "164  Corporate Tax            600           60042  North America       USA   \n",
       "\n",
       "     Year  Collection       tax  Actual_Revenue  \n",
       "0    2022       97841  17611.38        80229.62  \n",
       "1    2018       27652   4977.36        22674.64  \n",
       "2    2019       83770  15078.60        68691.40  \n",
       "3    2022       49229   8861.22        40367.78  \n",
       "4    2018       17539   3157.02        14381.98  \n",
       "..    ...         ...       ...             ...  \n",
       "160  2022       48461  12115.25        36345.75  \n",
       "161  2020       24574   6143.50        18430.50  \n",
       "162  2022       45276  11319.00        33957.00  \n",
       "163  2021       23736   5934.00        17802.00  \n",
       "164  2022       36999   9249.75        27749.25  \n",
       "\n",
       "[165 rows x 9 columns]"
      ]
     },
     "execution_count": 111,
     "metadata": {},
     "output_type": "execute_result"
    }
   ],
   "source": [
    "test = pd.read_csv(\"test.csv\")\n",
    "test"
   ]
  },
  {
   "cell_type": "code",
   "execution_count": 112,
   "id": "082e628c",
   "metadata": {
    "scrolled": false
   },
   "outputs": [
    {
     "data": {
      "text/html": [
       "<div>\n",
       "<style scoped>\n",
       "    .dataframe tbody tr th:only-of-type {\n",
       "        vertical-align: middle;\n",
       "    }\n",
       "\n",
       "    .dataframe tbody tr th {\n",
       "        vertical-align: top;\n",
       "    }\n",
       "\n",
       "    .dataframe thead th {\n",
       "        text-align: right;\n",
       "    }\n",
       "</style>\n",
       "<table border=\"1\" class=\"dataframe\">\n",
       "  <thead>\n",
       "    <tr style=\"text-align: right;\">\n",
       "      <th></th>\n",
       "      <th>Account Type</th>\n",
       "      <th>Account Group</th>\n",
       "      <th>Account Number</th>\n",
       "      <th>Category</th>\n",
       "      <th>Location</th>\n",
       "      <th>Year</th>\n",
       "      <th>Collection</th>\n",
       "      <th>tax</th>\n",
       "      <th>Actual_Revenue</th>\n",
       "    </tr>\n",
       "  </thead>\n",
       "  <tbody>\n",
       "    <tr>\n",
       "      <th>0</th>\n",
       "      <td>VAT</td>\n",
       "      <td>500</td>\n",
       "      <td>50021</td>\n",
       "      <td>Asia</td>\n",
       "      <td>India</td>\n",
       "      <td>2022</td>\n",
       "      <td>97841</td>\n",
       "      <td>17611.38</td>\n",
       "      <td>80229.62</td>\n",
       "    </tr>\n",
       "    <tr>\n",
       "      <th>1</th>\n",
       "      <td>VAT</td>\n",
       "      <td>500</td>\n",
       "      <td>50021</td>\n",
       "      <td>Asia</td>\n",
       "      <td>UAE</td>\n",
       "      <td>2018</td>\n",
       "      <td>27652</td>\n",
       "      <td>4977.36</td>\n",
       "      <td>22674.64</td>\n",
       "    </tr>\n",
       "    <tr>\n",
       "      <th>2</th>\n",
       "      <td>VAT</td>\n",
       "      <td>500</td>\n",
       "      <td>50021</td>\n",
       "      <td>Asia</td>\n",
       "      <td>India</td>\n",
       "      <td>2019</td>\n",
       "      <td>83770</td>\n",
       "      <td>15078.60</td>\n",
       "      <td>68691.40</td>\n",
       "    </tr>\n",
       "    <tr>\n",
       "      <th>3</th>\n",
       "      <td>VAT</td>\n",
       "      <td>500</td>\n",
       "      <td>50021</td>\n",
       "      <td>Asia</td>\n",
       "      <td>UAE</td>\n",
       "      <td>2022</td>\n",
       "      <td>49229</td>\n",
       "      <td>8861.22</td>\n",
       "      <td>40367.78</td>\n",
       "    </tr>\n",
       "    <tr>\n",
       "      <th>4</th>\n",
       "      <td>VAT</td>\n",
       "      <td>500</td>\n",
       "      <td>50021</td>\n",
       "      <td>Asia</td>\n",
       "      <td>India</td>\n",
       "      <td>2018</td>\n",
       "      <td>17539</td>\n",
       "      <td>3157.02</td>\n",
       "      <td>14381.98</td>\n",
       "    </tr>\n",
       "  </tbody>\n",
       "</table>\n",
       "</div>"
      ],
      "text/plain": [
       "  Account Type  Account Group  Account Number Category Location   Year  \\\n",
       "0          VAT            500           50021     Asia     India  2022   \n",
       "1          VAT            500           50021     Asia       UAE  2018   \n",
       "2          VAT            500           50021     Asia     India  2019   \n",
       "3          VAT            500           50021     Asia       UAE  2022   \n",
       "4          VAT            500           50021     Asia     India  2018   \n",
       "\n",
       "   Collection       tax  Actual_Revenue  \n",
       "0       97841  17611.38        80229.62  \n",
       "1       27652   4977.36        22674.64  \n",
       "2       83770  15078.60        68691.40  \n",
       "3       49229   8861.22        40367.78  \n",
       "4       17539   3157.02        14381.98  "
      ]
     },
     "execution_count": 112,
     "metadata": {},
     "output_type": "execute_result"
    }
   ],
   "source": [
    "data.to_excel(\"test.xlsx\", index= False)\n",
    "mod = pd.read_excel(\"test.xlsx\")\n",
    "mod.head(5)"
   ]
  },
  {
   "cell_type": "code",
   "execution_count": 113,
   "id": "ba536369",
   "metadata": {},
   "outputs": [
    {
     "data": {
      "text/html": [
       "<div>\n",
       "<style scoped>\n",
       "    .dataframe tbody tr th:only-of-type {\n",
       "        vertical-align: middle;\n",
       "    }\n",
       "\n",
       "    .dataframe tbody tr th {\n",
       "        vertical-align: top;\n",
       "    }\n",
       "\n",
       "    .dataframe thead th {\n",
       "        text-align: right;\n",
       "    }\n",
       "</style>\n",
       "<table border=\"1\" class=\"dataframe\">\n",
       "  <thead>\n",
       "    <tr style=\"text-align: right;\">\n",
       "      <th></th>\n",
       "      <th>Account Type</th>\n",
       "      <th>Account Group</th>\n",
       "      <th>Account Number</th>\n",
       "      <th>Category</th>\n",
       "      <th>Location</th>\n",
       "      <th>Year</th>\n",
       "      <th>Collection</th>\n",
       "      <th>tax</th>\n",
       "      <th>Actual_Revenue</th>\n",
       "    </tr>\n",
       "  </thead>\n",
       "  <tbody>\n",
       "    <tr>\n",
       "      <th>0</th>\n",
       "      <td>VAT</td>\n",
       "      <td>500</td>\n",
       "      <td>50021</td>\n",
       "      <td>Asia</td>\n",
       "      <td>India</td>\n",
       "      <td>2022</td>\n",
       "      <td>97841</td>\n",
       "      <td>17611.38</td>\n",
       "      <td>80229.62</td>\n",
       "    </tr>\n",
       "    <tr>\n",
       "      <th>1</th>\n",
       "      <td>VAT</td>\n",
       "      <td>500</td>\n",
       "      <td>50021</td>\n",
       "      <td>Asia</td>\n",
       "      <td>UAE</td>\n",
       "      <td>2018</td>\n",
       "      <td>27652</td>\n",
       "      <td>4977.36</td>\n",
       "      <td>22674.64</td>\n",
       "    </tr>\n",
       "    <tr>\n",
       "      <th>2</th>\n",
       "      <td>VAT</td>\n",
       "      <td>500</td>\n",
       "      <td>50021</td>\n",
       "      <td>Asia</td>\n",
       "      <td>India</td>\n",
       "      <td>2019</td>\n",
       "      <td>83770</td>\n",
       "      <td>15078.60</td>\n",
       "      <td>68691.40</td>\n",
       "    </tr>\n",
       "    <tr>\n",
       "      <th>3</th>\n",
       "      <td>VAT</td>\n",
       "      <td>500</td>\n",
       "      <td>50021</td>\n",
       "      <td>Asia</td>\n",
       "      <td>UAE</td>\n",
       "      <td>2022</td>\n",
       "      <td>49229</td>\n",
       "      <td>8861.22</td>\n",
       "      <td>40367.78</td>\n",
       "    </tr>\n",
       "    <tr>\n",
       "      <th>4</th>\n",
       "      <td>VAT</td>\n",
       "      <td>500</td>\n",
       "      <td>50021</td>\n",
       "      <td>Asia</td>\n",
       "      <td>India</td>\n",
       "      <td>2018</td>\n",
       "      <td>17539</td>\n",
       "      <td>3157.02</td>\n",
       "      <td>14381.98</td>\n",
       "    </tr>\n",
       "    <tr>\n",
       "      <th>...</th>\n",
       "      <td>...</td>\n",
       "      <td>...</td>\n",
       "      <td>...</td>\n",
       "      <td>...</td>\n",
       "      <td>...</td>\n",
       "      <td>...</td>\n",
       "      <td>...</td>\n",
       "      <td>...</td>\n",
       "      <td>...</td>\n",
       "    </tr>\n",
       "    <tr>\n",
       "      <th>160</th>\n",
       "      <td>Corporate Tax</td>\n",
       "      <td>600</td>\n",
       "      <td>60042</td>\n",
       "      <td>North America</td>\n",
       "      <td>USA</td>\n",
       "      <td>2022</td>\n",
       "      <td>48461</td>\n",
       "      <td>12115.25</td>\n",
       "      <td>36345.75</td>\n",
       "    </tr>\n",
       "    <tr>\n",
       "      <th>161</th>\n",
       "      <td>Corporate Tax</td>\n",
       "      <td>600</td>\n",
       "      <td>60042</td>\n",
       "      <td>North America</td>\n",
       "      <td>USA</td>\n",
       "      <td>2020</td>\n",
       "      <td>24574</td>\n",
       "      <td>6143.50</td>\n",
       "      <td>18430.50</td>\n",
       "    </tr>\n",
       "    <tr>\n",
       "      <th>162</th>\n",
       "      <td>Corporate Tax</td>\n",
       "      <td>600</td>\n",
       "      <td>60042</td>\n",
       "      <td>North America</td>\n",
       "      <td>Canada</td>\n",
       "      <td>2022</td>\n",
       "      <td>45276</td>\n",
       "      <td>11319.00</td>\n",
       "      <td>33957.00</td>\n",
       "    </tr>\n",
       "    <tr>\n",
       "      <th>163</th>\n",
       "      <td>Corporate Tax</td>\n",
       "      <td>600</td>\n",
       "      <td>60042</td>\n",
       "      <td>North America</td>\n",
       "      <td>USA</td>\n",
       "      <td>2021</td>\n",
       "      <td>23736</td>\n",
       "      <td>5934.00</td>\n",
       "      <td>17802.00</td>\n",
       "    </tr>\n",
       "    <tr>\n",
       "      <th>164</th>\n",
       "      <td>Corporate Tax</td>\n",
       "      <td>600</td>\n",
       "      <td>60042</td>\n",
       "      <td>North America</td>\n",
       "      <td>USA</td>\n",
       "      <td>2022</td>\n",
       "      <td>36999</td>\n",
       "      <td>9249.75</td>\n",
       "      <td>27749.25</td>\n",
       "    </tr>\n",
       "  </tbody>\n",
       "</table>\n",
       "<p>165 rows × 9 columns</p>\n",
       "</div>"
      ],
      "text/plain": [
       "      Account Type  Account Group  Account Number       Category Location   \\\n",
       "0              VAT            500           50021           Asia     India   \n",
       "1              VAT            500           50021           Asia       UAE   \n",
       "2              VAT            500           50021           Asia     India   \n",
       "3              VAT            500           50021           Asia       UAE   \n",
       "4              VAT            500           50021           Asia     India   \n",
       "..             ...            ...             ...            ...       ...   \n",
       "160  Corporate Tax            600           60042  North America       USA   \n",
       "161  Corporate Tax            600           60042  North America       USA   \n",
       "162  Corporate Tax            600           60042  North America    Canada   \n",
       "163  Corporate Tax            600           60042  North America       USA   \n",
       "164  Corporate Tax            600           60042  North America       USA   \n",
       "\n",
       "     Year  Collection       tax  Actual_Revenue  \n",
       "0    2022       97841  17611.38        80229.62  \n",
       "1    2018       27652   4977.36        22674.64  \n",
       "2    2019       83770  15078.60        68691.40  \n",
       "3    2022       49229   8861.22        40367.78  \n",
       "4    2018       17539   3157.02        14381.98  \n",
       "..    ...         ...       ...             ...  \n",
       "160  2022       48461  12115.25        36345.75  \n",
       "161  2020       24574   6143.50        18430.50  \n",
       "162  2022       45276  11319.00        33957.00  \n",
       "163  2021       23736   5934.00        17802.00  \n",
       "164  2022       36999   9249.75        27749.25  \n",
       "\n",
       "[165 rows x 9 columns]"
      ]
     },
     "execution_count": 113,
     "metadata": {},
     "output_type": "execute_result"
    }
   ],
   "source": [
    "data.to_excel(\"test.xlsx\",index=False) \n",
    "mod=pd.read_excel(\"test.xlsx\") \n",
    "mod"
   ]
  },
  {
   "cell_type": "code",
   "execution_count": 116,
   "id": "9c31a9ac",
   "metadata": {},
   "outputs": [],
   "source": [
    "data.to_csv(\"test.txt\",index=False,sep=\"|\")"
   ]
  },
  {
   "cell_type": "code",
   "execution_count": null,
   "id": "71fe243d",
   "metadata": {},
   "outputs": [],
   "source": []
  },
  {
   "cell_type": "code",
   "execution_count": null,
   "id": "033c814a",
   "metadata": {},
   "outputs": [],
   "source": []
  },
  {
   "cell_type": "code",
   "execution_count": null,
   "id": "45cc5b02",
   "metadata": {},
   "outputs": [],
   "source": [
    "revenue.to_csv(\"modified.txt\", index= False , sep ='\\t') \n",
    "mod = pd.read_csv(\"modified.txt\")\n",
    "mod.head(5)"
   ]
  },
  {
   "cell_type": "markdown",
   "id": "77f36a44",
   "metadata": {},
   "source": [
    "## Filter data"
   ]
  },
  {
   "cell_type": "code",
   "execution_count": null,
   "id": "0c7986ae",
   "metadata": {
    "scrolled": true
   },
   "outputs": [],
   "source": [
    "data.loc[(data[\"Category\"]==\"Asia\") &( data[\"Year\"]==2019)]"
   ]
  },
  {
   "cell_type": "code",
   "execution_count": null,
   "id": "a7625905",
   "metadata": {},
   "outputs": [],
   "source": []
  },
  {
   "cell_type": "markdown",
   "id": "c819c2e0",
   "metadata": {},
   "source": [
    "## Filtering values in a string"
   ]
  },
  {
   "cell_type": "code",
   "execution_count": null,
   "id": "5385e222",
   "metadata": {},
   "outputs": [],
   "source": [
    "data.loc[data[\"Category\"].str.contains(\"North\")]"
   ]
  },
  {
   "cell_type": "code",
   "execution_count": null,
   "id": "42d4ca1b",
   "metadata": {},
   "outputs": [],
   "source": [
    "data.loc[data[\"Location \"].str.contains(\"a|A\")]"
   ]
  },
  {
   "cell_type": "code",
   "execution_count": null,
   "id": "234884aa",
   "metadata": {},
   "outputs": [],
   "source": [
    "import re\n",
    "data.loc[data[\"Location \"].str.contains(\"a|u\",flags=re.I, regex=True)]\n",
    "\n"
   ]
  },
  {
   "cell_type": "code",
   "execution_count": null,
   "id": "6fd5ebc3",
   "metadata": {},
   "outputs": [],
   "source": []
  },
  {
   "cell_type": "code",
   "execution_count": null,
   "id": "92af1af5",
   "metadata": {},
   "outputs": [],
   "source": [
    "df.loc[df['Name'].str.contains('Mega')]"
   ]
  },
  {
   "cell_type": "markdown",
   "id": "34760c78",
   "metadata": {},
   "source": [
    "### Create a new column with the sum and average of the 6 fields  and create a seperate file having Name, type1 , type2 , sum and average"
   ]
  },
  {
   "cell_type": "code",
   "execution_count": 121,
   "id": "3216ce23",
   "metadata": {
    "scrolled": true
   },
   "outputs": [
    {
     "data": {
      "text/html": [
       "<div>\n",
       "<style scoped>\n",
       "    .dataframe tbody tr th:only-of-type {\n",
       "        vertical-align: middle;\n",
       "    }\n",
       "\n",
       "    .dataframe tbody tr th {\n",
       "        vertical-align: top;\n",
       "    }\n",
       "\n",
       "    .dataframe thead th {\n",
       "        text-align: right;\n",
       "    }\n",
       "</style>\n",
       "<table border=\"1\" class=\"dataframe\">\n",
       "  <thead>\n",
       "    <tr style=\"text-align: right;\">\n",
       "      <th></th>\n",
       "      <th>#</th>\n",
       "      <th>Name</th>\n",
       "      <th>Type 1</th>\n",
       "      <th>Type 2</th>\n",
       "      <th>HP</th>\n",
       "      <th>Attack</th>\n",
       "      <th>Defense</th>\n",
       "      <th>Sp. Atk</th>\n",
       "      <th>Sp. Def</th>\n",
       "      <th>Speed</th>\n",
       "      <th>Generation</th>\n",
       "      <th>Legendary</th>\n",
       "    </tr>\n",
       "  </thead>\n",
       "  <tbody>\n",
       "    <tr>\n",
       "      <th>0</th>\n",
       "      <td>1</td>\n",
       "      <td>Bulbasaur</td>\n",
       "      <td>Grass</td>\n",
       "      <td>Poison</td>\n",
       "      <td>45</td>\n",
       "      <td>49</td>\n",
       "      <td>49</td>\n",
       "      <td>65</td>\n",
       "      <td>65</td>\n",
       "      <td>45</td>\n",
       "      <td>1</td>\n",
       "      <td>False</td>\n",
       "    </tr>\n",
       "    <tr>\n",
       "      <th>1</th>\n",
       "      <td>2</td>\n",
       "      <td>Ivysaur</td>\n",
       "      <td>Grass</td>\n",
       "      <td>Poison</td>\n",
       "      <td>60</td>\n",
       "      <td>62</td>\n",
       "      <td>63</td>\n",
       "      <td>80</td>\n",
       "      <td>80</td>\n",
       "      <td>60</td>\n",
       "      <td>1</td>\n",
       "      <td>False</td>\n",
       "    </tr>\n",
       "    <tr>\n",
       "      <th>2</th>\n",
       "      <td>3</td>\n",
       "      <td>Venusaur</td>\n",
       "      <td>Grass</td>\n",
       "      <td>Poison</td>\n",
       "      <td>80</td>\n",
       "      <td>82</td>\n",
       "      <td>83</td>\n",
       "      <td>100</td>\n",
       "      <td>100</td>\n",
       "      <td>80</td>\n",
       "      <td>1</td>\n",
       "      <td>False</td>\n",
       "    </tr>\n",
       "    <tr>\n",
       "      <th>3</th>\n",
       "      <td>3</td>\n",
       "      <td>VenusaurMega Venusaur</td>\n",
       "      <td>Grass</td>\n",
       "      <td>Poison</td>\n",
       "      <td>80</td>\n",
       "      <td>100</td>\n",
       "      <td>123</td>\n",
       "      <td>122</td>\n",
       "      <td>120</td>\n",
       "      <td>80</td>\n",
       "      <td>1</td>\n",
       "      <td>False</td>\n",
       "    </tr>\n",
       "    <tr>\n",
       "      <th>4</th>\n",
       "      <td>4</td>\n",
       "      <td>Charmander</td>\n",
       "      <td>Fire</td>\n",
       "      <td>NaN</td>\n",
       "      <td>39</td>\n",
       "      <td>52</td>\n",
       "      <td>43</td>\n",
       "      <td>60</td>\n",
       "      <td>50</td>\n",
       "      <td>65</td>\n",
       "      <td>1</td>\n",
       "      <td>False</td>\n",
       "    </tr>\n",
       "  </tbody>\n",
       "</table>\n",
       "</div>"
      ],
      "text/plain": [
       "   #                   Name Type 1  Type 2  HP  Attack  Defense  Sp. Atk  \\\n",
       "0  1              Bulbasaur  Grass  Poison  45      49       49       65   \n",
       "1  2                Ivysaur  Grass  Poison  60      62       63       80   \n",
       "2  3               Venusaur  Grass  Poison  80      82       83      100   \n",
       "3  3  VenusaurMega Venusaur  Grass  Poison  80     100      123      122   \n",
       "4  4             Charmander   Fire     NaN  39      52       43       60   \n",
       "\n",
       "   Sp. Def  Speed  Generation  Legendary  \n",
       "0       65     45           1      False  \n",
       "1       80     60           1      False  \n",
       "2      100     80           1      False  \n",
       "3      120     80           1      False  \n",
       "4       50     65           1      False  "
      ]
     },
     "execution_count": 121,
     "metadata": {},
     "output_type": "execute_result"
    }
   ],
   "source": [
    "import pandas as pd\n",
    "df =pd.read_csv(\"pokemon_data.csv\")\n",
    "df.head(5)"
   ]
  },
  {
   "cell_type": "code",
   "execution_count": null,
   "id": "8c8bbe96",
   "metadata": {},
   "outputs": [],
   "source": [
    "df.info()"
   ]
  },
  {
   "cell_type": "code",
   "execution_count": null,
   "id": "305d22b1",
   "metadata": {},
   "outputs": [],
   "source": [
    "df.describe()"
   ]
  },
  {
   "cell_type": "code",
   "execution_count": null,
   "id": "7fac24bd",
   "metadata": {},
   "outputs": [],
   "source": [
    "df[\"Sum\"]=df[\"HP\"]+df[\"Attack\"]+df[\"Defense\"]+df[\"Sp. Atk\"]+df[\"Sp. Def\"]+df[\"Speed\"]\n",
    "df[\"Average\"]=df[\"Sum\"]/6"
   ]
  },
  {
   "cell_type": "code",
   "execution_count": null,
   "id": "fe3a4a86",
   "metadata": {
    "scrolled": true
   },
   "outputs": [],
   "source": [
    "df.head(5)"
   ]
  },
  {
   "cell_type": "code",
   "execution_count": null,
   "id": "f5aa693c",
   "metadata": {},
   "outputs": [],
   "source": [
    "new = df[['Name','Type 1','Type 2','Sum','Average']]"
   ]
  },
  {
   "cell_type": "code",
   "execution_count": null,
   "id": "c0196f16",
   "metadata": {
    "scrolled": false
   },
   "outputs": [],
   "source": [
    "new.head(5)"
   ]
  },
  {
   "cell_type": "code",
   "execution_count": null,
   "id": "35071577",
   "metadata": {
    "scrolled": true
   },
   "outputs": [],
   "source": [
    "df.to_csv(\"sum_ave_pd.csv\", index = False)\n",
    "df.head(5)"
   ]
  },
  {
   "cell_type": "code",
   "execution_count": null,
   "id": "1766617e",
   "metadata": {},
   "outputs": [],
   "source": [
    "df.to_csv(\"/Users/sreeja/Desktop/NDZ/sum_ave_pd.csv\", index=False)"
   ]
  },
  {
   "cell_type": "markdown",
   "id": "56c98091",
   "metadata": {},
   "source": [
    "### Filter the data for type 1 = Bug and type 2 = Flying"
   ]
  },
  {
   "cell_type": "code",
   "execution_count": null,
   "id": "cbc5d474",
   "metadata": {
    "scrolled": true
   },
   "outputs": [],
   "source": [
    "df.loc[(df[\"Type 1\"]==\"Bug\")&(df[\"Type 2\"]==\"Flying\")]"
   ]
  },
  {
   "cell_type": "code",
   "execution_count": null,
   "id": "0be3cab3",
   "metadata": {
    "scrolled": true
   },
   "outputs": [],
   "source": [
    "newdata=df.loc[(df[\"Type 1\"]==\"Bug\")&(df[\"Type 2\"]==\"Flying\")&(df['HP'] > 40)]\n",
    "newdata = newdata.reset_index(drop=True)\n",
    "newdata.head()"
   ]
  },
  {
   "cell_type": "code",
   "execution_count": null,
   "id": "8908fdee",
   "metadata": {},
   "outputs": [],
   "source": [
    "newdata= newdata.reset_index(drop=True)\n",
    "newdata"
   ]
  },
  {
   "cell_type": "markdown",
   "id": "a3783025",
   "metadata": {},
   "source": [
    "## Filter data deeper"
   ]
  },
  {
   "cell_type": "code",
   "execution_count": null,
   "id": "fd239687",
   "metadata": {
    "scrolled": false
   },
   "outputs": [],
   "source": [
    "new_df = df.loc[(df['Type 1'] == 'Grass') & (df['Type 2'] == 'Poison') & (df['HP'] > 70)]\n",
    "new_df"
   ]
  },
  {
   "cell_type": "code",
   "execution_count": null,
   "id": "074444d4",
   "metadata": {
    "scrolled": true
   },
   "outputs": [],
   "source": [
    "new_df= new_df.reset_index(drop=True)\n",
    "\n",
    "new_df.head(10)"
   ]
  },
  {
   "cell_type": "code",
   "execution_count": null,
   "id": "98653d32",
   "metadata": {
    "scrolled": false
   },
   "outputs": [],
   "source": [
    "new_df.reset_index(drop=True, inplace=True)\n",
    "new_df\n"
   ]
  },
  {
   "cell_type": "code",
   "execution_count": null,
   "id": "07c64f72",
   "metadata": {},
   "outputs": [],
   "source": [
    "df.tail(20)"
   ]
  },
  {
   "cell_type": "markdown",
   "id": "f6ac2dd5",
   "metadata": {},
   "source": [
    "## Filter for a value in string"
   ]
  },
  {
   "cell_type": "code",
   "execution_count": null,
   "id": "3a0af046",
   "metadata": {
    "scrolled": false
   },
   "outputs": [],
   "source": [
    "df.loc[df['Name'].str.contains('Mega')]\n"
   ]
  },
  {
   "cell_type": "code",
   "execution_count": null,
   "id": "68f79b60",
   "metadata": {
    "scrolled": false
   },
   "outputs": [],
   "source": [
    "df.loc[(df['Name'].str.contains('mega|Super'))]"
   ]
  },
  {
   "cell_type": "code",
   "execution_count": null,
   "id": "0c31b731",
   "metadata": {},
   "outputs": [],
   "source": [
    "df.loc[(df['Name'].str.contains('mega'))]"
   ]
  },
  {
   "cell_type": "code",
   "execution_count": null,
   "id": "3b2a8dd6",
   "metadata": {
    "scrolled": true
   },
   "outputs": [],
   "source": [
    "import re\n",
    "df.loc[df['Name'].str.contains('mega|super',flags=re.I, regex=True)]"
   ]
  },
  {
   "cell_type": "code",
   "execution_count": null,
   "id": "697182fb",
   "metadata": {},
   "outputs": [],
   "source": [
    "a.info()"
   ]
  },
  {
   "cell_type": "code",
   "execution_count": null,
   "id": "ad5abb89",
   "metadata": {
    "scrolled": true
   },
   "outputs": [],
   "source": [
    "df.loc[~df['Name'].str.contains('mega|super',flags=re.I, regex=True)]"
   ]
  },
  {
   "cell_type": "code",
   "execution_count": null,
   "id": "7c983828",
   "metadata": {},
   "outputs": [],
   "source": [
    "import re\n",
    "df.loc[~df['Name'].str.contains('mega | hoopa', regex=True)]"
   ]
  },
  {
   "cell_type": "code",
   "execution_count": null,
   "id": "134f25f2",
   "metadata": {
    "scrolled": true
   },
   "outputs": [],
   "source": [
    "df.loc[df['Name'].str.contains('^bu[a-z]*',flags=re.I, regex=True)]"
   ]
  },
  {
   "cell_type": "markdown",
   "id": "922be210",
   "metadata": {},
   "source": [
    "## Conditional Changes"
   ]
  },
  {
   "cell_type": "code",
   "execution_count": null,
   "id": "e2dc3929",
   "metadata": {
    "scrolled": false
   },
   "outputs": [],
   "source": [
    "df"
   ]
  },
  {
   "cell_type": "code",
   "execution_count": null,
   "id": "3a1c7bd9",
   "metadata": {},
   "outputs": [],
   "source": [
    "df.loc[df[\"Type 1\"]==\"Grass\",\"Legendary\"]=\"T\""
   ]
  },
  {
   "cell_type": "code",
   "execution_count": null,
   "id": "b0abb469",
   "metadata": {},
   "outputs": [],
   "source": [
    "df.loc[df[\"Type 1\"]==\"Fire\",\"HP\"]=100\n",
    "df.loc[df[\"Type 1\"]==\"Fire\"]"
   ]
  },
  {
   "cell_type": "code",
   "execution_count": null,
   "id": "730e325a",
   "metadata": {},
   "outputs": [],
   "source": [
    "df.loc[df['Type 1'] =='Grass','Legendary'] = 'True'\n",
    "\n",
    "df.loc[df[\"Type 1\"]==\"Grass\"]\n"
   ]
  },
  {
   "cell_type": "code",
   "execution_count": null,
   "id": "4187d7c6",
   "metadata": {},
   "outputs": [],
   "source": [
    "df.loc[df['Type 1'] =='Bug','Type 1'] = 'Grass'\n",
    " \n",
    "df"
   ]
  },
  {
   "cell_type": "code",
   "execution_count": null,
   "id": "a2443cec",
   "metadata": {
    "scrolled": false
   },
   "outputs": [],
   "source": [
    "df = pd.read_csv(\"sum_ave_pd.csv\")\n",
    "df.head(5)\n",
    "df.info()"
   ]
  },
  {
   "cell_type": "code",
   "execution_count": null,
   "id": "68bfa149",
   "metadata": {
    "scrolled": false
   },
   "outputs": [],
   "source": [
    "df.loc[df['Type 2']==\"Dragon\",'Type 2']= \" \"\n",
    "df"
   ]
  },
  {
   "cell_type": "code",
   "execution_count": null,
   "id": "a934fa94",
   "metadata": {
    "scrolled": true
   },
   "outputs": [],
   "source": [
    "df.loc[df['HP'] == 80, ['Generation','Legendary']] = [\"1.5\", 'True']\n",
    "\n",
    "df\n"
   ]
  },
  {
   "cell_type": "code",
   "execution_count": null,
   "id": "22caba99",
   "metadata": {
    "scrolled": true
   },
   "outputs": [],
   "source": [
    "df = pd.read_csv(\"sum_ave_pd.csv\")"
   ]
  },
  {
   "cell_type": "code",
   "execution_count": null,
   "id": "1c609658",
   "metadata": {
    "scrolled": true
   },
   "outputs": [],
   "source": [
    "df.head()"
   ]
  },
  {
   "cell_type": "code",
   "execution_count": null,
   "id": "f1bb2780",
   "metadata": {},
   "outputs": [],
   "source": [
    "df"
   ]
  },
  {
   "cell_type": "markdown",
   "id": "71081cf9",
   "metadata": {},
   "source": [
    "## Aggressive Statistics (Group By)"
   ]
  },
  {
   "cell_type": "code",
   "execution_count": 119,
   "id": "6df0d7d6",
   "metadata": {},
   "outputs": [],
   "source": [
    "import pandas as pd"
   ]
  },
  {
   "cell_type": "code",
   "execution_count": 120,
   "id": "817c3873",
   "metadata": {
    "scrolled": true
   },
   "outputs": [
    {
     "ename": "NameError",
     "evalue": "name 'df' is not defined",
     "output_type": "error",
     "traceback": [
      "\u001b[0;31m---------------------------------------------------------------------------\u001b[0m",
      "\u001b[0;31mNameError\u001b[0m                                 Traceback (most recent call last)",
      "\u001b[0;32m/var/folders/1z/cg3wnq050fn_7dl4rd8bccpw0000gn/T/ipykernel_39068/2981948462.py\u001b[0m in \u001b[0;36m<module>\u001b[0;34m\u001b[0m\n\u001b[0;32m----> 1\u001b[0;31m \u001b[0mdf\u001b[0m\u001b[0;34m.\u001b[0m\u001b[0mgroupby\u001b[0m\u001b[0;34m(\u001b[0m\u001b[0;34m[\u001b[0m\u001b[0;34m'Type 2'\u001b[0m\u001b[0;34m]\u001b[0m\u001b[0;34m)\u001b[0m\u001b[0;34m.\u001b[0m\u001b[0msum\u001b[0m\u001b[0;34m(\u001b[0m\u001b[0;34m)\u001b[0m\u001b[0;34m[\u001b[0m\u001b[0;34m\"HP\"\u001b[0m\u001b[0;34m]\u001b[0m\u001b[0;34m\u001b[0m\u001b[0;34m\u001b[0m\u001b[0m\n\u001b[0m",
      "\u001b[0;31mNameError\u001b[0m: name 'df' is not defined"
     ]
    }
   ],
   "source": [
    "df.groupby(['Type 2']).sum()[\"HP\"]"
   ]
  },
  {
   "cell_type": "code",
   "execution_count": null,
   "id": "9f001d7c",
   "metadata": {
    "scrolled": false
   },
   "outputs": [],
   "source": [
    "df.groupby(['Type 2']).sum()[\"HP\"].sort_values(ascending=False)"
   ]
  },
  {
   "cell_type": "code",
   "execution_count": null,
   "id": "bcae0f8c",
   "metadata": {},
   "outputs": [],
   "source": [
    "df.groupby(['Type 2']).count()"
   ]
  },
  {
   "cell_type": "code",
   "execution_count": null,
   "id": "ebf6144e",
   "metadata": {},
   "outputs": [],
   "source": [
    "df.groupby(['Type 1']).count().sort_values('HP',ascending=False)"
   ]
  },
  {
   "cell_type": "code",
   "execution_count": null,
   "id": "8638329d",
   "metadata": {
    "scrolled": true
   },
   "outputs": [],
   "source": [
    "df.groupby(['Type 1']).mean().sort_values('Defense',ascending =False)"
   ]
  },
  {
   "cell_type": "code",
   "execution_count": null,
   "id": "f16d22d2",
   "metadata": {},
   "outputs": [],
   "source": [
    "df.groupby(['Type 1']).count().sort_values('Defense',ascending =False)"
   ]
  },
  {
   "cell_type": "code",
   "execution_count": null,
   "id": "3aa7de8c",
   "metadata": {
    "scrolled": false
   },
   "outputs": [],
   "source": [
    "df.loc[(df[\"Type 1\"]==\"Bug\")]\n"
   ]
  },
  {
   "cell_type": "code",
   "execution_count": null,
   "id": "e90b9351",
   "metadata": {
    "scrolled": true
   },
   "outputs": [],
   "source": [
    "df.groupby(['Type 1',\"Type 2\"]).count()[\"#\"]"
   ]
  },
  {
   "cell_type": "code",
   "execution_count": null,
   "id": "5150e30b",
   "metadata": {},
   "outputs": [],
   "source": [
    "df.groupby(['Type 1','Type 2']).count()['#']"
   ]
  },
  {
   "cell_type": "code",
   "execution_count": null,
   "id": "e65fae30",
   "metadata": {
    "scrolled": false
   },
   "outputs": [],
   "source": [
    "df.groupby(['Type 1']).sum()['HP']"
   ]
  },
  {
   "cell_type": "code",
   "execution_count": null,
   "id": "ea37eb34",
   "metadata": {},
   "outputs": [],
   "source": [
    "df.groupby(['Type 1','Type 2']).sum()['HP']"
   ]
  },
  {
   "cell_type": "code",
   "execution_count": null,
   "id": "bb1098c6",
   "metadata": {},
   "outputs": [],
   "source": [
    "type1_2 = df.groupby(['Type 1','Type 2']).sum()['HP']"
   ]
  },
  {
   "cell_type": "code",
   "execution_count": null,
   "id": "e9277e78",
   "metadata": {},
   "outputs": [],
   "source": [
    "type1_2.head(50)"
   ]
  },
  {
   "cell_type": "code",
   "execution_count": null,
   "id": "9dca814c",
   "metadata": {},
   "outputs": [],
   "source": [
    "type1_2.to_csv(\"type1_2.csv\")"
   ]
  },
  {
   "cell_type": "code",
   "execution_count": null,
   "id": "04b5fc27",
   "metadata": {},
   "outputs": [],
   "source": [
    "type1_2= pd.read_csv(\"type1_2.csv\")\n",
    "type1_2.head(10)"
   ]
  },
  {
   "cell_type": "markdown",
   "id": "af20e84c",
   "metadata": {},
   "source": [
    "## Drop NaN"
   ]
  },
  {
   "cell_type": "code",
   "execution_count": null,
   "id": "02183d1f",
   "metadata": {
    "scrolled": true
   },
   "outputs": [],
   "source": [
    "df.info()"
   ]
  },
  {
   "cell_type": "code",
   "execution_count": null,
   "id": "ce9e4c59",
   "metadata": {
    "scrolled": true
   },
   "outputs": [],
   "source": [
    "df[df.isna().any(axis=1)]\n",
    "\n",
    "#a.head(100)\n",
    "\n"
   ]
  },
  {
   "cell_type": "code",
   "execution_count": null,
   "id": "94100059",
   "metadata": {
    "scrolled": false
   },
   "outputs": [],
   "source": [
    "df = df.dropna()\n",
    "df.head()\n",
    "\n",
    "df[df.isna().any(axis=1)]\n",
    "\n",
    "df.info()"
   ]
  },
  {
   "cell_type": "markdown",
   "id": "8feb4eec",
   "metadata": {},
   "source": [
    "## Which type1 has most HP and least attack ?"
   ]
  },
  {
   "cell_type": "code",
   "execution_count": null,
   "id": "8ad69f9f",
   "metadata": {
    "scrolled": true
   },
   "outputs": [],
   "source": [
    "df.groupby(['Type 1']).sum().sort_values(\"Attack\")"
   ]
  },
  {
   "cell_type": "code",
   "execution_count": null,
   "id": "4be37cc4",
   "metadata": {},
   "outputs": [],
   "source": [
    "df.groupby(['Type 1']).sum()['Attack'].sort_values()"
   ]
  },
  {
   "cell_type": "markdown",
   "id": "d8052476",
   "metadata": {},
   "source": [
    "# Visualise the above "
   ]
  },
  {
   "cell_type": "code",
   "execution_count": null,
   "id": "277d8a20",
   "metadata": {},
   "outputs": [],
   "source": [
    "import matplotlib.pyplot as plt\n",
    "import numpy as np"
   ]
  },
  {
   "cell_type": "code",
   "execution_count": null,
   "id": "7768018e",
   "metadata": {
    "scrolled": false
   },
   "outputs": [],
   "source": [
    "total_hp = df.groupby(['Type 1']).sum()['HP'].sort_values(ascending= False)\n",
    "total_hp\n",
    "plt.plot(total_hp)"
   ]
  },
  {
   "cell_type": "code",
   "execution_count": null,
   "id": "e4a1d5bd",
   "metadata": {},
   "outputs": [],
   "source": [
    "total_hp"
   ]
  },
  {
   "cell_type": "code",
   "execution_count": null,
   "id": "5b17ad41",
   "metadata": {},
   "outputs": [],
   "source": [
    "total_attack= df.groupby(['Type 1']).sum()['Attack'].sort_values()\n",
    "plt.plot(total_attack)"
   ]
  },
  {
   "cell_type": "code",
   "execution_count": null,
   "id": "4aea4758",
   "metadata": {
    "scrolled": false
   },
   "outputs": [],
   "source": [
    "total_hp = df.groupby(['Type 1']).sum()['HP'].sort_values()\n",
    "\n",
    "key = [a for a, df in df.groupby(['Type 1'])]\n",
    "print(key)"
   ]
  },
  {
   "cell_type": "code",
   "execution_count": null,
   "id": "afa0681c",
   "metadata": {
    "scrolled": true
   },
   "outputs": [],
   "source": [
    "plt.bar(key, total_hp)\n"
   ]
  },
  {
   "cell_type": "code",
   "execution_count": null,
   "id": "09eb2f3b",
   "metadata": {
    "scrolled": true
   },
   "outputs": [],
   "source": [
    "import pandas as pd\n",
    "import matplotlib.pyplot as plt\n",
    "df =pd.read_csv(\"pokemon_data.csv\")\n",
    "\n",
    "total_hp = df.groupby(['Type 1']).sum()['HP'].sort_values(ascending = False)\n",
    "\n",
    "total_attack = df.groupby(['Type 1']).sum()['Attack'].sort_values()\n",
    "\n",
    "key = [a for a, df in df.groupby(['Type 1'])]\n",
    "\n",
    "#fig, ax1 = plt.subplots()\n",
    "\n",
    "plt.plot(key,total_attack,color = \"r\")\n",
    "plt.bar(key, total_hp,color = \"g\")\n",
    "\n",
    "#ax2 = ax1.twinx()\n",
    "\n",
    "#ax1.bar(key, total_hp, color='g')\n",
    "#ax2.plot(key, total_attack, color='r')\n",
    "\n",
    "#ax1.set_xlabel('Type1')\n",
    "#ax1.set_ylabel('Total HP', color='g')\n",
    "#ax2.set_ylabel('Total Attack', color='r')\n",
    "#ax1.set_xticklabels(key, rotation='vertical', size=8)\n",
    "\n"
   ]
  },
  {
   "cell_type": "code",
   "execution_count": null,
   "id": "db7cd8f0",
   "metadata": {
    "scrolled": true
   },
   "outputs": [],
   "source": [
    "df[\"Type 1\"]"
   ]
  },
  {
   "cell_type": "code",
   "execution_count": null,
   "id": "42b890d7",
   "metadata": {
    "scrolled": true
   },
   "outputs": [],
   "source": [
    "total_hp"
   ]
  },
  {
   "cell_type": "code",
   "execution_count": null,
   "id": "abeeebf1",
   "metadata": {},
   "outputs": [],
   "source": [
    "key = [a for a, df in df.groupby(['Type 1'])]"
   ]
  },
  {
   "cell_type": "code",
   "execution_count": null,
   "id": "a4e0d052",
   "metadata": {},
   "outputs": [],
   "source": [
    "key"
   ]
  },
  {
   "cell_type": "markdown",
   "id": "6307d36e",
   "metadata": {},
   "source": [
    "## Assessment 1: Tax Data Analysis using Pandas"
   ]
  },
  {
   "cell_type": "code",
   "execution_count": null,
   "id": "f7fd74e1",
   "metadata": {},
   "outputs": [],
   "source": []
  },
  {
   "cell_type": "code",
   "execution_count": null,
   "id": "8e0920cd",
   "metadata": {},
   "outputs": [],
   "source": []
  },
  {
   "cell_type": "markdown",
   "id": "2fb4f64e",
   "metadata": {},
   "source": [
    "### Univariate Analysis"
   ]
  },
  {
   "cell_type": "code",
   "execution_count": null,
   "id": "cbfe8145",
   "metadata": {},
   "outputs": [],
   "source": []
  },
  {
   "cell_type": "code",
   "execution_count": null,
   "id": "2dc8a582",
   "metadata": {},
   "outputs": [],
   "source": []
  }
 ],
 "metadata": {
  "kernelspec": {
   "display_name": "Python 3 (ipykernel)",
   "language": "python",
   "name": "python3"
  },
  "language_info": {
   "codemirror_mode": {
    "name": "ipython",
    "version": 3
   },
   "file_extension": ".py",
   "mimetype": "text/x-python",
   "name": "python",
   "nbconvert_exporter": "python",
   "pygments_lexer": "ipython3",
   "version": "3.9.13"
  }
 },
 "nbformat": 4,
 "nbformat_minor": 5
}
